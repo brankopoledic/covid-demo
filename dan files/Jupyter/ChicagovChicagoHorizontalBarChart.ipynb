{
 "cells": [
  {
   "cell_type": "code",
   "execution_count": 1,
   "metadata": {},
   "outputs": [],
   "source": [
    "# Dependencies\n",
    "import json\n",
    "import requests\n",
    "import pandas as pd\n",
    "import matplotlib.pyplot as plt\n",
    "import numpy as np\n",
    "from matplotlib.pyplot import figure"
   ]
  },
  {
   "cell_type": "code",
   "execution_count": 7,
   "metadata": {},
   "outputs": [
    {
     "data": {
      "text/html": [
       "<div>\n",
       "<style scoped>\n",
       "    .dataframe tbody tr th:only-of-type {\n",
       "        vertical-align: middle;\n",
       "    }\n",
       "\n",
       "    .dataframe tbody tr th {\n",
       "        vertical-align: top;\n",
       "    }\n",
       "\n",
       "    .dataframe thead th {\n",
       "        text-align: right;\n",
       "    }\n",
       "</style>\n",
       "<table border=\"1\" class=\"dataframe\">\n",
       "  <thead>\n",
       "    <tr style=\"text-align: right;\">\n",
       "      <th></th>\n",
       "      <th>White Deaths</th>\n",
       "      <th>Black Deaths</th>\n",
       "      <th>Latin Deaths</th>\n",
       "      <th>Asian Deaths</th>\n",
       "      <th>Other Deaths</th>\n",
       "      <th>Unknown Deaths</th>\n",
       "      <th>deaths_latinx</th>\n",
       "      <th>deaths_asian_non_latinx</th>\n",
       "      <th>deaths_black_non_latinx</th>\n",
       "      <th>deaths_white_non_latinx</th>\n",
       "      <th>deaths_other_non_latinx</th>\n",
       "      <th>deaths_unknown_race_eth</th>\n",
       "      <th>IL Total Deaths</th>\n",
       "      <th>Chicago Total Deaths</th>\n",
       "    </tr>\n",
       "  </thead>\n",
       "  <tbody>\n",
       "    <tr>\n",
       "      <th>0</th>\n",
       "      <td>3219</td>\n",
       "      <td>1998</td>\n",
       "      <td>1491</td>\n",
       "      <td>346</td>\n",
       "      <td>70</td>\n",
       "      <td>303</td>\n",
       "      <td>870</td>\n",
       "      <td>119</td>\n",
       "      <td>1171</td>\n",
       "      <td>525</td>\n",
       "      <td>20</td>\n",
       "      <td>14</td>\n",
       "      <td>7427</td>\n",
       "      <td>2719</td>\n",
       "    </tr>\n",
       "  </tbody>\n",
       "</table>\n",
       "</div>"
      ],
      "text/plain": [
       "   White Deaths  Black Deaths  Latin Deaths  Asian Deaths  Other Deaths  \\\n",
       "0          3219          1998          1491           346            70   \n",
       "\n",
       "   Unknown Deaths  deaths_latinx  deaths_asian_non_latinx  \\\n",
       "0             303            870                      119   \n",
       "\n",
       "   deaths_black_non_latinx  deaths_white_non_latinx  deaths_other_non_latinx  \\\n",
       "0                     1171                      525                       20   \n",
       "\n",
       "   deaths_unknown_race_eth  IL Total Deaths  Chicago Total Deaths  \n",
       "0                       14             7427                  2719  "
      ]
     },
     "execution_count": 7,
     "metadata": {},
     "output_type": "execute_result"
    }
   ],
   "source": [
    "excel_data_df = pd.read_excel('DeathsCombined.xlsx')\n",
    "ildf = pd.DataFrame(excel_data_df)\n",
    "ildf.head()"
   ]
  },
  {
   "cell_type": "code",
   "execution_count": 3,
   "metadata": {},
   "outputs": [],
   "source": [
    "# Case by race dataframe\n",
    "case_by_race_df = ildf[[ \"IL Total Deaths\",\n",
    "                       \"Chicago Total Deaths\"]]\n",
    "\n",
    "# Clean the data by dropping empty row\n",
    "case_by_race_df = case_by_race_df.dropna(how = \"any\")"
   ]
  },
  {
   "cell_type": "code",
   "execution_count": 6,
   "metadata": {},
   "outputs": [
    {
     "data": {
      "text/plain": [
       "Text(0.5, 0, 'Total Number of Deaths')"
      ]
     },
     "execution_count": 6,
     "metadata": {},
     "output_type": "execute_result"
    },
    {
     "data": {
      "image/png": "[encoded data removed]",
      "text/plain": [
       "<Figure size 432x288 with 1 Axes>"
      ]
     },
     "metadata": {
      "needs_background": "light"
     },
     "output_type": "display_data"
    }
   ],
   "source": [
    "crp = case_by_race_df.plot(kind='barh', color = ['cadetblue', 'greenyellow'])\n",
    "plt.title('Illinois and Chicago Death Totals Compared')\n",
    "plt.xlabel('Total Number of Deaths')"
   ]
  },
  {
   "cell_type": "code",
   "execution_count": null,
   "metadata": {},
   "outputs": [],
   "source": []
  }
 ],
 "metadata": {
  "kernelspec": {
   "display_name": "Python 3.8.0 64-bit",
   "language": "python",
   "name": "python38064bitbc031135128844ce8eaae887c3a4dc48"
  },
  "language_info": {
   "codemirror_mode": {
    "name": "ipython",
    "version": 3
   },
   "file_extension": ".py",
   "mimetype": "text/x-python",
   "name": "python",
   "nbconvert_exporter": "python",
   "pygments_lexer": "ipython3",
   "version": "3.8.0"
  }
 },
 "nbformat": 4,
 "nbformat_minor": 4
}
