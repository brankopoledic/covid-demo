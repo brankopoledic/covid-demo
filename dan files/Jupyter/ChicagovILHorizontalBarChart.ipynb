{
 "cells": [
  {
   "cell_type": "code",
   "execution_count": 15,
   "metadata": {},
   "outputs": [
    {
     "data": {
      "text/plain": [
       "<Figure size 640x480 with 0 Axes>"
      ]
     },
     "execution_count": 15,
     "metadata": {},
     "output_type": "execute_result"
    },
    {
     "data": {
      "text/plain": [
       "<Figure size 640x480 with 0 Axes>"
      ]
     },
     "metadata": {},
     "output_type": "display_data"
    }
   ],
   "source": [
    "# Dependencies\n",
    "import json\n",
    "import requests\n",
    "import pandas as pd\n",
    "import matplotlib.pyplot as plt\n",
    "import numpy as np\n",
    "from matplotlib.pyplot import figure"
   ]
  },
  {
   "cell_type": "code",
   "execution_count": 126,
   "metadata": {},
   "outputs": [
    {
     "data": {
      "text/html": [
       "<div>\n",
       "<style scoped>\n",
       "    .dataframe tbody tr th:only-of-type {\n",
       "        vertical-align: middle;\n",
       "    }\n",
       "\n",
       "    .dataframe tbody tr th {\n",
       "        vertical-align: top;\n",
       "    }\n",
       "\n",
       "    .dataframe thead th {\n",
       "        text-align: right;\n",
       "    }\n",
       "</style>\n",
       "<table border=\"1\" class=\"dataframe\">\n",
       "  <thead>\n",
       "    <tr style=\"text-align: right;\">\n",
       "      <th></th>\n",
       "      <th>Unnamed: 0</th>\n",
       "      <th>White Cases</th>\n",
       "      <th>Black Cases</th>\n",
       "      <th>Latin Cases</th>\n",
       "      <th>Asian Cases</th>\n",
       "      <th>Other Cases</th>\n",
       "      <th>Unknown Cases</th>\n",
       "      <th>cases_latinx</th>\n",
       "      <th>cases_asian_non_latinx</th>\n",
       "      <th>cases_black_non_latinx</th>\n",
       "      <th>cases_white_non_latinx</th>\n",
       "      <th>cases_other_non_latinx</th>\n",
       "      <th>cases_unknown_race_eth</th>\n",
       "      <th>IL Total Cases</th>\n",
       "      <th>Chicago Total Cases</th>\n",
       "    </tr>\n",
       "  </thead>\n",
       "  <tbody>\n",
       "    <tr>\n",
       "      <th>0</th>\n",
       "      <td>Totals</td>\n",
       "      <td>34463</td>\n",
       "      <td>26330</td>\n",
       "      <td>49483</td>\n",
       "      <td>4373</td>\n",
       "      <td>6445</td>\n",
       "      <td>36731</td>\n",
       "      <td>21289</td>\n",
       "      <td>1223</td>\n",
       "      <td>13500</td>\n",
       "      <td>6819</td>\n",
       "      <td>2314</td>\n",
       "      <td>11238</td>\n",
       "      <td>157825</td>\n",
       "      <td>56383</td>\n",
       "    </tr>\n",
       "  </tbody>\n",
       "</table>\n",
       "</div>"
      ],
      "text/plain": [
       "  Unnamed: 0  White Cases  Black Cases  Latin Cases  Asian Cases  Other Cases  \\\n",
       "0     Totals        34463        26330        49483         4373         6445   \n",
       "\n",
       "   Unknown Cases  cases_latinx  cases_asian_non_latinx  \\\n",
       "0          36731         21289                    1223   \n",
       "\n",
       "   cases_black_non_latinx  cases_white_non_latinx  cases_other_non_latinx  \\\n",
       "0                   13500                    6819                    2314   \n",
       "\n",
       "   cases_unknown_race_eth  IL Total Cases  Chicago Total Cases  \n",
       "0                   11238          157825                56383  "
      ]
     },
     "execution_count": 126,
     "metadata": {},
     "output_type": "execute_result"
    }
   ],
   "source": [
    "excel_data_df = pd.read_excel('CasesCombined.xlsx')\n",
    "ildf = pd.DataFrame(excel_data_df)\n",
    "ildf.head()"
   ]
  },
  {
   "cell_type": "code",
   "execution_count": 128,
   "metadata": {},
   "outputs": [],
   "source": [
    "# Case by race dataframe\n",
    "case_by_race_df = ildf[[ \"IL Total Cases\",\n",
    "                       \"Chicago Total Cases\"]]\n",
    "\n",
    "# Clean the data by dropping empty row\n",
    "case_by_race_df = case_by_race_df.dropna(how = \"any\")"
   ]
  },
  {
   "cell_type": "code",
   "execution_count": 129,
   "metadata": {},
   "outputs": [
    {
     "data": {
      "text/plain": [
       "Text(0.5, 0, 'Total Number of Cases')"
      ]
     },
     "execution_count": 129,
     "metadata": {},
     "output_type": "execute_result"
    },
    {
     "data": {
      "image/png": "[encoded data removed]",
      "text/plain": [
       "<Figure size 432x288 with 1 Axes>"
      ]
     },
     "metadata": {
      "needs_background": "light"
     },
     "output_type": "display_data"
    }
   ],
   "source": [
    "crp = case_by_race_df.plot(kind='barh', color = ['darksalmon', 'midnightblue'])\n",
    "plt.title('Illinois and Chicago Case Totals Compared')\n",
    "plt.xlabel('Total Number of Cases')"
   ]
  },
  {
   "cell_type": "markdown",
   "metadata": {},
   "source": [
    "crp = case_by_race_df.plot(kind='barh')\n",
    "plt.title('Chicago and Illinois Case Totals Compared')\n",
    "plt.xlabel('Total Number of Cases')\n",
    "y_labels = [56383, 157825]"
   ]
  },
  {
   "cell_type": "code",
   "execution_count": 130,
   "metadata": {},
   "outputs": [],
   "source": [
    "# Case by race dataframe\n",
    "case2_by_race_df = ildf[[ \"cases_latinx\",\n",
    "                      \"cases_black_non_latinx\",\n",
    "                      \"cases_white_non_latinx\",\n",
    "                      \"cases_other_non_latinx\",\n",
    "                     \"cases_asian_non_latinx\",\n",
    "                        \"White Cases\",\n",
    "                      \"Black Cases\",\n",
    "                        \"Latin Cases\",\n",
    "                      \"Asian Cases\",\n",
    "                       \"Other Cases\",]]\n",
    "\n",
    "# Clean the data by dropping empty row\n",
    "case2_by_race_df = case2_by_race_df.dropna(how = \"any\")"
   ]
  },
  {
   "cell_type": "code",
   "execution_count": 131,
   "metadata": {},
   "outputs": [
    {
     "data": {
      "text/plain": [
       "<matplotlib.legend.Legend at 0x2f064ca4070>"
      ]
     },
     "execution_count": 131,
     "metadata": {},
     "output_type": "execute_result"
    },
    {
     "data": {
      "image/png": "[encoded data removed]",
      "text/plain": [
       "<Figure size 432x288 with 1 Axes>"
      ]
     },
     "metadata": {
      "needs_background": "light"
     },
     "output_type": "display_data"
    }
   ],
   "source": [
    "crpp = case2_by_race_df.plot(kind='barh', color = ['gold','goldenrod','yellow','orange','darkorange', 'turquoise','green','lightseagreen','darkblue','cornflowerblue'])\n",
    "plt.title('Illinois and Chicago Racial Bar Charts')\n",
    "plt.xlabel('Total Number of Cases')\n",
    "plt.legend(loc = 'lower right',prop={'size': 7})"
   ]
  },
  {
   "cell_type": "code",
   "execution_count": 70,
   "metadata": {
    "scrolled": true
   },
   "outputs": [
    {
     "name": "stdout",
     "output_type": "stream",
     "text": [
      "   cases_latinx  cases_black_non_latinx  Chicago White Cases  \\\n",
      "0         21289                   13500                 6819   \n",
      "\n",
      "   cases_other_non_latinx  cases_asian_non_latinx  IL White Cases  \\\n",
      "0                    2314                    1223           34463   \n",
      "\n",
      "   Black Cases  Latin Cases  Asian Cases  Other Cases  \n",
      "0        26330        49483         4373         6445  \n"
     ]
    }
   ],
   "source": [
    "a = print(case2_by_race_df.rename(columns={'White Cases': 'IL White Cases', 'cases_white_non_latinx': 'Chicago White Cases'}))"
   ]
  },
  {
   "cell_type": "code",
   "execution_count": 72,
   "metadata": {},
   "outputs": [
    {
     "data": {
      "text/plain": [
       "<matplotlib.legend.Legend at 0x2f063305670>"
      ]
     },
     "execution_count": 72,
     "metadata": {},
     "output_type": "execute_result"
    },
    {
     "data": {
      "image/png": "[encoded data removed]",
      "text/plain": [
       "<Figure size 432x288 with 1 Axes>"
      ]
     },
     "metadata": {
      "needs_background": "light"
     },
     "output_type": "display_data"
    }
   ],
   "source": [
    "case2_by_race_df.plot(kind='barh', color = ['darksalmon','darksalmon','darksalmon','darksalmon','darksalmon', 'midnightblue','midnightblue','midnightblue','midnightblue','midnightblue'])\n",
    "plt.title('Illinois and Chicago Racial Bar Charts')\n",
    "plt.xlabel('Total Number of Cases')\n",
    "plt.legend(loc = 'lower right',prop={'size': 7})"
   ]
  },
  {
   "cell_type": "code",
   "execution_count": 74,
   "metadata": {},
   "outputs": [
    {
     "name": "stdout",
     "output_type": "stream",
     "text": [
      "   Chicago Latin Cases  Chicago Black Cases  Chicago White Cases  \\\n",
      "0                21289                13500                 6819   \n",
      "\n",
      "   Chicago Other Cases  Chicago Asian Cases  Illinois White Cases  \\\n",
      "0                 2314                 1223                 34463   \n",
      "\n",
      "   Illinois Black Cases  Illinois Latin Cases  Illinois Asian Cases  \\\n",
      "0                 26330                 49483                  4373   \n",
      "\n",
      "   Illinois Other Cases  \n",
      "0                  6445  \n"
     ]
    }
   ],
   "source": [
    "case2_by_race_dfnew = case2_by_race_df.rename(columns={\"cases_latinx\":'Chicago Latin Cases',\n",
    "                      \"cases_black_non_latinx\":\"Chicago Black Cases\",\n",
    "                      \"cases_white_non_latinx\":\"Chicago White Cases\",\n",
    "                      \"cases_other_non_latinx\":\"Chicago Other Cases\",\n",
    "                     \"cases_asian_non_latinx\":\"Chicago Asian Cases\",\n",
    "                        \"White Cases\":\"Illinois White Cases\",\n",
    "                      \"Black Cases\":\"Illinois Black Cases\",\n",
    "                        \"Latin Cases\":\"Illinois Latin Cases\",\n",
    "                      \"Asian Cases\":\"Illinois Asian Cases\",\n",
    "                       \"Other Cases\":\"Illinois Other Cases\"})\n",
    "print(case2_by_race_dfnew)"
   ]
  },
  {
   "cell_type": "code",
   "execution_count": 107,
   "metadata": {},
   "outputs": [
    {
     "data": {
      "text/plain": [
       "<AxesSubplot:xlabel='Illinois White Cases'>"
      ]
     },
     "execution_count": 107,
     "metadata": {},
     "output_type": "execute_result"
    },
    {
     "data": {
      "image/png": "[encoded data removed]",
      "text/plain": [
       "<Figure size 432x288 with 1 Axes>"
      ]
     },
     "metadata": {
      "needs_background": "light"
     },
     "output_type": "display_data"
    }
   ],
   "source": [
    "case2_by_race_dfnew.plot(x ='Illinois White Cases', y='Chicago Black Cases', kind = 'line')"
   ]
  },
  {
   "cell_type": "code",
   "execution_count": 99,
   "metadata": {},
   "outputs": [
    {
     "name": "stdout",
     "output_type": "stream",
     "text": [
      "Chicago Latin Cases     21289\n",
      "Chicago Black Cases     13500\n",
      "Chicago White Cases      6819\n",
      "Chicago Other Cases      2314\n",
      "Chicago Asian Cases      1223\n",
      "Illinois White Cases    34463\n",
      "Illinois Black Cases    26330\n",
      "Illinois Latin Cases    49483\n",
      "Illinois Asian Cases     4373\n",
      "Illinois Other Cases     6445\n",
      "Name: 0, dtype: int64\n"
     ]
    }
   ],
   "source": [
    "bbb = print(case2_by_race_dfnew.iloc[ 0 , : ])"
   ]
  },
  {
   "cell_type": "code",
   "execution_count": 112,
   "metadata": {},
   "outputs": [],
   "source": [
    "case2_by_race_dfnew.to_csv(r'\\Users\\dakar\\Desktop\\bbb.csv')"
   ]
  },
  {
   "cell_type": "code",
   "execution_count": 117,
   "metadata": {},
   "outputs": [
    {
     "data": {
      "text/plain": [
       "<AxesSubplot:>"
      ]
     },
     "execution_count": 117,
     "metadata": {},
     "output_type": "execute_result"
    },
    {
     "data": {
      "image/png": "[encoded data removed]",
      "text/plain": [
       "<Figure size 432x288 with 1 Axes>"
      ]
     },
     "metadata": {
      "needs_background": "light"
     },
     "output_type": "display_data"
    }
   ],
   "source": [
    "case2_by_race_dfnew.plot()"
   ]
  },
  {
   "cell_type": "code",
   "execution_count": null,
   "metadata": {},
   "outputs": [],
   "source": []
  }
 ],
 "metadata": {
  "kernelspec": {
   "display_name": "Python 3.8.0 64-bit",
   "language": "python",
   "name": "python38064bitbc031135128844ce8eaae887c3a4dc48"
  },
  "language_info": {
   "codemirror_mode": {
    "name": "ipython",
    "version": 3
   },
   "file_extension": ".py",
   "mimetype": "text/x-python",
   "name": "python",
   "nbconvert_exporter": "python",
   "pygments_lexer": "ipython3",
   "version": "3.8.0"
  }
 },
 "nbformat": 4,
 "nbformat_minor": 4
}
