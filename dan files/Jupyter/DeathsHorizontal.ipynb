{
 "cells": [
  {
   "cell_type": "code",
   "execution_count": 2,
   "metadata": {},
   "outputs": [],
   "source": [
    "import json\n",
    "import requests\n",
    "import pandas as pd\n",
    "import matplotlib.pyplot as plt\n",
    "import numpy as np\n",
    "import xlrd"
   ]
  },
  {
   "cell_type": "code",
   "execution_count": 4,
   "metadata": {},
   "outputs": [
    {
     "data": {
      "text/html": [
       "<div>\n",
       "<style scoped>\n",
       "    .dataframe tbody tr th:only-of-type {\n",
       "        vertical-align: middle;\n",
       "    }\n",
       "\n",
       "    .dataframe tbody tr th {\n",
       "        vertical-align: top;\n",
       "    }\n",
       "\n",
       "    .dataframe thead th {\n",
       "        text-align: right;\n",
       "    }\n",
       "</style>\n",
       "<table border=\"1\" class=\"dataframe\">\n",
       "  <thead>\n",
       "    <tr style=\"text-align: right;\">\n",
       "      <th></th>\n",
       "      <th>White Deaths</th>\n",
       "      <th>Black Deaths</th>\n",
       "      <th>Latin Deaths</th>\n",
       "      <th>Asian Deaths</th>\n",
       "      <th>Other Deaths</th>\n",
       "      <th>Unknown Deaths</th>\n",
       "    </tr>\n",
       "  </thead>\n",
       "  <tbody>\n",
       "    <tr>\n",
       "      <th>0</th>\n",
       "      <td>3219</td>\n",
       "      <td>1998</td>\n",
       "      <td>1491</td>\n",
       "      <td>346</td>\n",
       "      <td>70</td>\n",
       "      <td>303</td>\n",
       "    </tr>\n",
       "  </tbody>\n",
       "</table>\n",
       "</div>"
      ],
      "text/plain": [
       "   White Deaths  Black Deaths  Latin Deaths  Asian Deaths  Other Deaths  \\\n",
       "0          3219          1998          1491           346            70   \n",
       "\n",
       "   Unknown Deaths  \n",
       "0             303  "
      ]
     },
     "execution_count": 4,
     "metadata": {},
     "output_type": "execute_result"
    }
   ],
   "source": [
    "excel_data_df = pd.read_excel('DeathsHorizontal.xlsx')\n",
    "ildf = pd.DataFrame(excel_data_df)\n",
    "ildf.head()"
   ]
  },
  {
   "cell_type": "code",
   "execution_count": 5,
   "metadata": {},
   "outputs": [],
   "source": [
    "# Case by race dataframe\n",
    "death_by_race_df = ildf[[\"White Deaths\",\n",
    "                       \"Asian Deaths\",\n",
    "                        \"Black Deaths\",\n",
    "                         \"Latin Deaths\",\n",
    "                         \"Other Deaths\",]]\n",
    "\n",
    "# Clean the data by dropping empty row\n",
    "death_by_race_df = death_by_race_df.dropna(how = \"any\")"
   ]
  },
  {
   "cell_type": "code",
   "execution_count": 6,
   "metadata": {},
   "outputs": [
    {
     "data": {
      "text/plain": [
       "Text(0.5, 0, 'Total # of Deaths')"
      ]
     },
     "execution_count": 6,
     "metadata": {},
     "output_type": "execute_result"
    },
    {
     "data": {
      "image/png": "[encoded data removed]",
      "text/plain": [
       "<Figure size 432x288 with 1 Axes>"
      ]
     },
     "metadata": {
      "needs_background": "light"
     },
     "output_type": "display_data"
    }
   ],
   "source": [
    "death_by_race_df.plot(kind='barh', color=['cadetblue', 'orange', 'yellow', 'midnightblue', 'black'])\n",
    "plt.title('Illinois Deaths by Race')\n",
    "plt.xlabel('Total # of Deaths')\n"
   ]
  },
  {
   "cell_type": "code",
   "execution_count": null,
   "metadata": {},
   "outputs": [],
   "source": []
  }
 ],
 "metadata": {
  "kernelspec": {
   "display_name": "Python 3.8.0 64-bit",
   "language": "python",
   "name": "python38064bitbc031135128844ce8eaae887c3a4dc48"
  },
  "language_info": {
   "codemirror_mode": {
    "name": "ipython",
    "version": 3
   },
   "file_extension": ".py",
   "mimetype": "text/x-python",
   "name": "python",
   "nbconvert_exporter": "python",
   "pygments_lexer": "ipython3",
   "version": "3.8.0"
  }
 },
 "nbformat": 4,
 "nbformat_minor": 4
}
