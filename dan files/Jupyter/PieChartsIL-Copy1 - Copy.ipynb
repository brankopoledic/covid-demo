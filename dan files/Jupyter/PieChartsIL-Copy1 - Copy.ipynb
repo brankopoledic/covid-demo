{
 "cells": [
  {
   "cell_type": "code",
   "execution_count": 2,
   "metadata": {},
   "outputs": [],
   "source": [
    "import json\n",
    "import requests\n",
    "import pandas as pd\n",
    "import matplotlib.pyplot as plt\n",
    "import numpy as np\n",
    "import xlrd"
   ]
  },
  {
   "cell_type": "code",
   "execution_count": 6,
   "metadata": {},
   "outputs": [
    {
     "data": {
      "text/html": [
       "<div>\n",
       "<style scoped>\n",
       "    .dataframe tbody tr th:only-of-type {\n",
       "        vertical-align: middle;\n",
       "    }\n",
       "\n",
       "    .dataframe tbody tr th {\n",
       "        vertical-align: top;\n",
       "    }\n",
       "\n",
       "    .dataframe thead th {\n",
       "        text-align: right;\n",
       "    }\n",
       "</style>\n",
       "<table border=\"1\" class=\"dataframe\">\n",
       "  <thead>\n",
       "    <tr style=\"text-align: right;\">\n",
       "      <th></th>\n",
       "      <th>Date</th>\n",
       "      <th>State</th>\n",
       "      <th>Cases_Total</th>\n",
       "      <th>Cases_White</th>\n",
       "      <th>Cases_Black</th>\n",
       "      <th>Cases_LatinX</th>\n",
       "      <th>Cases_Asian</th>\n",
       "      <th>Cases_AIAN</th>\n",
       "      <th>Cases_NHPI</th>\n",
       "      <th>Cases_Other</th>\n",
       "      <th>...</th>\n",
       "      <th>Deaths_Black</th>\n",
       "      <th>Deaths_LatinX</th>\n",
       "      <th>Deaths_Asian</th>\n",
       "      <th>Deaths_AIAN</th>\n",
       "      <th>Deaths_NHPI</th>\n",
       "      <th>Deaths_Other</th>\n",
       "      <th>Deaths_Unknown</th>\n",
       "      <th>Deaths_Ethnicity_Hispanic</th>\n",
       "      <th>Deaths_Ethnicity_NonHispanic</th>\n",
       "      <th>Deaths_Ethnicity_Unknown</th>\n",
       "    </tr>\n",
       "  </thead>\n",
       "  <tbody>\n",
       "    <tr>\n",
       "      <th>0</th>\n",
       "      <td>2020-07-15</td>\n",
       "      <td>IL</td>\n",
       "      <td>157825</td>\n",
       "      <td>34463</td>\n",
       "      <td>26330</td>\n",
       "      <td>49483</td>\n",
       "      <td>4373</td>\n",
       "      <td>228</td>\n",
       "      <td>390</td>\n",
       "      <td>5827</td>\n",
       "      <td>...</td>\n",
       "      <td>1998</td>\n",
       "      <td>1491</td>\n",
       "      <td>346</td>\n",
       "      <td>10</td>\n",
       "      <td>8</td>\n",
       "      <td>52</td>\n",
       "      <td>303</td>\n",
       "      <td>1491</td>\n",
       "      <td>5633</td>\n",
       "      <td>102</td>\n",
       "    </tr>\n",
       "    <tr>\n",
       "      <th>1</th>\n",
       "      <td>2020-07-12</td>\n",
       "      <td>IL</td>\n",
       "      <td>155048</td>\n",
       "      <td>33468</td>\n",
       "      <td>25828</td>\n",
       "      <td>48999</td>\n",
       "      <td>4317</td>\n",
       "      <td>226</td>\n",
       "      <td>385</td>\n",
       "      <td>5719</td>\n",
       "      <td>...</td>\n",
       "      <td>1990</td>\n",
       "      <td>1482</td>\n",
       "      <td>343</td>\n",
       "      <td>10</td>\n",
       "      <td>8</td>\n",
       "      <td>52</td>\n",
       "      <td>304</td>\n",
       "      <td>1482</td>\n",
       "      <td>5602</td>\n",
       "      <td>103</td>\n",
       "    </tr>\n",
       "    <tr>\n",
       "      <th>2</th>\n",
       "      <td>2020-07-08</td>\n",
       "      <td>IL</td>\n",
       "      <td>150554</td>\n",
       "      <td>31974</td>\n",
       "      <td>25072</td>\n",
       "      <td>48116</td>\n",
       "      <td>4249</td>\n",
       "      <td>225</td>\n",
       "      <td>384</td>\n",
       "      <td>5544</td>\n",
       "      <td>...</td>\n",
       "      <td>1967</td>\n",
       "      <td>1460</td>\n",
       "      <td>337</td>\n",
       "      <td>10</td>\n",
       "      <td>8</td>\n",
       "      <td>51</td>\n",
       "      <td>313</td>\n",
       "      <td>1460</td>\n",
       "      <td>5536</td>\n",
       "      <td>103</td>\n",
       "    </tr>\n",
       "    <tr>\n",
       "      <th>3</th>\n",
       "      <td>2020-07-05</td>\n",
       "      <td>IL</td>\n",
       "      <td>148373</td>\n",
       "      <td>31143</td>\n",
       "      <td>24691</td>\n",
       "      <td>47679</td>\n",
       "      <td>4209</td>\n",
       "      <td>224</td>\n",
       "      <td>379</td>\n",
       "      <td>5493</td>\n",
       "      <td>...</td>\n",
       "      <td>1958</td>\n",
       "      <td>1448</td>\n",
       "      <td>329</td>\n",
       "      <td>10</td>\n",
       "      <td>7</td>\n",
       "      <td>48</td>\n",
       "      <td>307</td>\n",
       "      <td>1448</td>\n",
       "      <td>5475</td>\n",
       "      <td>97</td>\n",
       "    </tr>\n",
       "    <tr>\n",
       "      <th>4</th>\n",
       "      <td>2020-07-01</td>\n",
       "      <td>IL</td>\n",
       "      <td>144013</td>\n",
       "      <td>30175</td>\n",
       "      <td>24191</td>\n",
       "      <td>46832</td>\n",
       "      <td>4163</td>\n",
       "      <td>219</td>\n",
       "      <td>373</td>\n",
       "      <td>5383</td>\n",
       "      <td>...</td>\n",
       "      <td>1934</td>\n",
       "      <td>1435</td>\n",
       "      <td>327</td>\n",
       "      <td>9</td>\n",
       "      <td>7</td>\n",
       "      <td>48</td>\n",
       "      <td>101</td>\n",
       "      <td>1435</td>\n",
       "      <td>5415</td>\n",
       "      <td>101</td>\n",
       "    </tr>\n",
       "  </tbody>\n",
       "</table>\n",
       "<p>5 rows × 26 columns</p>\n",
       "</div>"
      ],
      "text/plain": [
       "        Date State  Cases_Total  Cases_White  Cases_Black  Cases_LatinX  \\\n",
       "0 2020-07-15    IL       157825        34463        26330         49483   \n",
       "1 2020-07-12    IL       155048        33468        25828         48999   \n",
       "2 2020-07-08    IL       150554        31974        25072         48116   \n",
       "3 2020-07-05    IL       148373        31143        24691         47679   \n",
       "4 2020-07-01    IL       144013        30175        24191         46832   \n",
       "\n",
       "   Cases_Asian  Cases_AIAN  Cases_NHPI  Cases_Other  ...  Deaths_Black  \\\n",
       "0         4373         228         390         5827  ...          1998   \n",
       "1         4317         226         385         5719  ...          1990   \n",
       "2         4249         225         384         5544  ...          1967   \n",
       "3         4209         224         379         5493  ...          1958   \n",
       "4         4163         219         373         5383  ...          1934   \n",
       "\n",
       "   Deaths_LatinX  Deaths_Asian  Deaths_AIAN  Deaths_NHPI  Deaths_Other  \\\n",
       "0           1491           346           10            8            52   \n",
       "1           1482           343           10            8            52   \n",
       "2           1460           337           10            8            51   \n",
       "3           1448           329           10            7            48   \n",
       "4           1435           327            9            7            48   \n",
       "\n",
       "   Deaths_Unknown  Deaths_Ethnicity_Hispanic  Deaths_Ethnicity_NonHispanic  \\\n",
       "0             303                       1491                          5633   \n",
       "1             304                       1482                          5602   \n",
       "2             313                       1460                          5536   \n",
       "3             307                       1448                          5475   \n",
       "4             101                       1435                          5415   \n",
       "\n",
       "   Deaths_Ethnicity_Unknown  \n",
       "0                       102  \n",
       "1                       103  \n",
       "2                       103  \n",
       "3                        97  \n",
       "4                       101  \n",
       "\n",
       "[5 rows x 26 columns]"
      ]
     },
     "execution_count": 6,
     "metadata": {},
     "output_type": "execute_result"
    }
   ],
   "source": [
    "excel_data_df = pd.read_excel('ILCovid.xlsx')\n",
    "ildf = pd.DataFrame(excel_data_df)\n",
    "ildf.head()"
   ]
  },
  {
   "cell_type": "code",
   "execution_count": 7,
   "metadata": {},
   "outputs": [],
   "source": [
    "# Case by race dataframe\n",
    "case_by_race_df = ildf[[\"Date\",\n",
    "                      \"Cases_Total\",\n",
    "                      \"Cases_LatinX\",\n",
    "                      \"Cases_Asian\",\n",
    "                      \"Cases_Black\",\n",
    "                      \"Cases_White\",\n",
    "                      \"Cases_AIAN\",\n",
    "                      \"Cases_NHPI\",\n",
    "                       \"Cases_Other\"]]\n",
    "\n",
    "# Clean the data by dropping empty row\n",
    "case_by_race_df = case_by_race_df.dropna(how = \"any\")\n",
    "\n",
    "# Change data type from str to int\n",
    "cols = case_by_race_df.columns.drop(\"Date\")\n",
    "case_by_race_df[cols] = case_by_race_df[cols].apply(pd.to_numeric, errors='coerce')\n",
    "\n",
    "# Remove time from date&time variable\n",
    "case_by_race_df[\"Date\"] = pd.to_datetime(case_by_race_df[\"Date\"]).dt.date"
   ]
  },
  {
   "cell_type": "code",
   "execution_count": 8,
   "metadata": {},
   "outputs": [],
   "source": [
    "cul_latinx = case_by_race_df[\"Cases_LatinX\"].sum()\n",
    "cul_asian = case_by_race_df[\"Cases_Asian\"].sum()\n",
    "cul_black = case_by_race_df[\"Cases_Black\"].sum()\n",
    "cul_white = case_by_race_df[\"Cases_White\"].sum()\n",
    "cul_other = case_by_race_df[\"Cases_Other\"].sum()\n",
    "cul_aian = case_by_race_df[\"Cases_AIAN\"].sum()\n",
    "cul_nhpi = case_by_race_df[\"Cases_NHPI\"].sum()"
   ]
  },
  {
   "cell_type": "code",
   "execution_count": 9,
   "metadata": {},
   "outputs": [
    {
     "data": {
      "text/plain": [
       "(-1.1133921947488912,\n",
       " 1.1252578115465854,\n",
       " -1.122327564536462,\n",
       " 1.1107920725975817)"
      ]
     },
     "execution_count": 9,
     "metadata": {},
     "output_type": "execute_result"
    },
    {
     "data": {
      "image/png": "[encoded data removed]",
      "text/plain": [
       "<Figure size 640x480 with 1 Axes>"
      ]
     },
     "metadata": {},
     "output_type": "display_data"
    }
   ],
   "source": [
    "# Labels for the sections of our pie chart\n",
    "labels = [\"Latinx\", \"Asian\", \"Black\", \"White\", \"Other\", \"AIAN\", \"NHPI\"]\n",
    "\n",
    "# The values of each section of the pie chart\n",
    "sizes = [cul_latinx, cul_asian, cul_black, cul_white, cul_other, cul_aian, cul_nhpi]\n",
    "\n",
    "# The colors of each section of the pie chart\n",
    "colors = [\"green\", \"red\", \"blue\", \"olive\", \"cyan\", \"magenta\", \"blue\"]\n",
    "\n",
    "# Tells matplotlib to seperate the \"Humans\" section from the others\n",
    "explode = (0, 0, 0.1, 0, 0, 0, 0)\n",
    "\n",
    "# Creates the pie chart based upon the values above\n",
    "# Automatically finds the percentages of each part of the pie chart\n",
    "plt.pie(sizes, labels=labels, colors=colors,\n",
    "        autopct=\"%1.1f%%\", startangle=140)\n",
    "\n",
    "# Tells matplotlib that we want a pie chart with equal axes\n",
    "plt.axis(\"equal\")"
   ]
  },
  {
   "cell_type": "code",
   "execution_count": 10,
   "metadata": {},
   "outputs": [],
   "source": [
    "# death by race dataframe\n",
    "death_by_race_df = ildf[[\"Date\",\n",
    "                      \"Deaths_Total\",\n",
    "                      \"Deaths_LatinX\",\n",
    "                      \"Deaths_Asian\",\n",
    "                      \"Deaths_Black\",\n",
    "                      \"Deaths_White\",\n",
    "                      \"Deaths_AIAN\",\n",
    "                      \"Deaths_NHPI\",\n",
    "                       \"Deaths_Other\"]]\n",
    "\n",
    "# Clean the data by dropping empty row\n",
    "death_by_race_df = death_by_race_df.dropna(how = \"any\")\n",
    "\n",
    "# Change data type from str to int\n",
    "cols = death_by_race_df.columns.drop(\"Date\")\n",
    "death_by_race_df[cols] = death_by_race_df[cols].apply(pd.to_numeric, errors='coerce')\n",
    "\n",
    "# Remove time from date&time variable\n",
    "death_by_race_df[\"Date\"] = pd.to_datetime(death_by_race_df[\"Date\"]).dt.date"
   ]
  },
  {
   "cell_type": "code",
   "execution_count": 39,
   "metadata": {},
   "outputs": [
    {
     "ename": "SyntaxError",
     "evalue": "invalid syntax (<ipython-input-39-4d83d66fe5be>, line 1)",
     "output_type": "error",
     "traceback": [
      "\u001b[1;36m  File \u001b[1;32m\"<ipython-input-39-4d83d66fe5be>\"\u001b[1;36m, line \u001b[1;32m1\u001b[0m\n\u001b[1;33m    int((float)\"\"\"cul_latinx = death_by_race_df[\"Deaths_LatinX\"].sum()\"\"\")\u001b[0m\n\u001b[1;37m               ^\u001b[0m\n\u001b[1;31mSyntaxError\u001b[0m\u001b[1;31m:\u001b[0m invalid syntax\n"
     ]
    }
   ],
   "source": []
  },
  {
   "cell_type": "code",
   "execution_count": 37,
   "metadata": {},
   "outputs": [
    {
     "ename": "SyntaxError",
     "evalue": "invalid syntax (<ipython-input-37-6a93f635c1e2>, line 7)",
     "output_type": "error",
     "traceback": [
      "\u001b[1;36m  File \u001b[1;32m\"<ipython-input-37-6a93f635c1e2>\"\u001b[1;36m, line \u001b[1;32m7\u001b[0m\n\u001b[1;33m    cul_nhpi = death_by_race_df[\"Deaths_NHPI\"].sum()\"\"\")\u001b[0m\n\u001b[1;37m           ^\u001b[0m\n\u001b[1;31mSyntaxError\u001b[0m\u001b[1;31m:\u001b[0m invalid syntax\n"
     ]
    }
   ],
   "source": []
  },
  {
   "cell_type": "code",
   "execution_count": 50,
   "metadata": {},
   "outputs": [],
   "source": [
    "cul_latinx = death_by_race_df[\"Deaths_LatinX\"].sum(),\n",
    "cul_asian = death_by_race_df[\"Deaths_Asian\"].sum(),\n",
    "cul_black = death_by_race_df[\"Deaths_Black\"].sum(),\n",
    "cul_white = death_by_race_df[\"Deaths_White\"].sum()\n",
    "cul_other = death_by_race_df[\"Deaths_Other\"].sum(),\n",
    "cul_aian = death_by_race_df[\"Deaths_AIAN\"].sum(),\n",
    "cul_nhpi = death_by_race_df[\"Deaths_NHPI\"].sum()"
   ]
  },
  {
   "cell_type": "code",
   "execution_count": 40,
   "metadata": {},
   "outputs": [
    {
     "data": {
      "text/plain": [
       "(-1.1159478776377725,\n",
       " 1.128460017936587,\n",
       " -1.1129652858913752,\n",
       " 1.1181114071479594)"
      ]
     },
     "execution_count": 40,
     "metadata": {},
     "output_type": "execute_result"
    },
    {
     "data": {
      "image/png": "[encoded data removed]",
      "text/plain": [
       "<Figure size 640x480 with 1 Axes>"
      ]
     },
     "metadata": {},
     "output_type": "display_data"
    }
   ],
   "source": [
    "# Labels for the sections of our pie chart\n",
    "labels = [\"Latinx\", \"Asian\", \"Black\", \"White\", \"Other\", \"AIAN\", \"NHPI\"]\n",
    "\n",
    "# The values of each section of the pie chart\n",
    "sizes = [cul_latinx, cul_asian, cul_black, cul_white, cul_other, cul_aian, cul_nhpi]\n",
    "\n",
    "# The colors of each section of the pie chart\n",
    "colors = [\"green\", \"red\", \"blue\", \"olive\", \"cyan\", \"magenta\", \"blue\"]\n",
    "\n",
    "# Tells matplotlib to seperate the \"Humans\" section from the others\n",
    "explode = (0, 0, 0.1, 0, 0, 0, 0)\n",
    "\n",
    "# Creates the pie chart based upon the values above\n",
    "# Automatically finds the percentages of each part of the pie chart\n",
    "plt.pie(sizes, labels=labels, colors=colors,\n",
    "        autopct=\"%1.1f%%\", startangle=140)\n",
    "\n",
    "# Tells matplotlib that we want a pie chart with equal axes\n",
    "plt.axis(\"equal\")"
   ]
  },
  {
   "cell_type": "code",
   "execution_count": 42,
   "metadata": {},
   "outputs": [
    {
     "ename": "AttributeError",
     "evalue": "'str' object has no attribute 'to_csv'",
     "output_type": "error",
     "traceback": [
      "\u001b[1;31m---------------------------------------------------------------------------\u001b[0m",
      "\u001b[1;31mAttributeError\u001b[0m                            Traceback (most recent call last)",
      "\u001b[1;32m<ipython-input-42-78ecf0a0707d>\u001b[0m in \u001b[0;36m<module>\u001b[1;34m\u001b[0m\n\u001b[1;32m----> 1\u001b[1;33m \u001b[0mrace_race_df\u001b[0m\u001b[1;33m.\u001b[0m\u001b[0mto_csv\u001b[0m \u001b[1;33m(\u001b[0m\u001b[1;34mr'C:\\Users\\dakar\\Desktop\\cummulative.csv'\u001b[0m\u001b[1;33m,\u001b[0m \u001b[0mindex\u001b[0m \u001b[1;33m=\u001b[0m \u001b[1;32mFalse\u001b[0m\u001b[1;33m,\u001b[0m \u001b[0mheader\u001b[0m\u001b[1;33m=\u001b[0m\u001b[1;32mTrue\u001b[0m\u001b[1;33m)\u001b[0m\u001b[1;33m\u001b[0m\u001b[1;33m\u001b[0m\u001b[0m\n\u001b[0m",
      "\u001b[1;31mAttributeError\u001b[0m: 'str' object has no attribute 'to_csv'"
     ]
    }
   ],
   "source": []
  },
  {
   "cell_type": "code",
   "execution_count": 14,
   "metadata": {},
   "outputs": [
    {
     "data": {
      "image/png": "[encoded data removed]",
      "text/plain": [
       "<Figure size 640x480 with 1 Axes>"
      ]
     },
     "metadata": {},
     "output_type": "display_data"
    }
   ],
   "source": [
    "plt.rcdefaults()\n",
    "fig, ax = plt.subplots()\n",
    "\n",
    "# Example data\n",
    "people = ('Tom', 'Dick', 'Harry', 'Slim', 'Jim')\n",
    "y_pos = np.arange(len(people))\n",
    "performance = 3 + 10 * np.random.rand(len(people))\n",
    "error = np.random.rand(len(people))\n",
    "\n",
    "ax.barh(y_pos, performance, xerr=error, align='center')\n",
    "ax.set_yticks(y_pos)\n",
    "ax.set_yticklabels(people)\n",
    "ax.invert_yaxis()  # labels read top-to-bottom\n",
    "ax.set_xlabel('Performance')\n",
    "ax.set_title('How fast do you want to go today?')\n",
    "\n",
    "plt.show()"
   ]
  },
  {
   "cell_type": "code",
   "execution_count": null,
   "metadata": {},
   "outputs": [],
   "source": []
  },
  {
   "cell_type": "code",
   "execution_count": null,
   "metadata": {},
   "outputs": [],
   "source": []
  }
 ],
 "metadata": {
  "kernelspec": {
   "display_name": "Python 3.8.0 64-bit",
   "language": "python",
   "name": "python38064bitbc031135128844ce8eaae887c3a4dc48"
  },
  "language_info": {
   "codemirror_mode": {
    "name": "ipython",
    "version": 3
   },
   "file_extension": ".py",
   "mimetype": "text/x-python",
   "name": "python",
   "nbconvert_exporter": "python",
   "pygments_lexer": "ipython3",
   "version": "3.8.0"
  }
 },
 "nbformat": 4,
 "nbformat_minor": 4
}
