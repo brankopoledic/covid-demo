{
 "cells": [
  {
   "cell_type": "code",
   "execution_count": null,
   "metadata": {},
   "outputs": [],
   "source": [
    "# imports\n",
    "import plotly.graph_objs as go\n",
    "import numpy as np\n",
    "import pandas as pd\n",
    "# Define bar properties\n",
    "bar_heights = [10, 12, 15, 19, 25, 28, 31, 33, 43, 50, 64, 72, 88, 105]\n",
    "bins = [0, 25, 40, 80, 200]\n",
    "labels = [‘Ugly’, ‘Bad’, ‘Good’, ‘Great’]\n",
    "colors = {‘Ugly’: ‘red’,\n",
    "          ‘Bad’: ‘orange’,\n",
    "          ‘Good’: ‘lightgreen’,\n",
    "          ‘Great’: ‘darkgreen’}\n",
    "# Build dataframe\n",
    "df = pd.DataFrame({‘y’: bar_heights,\n",
    "                   ‘x’: range(len(bar_heights)),\n",
    "                   ‘label’: pd.cut(bar_heights, bins=bins, labels=labels)})\n",
    "df.head()\n",
    "11:47\n",
    "bars = []\n",
    "for label, label_df in df.groupby(‘label’):\n",
    "    bars.append(go.Bar(x=label_df.x,\n",
    "                       y=label_df.y,\n",
    "                       name=label,\n",
    "                       marker={‘color’: colors[label]}))\n",
    "go.FigureWidget(data=bars)"
   ]
  }
 ],
 "metadata": {
  "kernelspec": {
   "display_name": "Python 3.8.0 64-bit",
   "language": "python",
   "name": "python38064bitbc031135128844ce8eaae887c3a4dc48"
  },
  "language_info": {
   "codemirror_mode": {
    "name": "ipython",
    "version": 3
   },
   "file_extension": ".py",
   "mimetype": "text/x-python",
   "name": "python",
   "nbconvert_exporter": "python",
   "pygments_lexer": "ipython3",
   "version": "3.8.0"
  }
 },
 "nbformat": 4,
 "nbformat_minor": 4
}
