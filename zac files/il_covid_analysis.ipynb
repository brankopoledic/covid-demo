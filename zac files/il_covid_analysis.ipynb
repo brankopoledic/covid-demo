{
 "cells": [
  {
   "cell_type": "code",
   "execution_count": 1,
   "metadata": {},
   "outputs": [
    {
     "data": {
      "text/html": [
       "<div>\n",
       "<style scoped>\n",
       "    .dataframe tbody tr th:only-of-type {\n",
       "        vertical-align: middle;\n",
       "    }\n",
       "\n",
       "    .dataframe tbody tr th {\n",
       "        vertical-align: top;\n",
       "    }\n",
       "\n",
       "    .dataframe thead th {\n",
       "        text-align: right;\n",
       "    }\n",
       "</style>\n",
       "<table border=\"1\" class=\"dataframe\">\n",
       "  <thead>\n",
       "    <tr style=\"text-align: right;\">\n",
       "      <th></th>\n",
       "      <th>Date</th>\n",
       "      <th>State</th>\n",
       "      <th>Cases_Total</th>\n",
       "      <th>Cases_White</th>\n",
       "      <th>Cases_Black</th>\n",
       "      <th>Cases_LatinX</th>\n",
       "      <th>Cases_Asian</th>\n",
       "      <th>Cases_AIAN</th>\n",
       "      <th>Cases_NHPI</th>\n",
       "      <th>Cases_Other</th>\n",
       "      <th>...</th>\n",
       "      <th>Deaths_Black</th>\n",
       "      <th>Deaths_LatinX</th>\n",
       "      <th>Deaths_Asian</th>\n",
       "      <th>Deaths_AIAN</th>\n",
       "      <th>Deaths_NHPI</th>\n",
       "      <th>Deaths_Other</th>\n",
       "      <th>Deaths_Unknown</th>\n",
       "      <th>Deaths_Ethnicity_Hispanic</th>\n",
       "      <th>Deaths_Ethnicity_NonHispanic</th>\n",
       "      <th>Deaths_Ethnicity_Unknown</th>\n",
       "    </tr>\n",
       "  </thead>\n",
       "  <tbody>\n",
       "    <tr>\n",
       "      <td>0</td>\n",
       "      <td>7/15/2020</td>\n",
       "      <td>IL</td>\n",
       "      <td>2777</td>\n",
       "      <td>995</td>\n",
       "      <td>502</td>\n",
       "      <td>484</td>\n",
       "      <td>56</td>\n",
       "      <td>2</td>\n",
       "      <td>5</td>\n",
       "      <td>108</td>\n",
       "      <td>...</td>\n",
       "      <td>8</td>\n",
       "      <td>9</td>\n",
       "      <td>3</td>\n",
       "      <td>0</td>\n",
       "      <td>0</td>\n",
       "      <td>0</td>\n",
       "      <td>-1</td>\n",
       "      <td>9</td>\n",
       "      <td>31</td>\n",
       "      <td>-1</td>\n",
       "    </tr>\n",
       "    <tr>\n",
       "      <td>1</td>\n",
       "      <td>7/12/2020</td>\n",
       "      <td>IL</td>\n",
       "      <td>4494</td>\n",
       "      <td>1494</td>\n",
       "      <td>756</td>\n",
       "      <td>883</td>\n",
       "      <td>68</td>\n",
       "      <td>1</td>\n",
       "      <td>1</td>\n",
       "      <td>175</td>\n",
       "      <td>...</td>\n",
       "      <td>23</td>\n",
       "      <td>22</td>\n",
       "      <td>6</td>\n",
       "      <td>0</td>\n",
       "      <td>0</td>\n",
       "      <td>1</td>\n",
       "      <td>-9</td>\n",
       "      <td>22</td>\n",
       "      <td>66</td>\n",
       "      <td>0</td>\n",
       "    </tr>\n",
       "    <tr>\n",
       "      <td>2</td>\n",
       "      <td>7/8/2020</td>\n",
       "      <td>IL</td>\n",
       "      <td>2181</td>\n",
       "      <td>831</td>\n",
       "      <td>381</td>\n",
       "      <td>437</td>\n",
       "      <td>40</td>\n",
       "      <td>1</td>\n",
       "      <td>5</td>\n",
       "      <td>51</td>\n",
       "      <td>...</td>\n",
       "      <td>9</td>\n",
       "      <td>12</td>\n",
       "      <td>8</td>\n",
       "      <td>0</td>\n",
       "      <td>1</td>\n",
       "      <td>3</td>\n",
       "      <td>6</td>\n",
       "      <td>12</td>\n",
       "      <td>61</td>\n",
       "      <td>6</td>\n",
       "    </tr>\n",
       "    <tr>\n",
       "      <td>3</td>\n",
       "      <td>7/5/2020</td>\n",
       "      <td>IL</td>\n",
       "      <td>4360</td>\n",
       "      <td>968</td>\n",
       "      <td>500</td>\n",
       "      <td>847</td>\n",
       "      <td>46</td>\n",
       "      <td>5</td>\n",
       "      <td>6</td>\n",
       "      <td>110</td>\n",
       "      <td>...</td>\n",
       "      <td>24</td>\n",
       "      <td>13</td>\n",
       "      <td>2</td>\n",
       "      <td>1</td>\n",
       "      <td>0</td>\n",
       "      <td>0</td>\n",
       "      <td>206</td>\n",
       "      <td>13</td>\n",
       "      <td>60</td>\n",
       "      <td>-4</td>\n",
       "    </tr>\n",
       "    <tr>\n",
       "      <td>4</td>\n",
       "      <td>7/1/2020</td>\n",
       "      <td>IL</td>\n",
       "      <td>2290</td>\n",
       "      <td>670</td>\n",
       "      <td>417</td>\n",
       "      <td>619</td>\n",
       "      <td>44</td>\n",
       "      <td>5</td>\n",
       "      <td>7</td>\n",
       "      <td>22</td>\n",
       "      <td>...</td>\n",
       "      <td>11</td>\n",
       "      <td>18</td>\n",
       "      <td>2</td>\n",
       "      <td>0</td>\n",
       "      <td>1</td>\n",
       "      <td>-1</td>\n",
       "      <td>3</td>\n",
       "      <td>18</td>\n",
       "      <td>42</td>\n",
       "      <td>3</td>\n",
       "    </tr>\n",
       "    <tr>\n",
       "      <td>5</td>\n",
       "      <td>6/28/2020</td>\n",
       "      <td>IL</td>\n",
       "      <td>3183</td>\n",
       "      <td>1036</td>\n",
       "      <td>551</td>\n",
       "      <td>919</td>\n",
       "      <td>64</td>\n",
       "      <td>4</td>\n",
       "      <td>10</td>\n",
       "      <td>98</td>\n",
       "      <td>...</td>\n",
       "      <td>31</td>\n",
       "      <td>34</td>\n",
       "      <td>3</td>\n",
       "      <td>0</td>\n",
       "      <td>0</td>\n",
       "      <td>-1</td>\n",
       "      <td>48</td>\n",
       "      <td>34</td>\n",
       "      <td>90</td>\n",
       "      <td>-6</td>\n",
       "    </tr>\n",
       "    <tr>\n",
       "      <td>6</td>\n",
       "      <td>6/24/2020</td>\n",
       "      <td>IL</td>\n",
       "      <td>1778</td>\n",
       "      <td>568</td>\n",
       "      <td>282</td>\n",
       "      <td>647</td>\n",
       "      <td>60</td>\n",
       "      <td>-1</td>\n",
       "      <td>4</td>\n",
       "      <td>45</td>\n",
       "      <td>...</td>\n",
       "      <td>23</td>\n",
       "      <td>30</td>\n",
       "      <td>4</td>\n",
       "      <td>0</td>\n",
       "      <td>0</td>\n",
       "      <td>-1</td>\n",
       "      <td>-1</td>\n",
       "      <td>30</td>\n",
       "      <td>87</td>\n",
       "      <td>6</td>\n",
       "    </tr>\n",
       "    <tr>\n",
       "      <td>7</td>\n",
       "      <td>6/21/2020</td>\n",
       "      <td>IL</td>\n",
       "      <td>2577</td>\n",
       "      <td>1071</td>\n",
       "      <td>645</td>\n",
       "      <td>882</td>\n",
       "      <td>123</td>\n",
       "      <td>7</td>\n",
       "      <td>13</td>\n",
       "      <td>420</td>\n",
       "      <td>...</td>\n",
       "      <td>37</td>\n",
       "      <td>52</td>\n",
       "      <td>12</td>\n",
       "      <td>0</td>\n",
       "      <td>1</td>\n",
       "      <td>6</td>\n",
       "      <td>6</td>\n",
       "      <td>52</td>\n",
       "      <td>143</td>\n",
       "      <td>-33</td>\n",
       "    </tr>\n",
       "    <tr>\n",
       "      <td>8</td>\n",
       "      <td>6/17/2020</td>\n",
       "      <td>IL</td>\n",
       "      <td>1642</td>\n",
       "      <td>492</td>\n",
       "      <td>292</td>\n",
       "      <td>815</td>\n",
       "      <td>69</td>\n",
       "      <td>3</td>\n",
       "      <td>8</td>\n",
       "      <td>18</td>\n",
       "      <td>...</td>\n",
       "      <td>39</td>\n",
       "      <td>44</td>\n",
       "      <td>8</td>\n",
       "      <td>0</td>\n",
       "      <td>0</td>\n",
       "      <td>1</td>\n",
       "      <td>1</td>\n",
       "      <td>44</td>\n",
       "      <td>134</td>\n",
       "      <td>-1</td>\n",
       "    </tr>\n",
       "    <tr>\n",
       "      <td>9</td>\n",
       "      <td>6/14/2020</td>\n",
       "      <td>IL</td>\n",
       "      <td>2706</td>\n",
       "      <td>764</td>\n",
       "      <td>429</td>\n",
       "      <td>1229</td>\n",
       "      <td>87</td>\n",
       "      <td>-1</td>\n",
       "      <td>6</td>\n",
       "      <td>106</td>\n",
       "      <td>...</td>\n",
       "      <td>47</td>\n",
       "      <td>53</td>\n",
       "      <td>13</td>\n",
       "      <td>0</td>\n",
       "      <td>0</td>\n",
       "      <td>3</td>\n",
       "      <td>3</td>\n",
       "      <td>53</td>\n",
       "      <td>157</td>\n",
       "      <td>3</td>\n",
       "    </tr>\n",
       "    <tr>\n",
       "      <td>10</td>\n",
       "      <td>6/10/2020</td>\n",
       "      <td>IL</td>\n",
       "      <td>2080</td>\n",
       "      <td>554</td>\n",
       "      <td>383</td>\n",
       "      <td>867</td>\n",
       "      <td>53</td>\n",
       "      <td>5</td>\n",
       "      <td>5</td>\n",
       "      <td>51</td>\n",
       "      <td>...</td>\n",
       "      <td>42</td>\n",
       "      <td>36</td>\n",
       "      <td>6</td>\n",
       "      <td>0</td>\n",
       "      <td>0</td>\n",
       "      <td>0</td>\n",
       "      <td>0</td>\n",
       "      <td>36</td>\n",
       "      <td>151</td>\n",
       "      <td>4</td>\n",
       "    </tr>\n",
       "    <tr>\n",
       "      <td>11</td>\n",
       "      <td>6/7/2020</td>\n",
       "      <td>IL</td>\n",
       "      <td>3927</td>\n",
       "      <td>892</td>\n",
       "      <td>686</td>\n",
       "      <td>1515</td>\n",
       "      <td>107</td>\n",
       "      <td>4</td>\n",
       "      <td>19</td>\n",
       "      <td>127</td>\n",
       "      <td>...</td>\n",
       "      <td>58</td>\n",
       "      <td>74</td>\n",
       "      <td>13</td>\n",
       "      <td>1</td>\n",
       "      <td>0</td>\n",
       "      <td>-1</td>\n",
       "      <td>-1</td>\n",
       "      <td>74</td>\n",
       "      <td>203</td>\n",
       "      <td>6</td>\n",
       "    </tr>\n",
       "    <tr>\n",
       "      <td>12</td>\n",
       "      <td>6/3/2020</td>\n",
       "      <td>IL</td>\n",
       "      <td>3570</td>\n",
       "      <td>702</td>\n",
       "      <td>567</td>\n",
       "      <td>1632</td>\n",
       "      <td>91</td>\n",
       "      <td>2</td>\n",
       "      <td>7</td>\n",
       "      <td>76</td>\n",
       "      <td>...</td>\n",
       "      <td>58</td>\n",
       "      <td>44</td>\n",
       "      <td>9</td>\n",
       "      <td>0</td>\n",
       "      <td>1</td>\n",
       "      <td>3</td>\n",
       "      <td>3</td>\n",
       "      <td>44</td>\n",
       "      <td>188</td>\n",
       "      <td>-1</td>\n",
       "    </tr>\n",
       "    <tr>\n",
       "      <td>13</td>\n",
       "      <td>5/31/2020</td>\n",
       "      <td>IL</td>\n",
       "      <td>5954</td>\n",
       "      <td>1137</td>\n",
       "      <td>804</td>\n",
       "      <td>2338</td>\n",
       "      <td>146</td>\n",
       "      <td>9</td>\n",
       "      <td>12</td>\n",
       "      <td>241</td>\n",
       "      <td>...</td>\n",
       "      <td>71</td>\n",
       "      <td>66</td>\n",
       "      <td>10</td>\n",
       "      <td>1</td>\n",
       "      <td>0</td>\n",
       "      <td>3</td>\n",
       "      <td>3</td>\n",
       "      <td>66</td>\n",
       "      <td>243</td>\n",
       "      <td>-2</td>\n",
       "    </tr>\n",
       "    <tr>\n",
       "      <td>14</td>\n",
       "      <td>5/27/2020</td>\n",
       "      <td>IL</td>\n",
       "      <td>4002</td>\n",
       "      <td>630</td>\n",
       "      <td>530</td>\n",
       "      <td>1263</td>\n",
       "      <td>85</td>\n",
       "      <td>1</td>\n",
       "      <td>4</td>\n",
       "      <td>142</td>\n",
       "      <td>...</td>\n",
       "      <td>48</td>\n",
       "      <td>61</td>\n",
       "      <td>11</td>\n",
       "      <td>0</td>\n",
       "      <td>1</td>\n",
       "      <td>0</td>\n",
       "      <td>0</td>\n",
       "      <td>61</td>\n",
       "      <td>156</td>\n",
       "      <td>10</td>\n",
       "    </tr>\n",
       "    <tr>\n",
       "      <td>15</td>\n",
       "      <td>5/24/2020</td>\n",
       "      <td>IL</td>\n",
       "      <td>9886</td>\n",
       "      <td>1408</td>\n",
       "      <td>1093</td>\n",
       "      <td>3551</td>\n",
       "      <td>231</td>\n",
       "      <td>8</td>\n",
       "      <td>17</td>\n",
       "      <td>236</td>\n",
       "      <td>...</td>\n",
       "      <td>75</td>\n",
       "      <td>95</td>\n",
       "      <td>21</td>\n",
       "      <td>-2</td>\n",
       "      <td>0</td>\n",
       "      <td>-2</td>\n",
       "      <td>-2</td>\n",
       "      <td>95</td>\n",
       "      <td>234</td>\n",
       "      <td>2</td>\n",
       "    </tr>\n",
       "    <tr>\n",
       "      <td>16</td>\n",
       "      <td>5/20/2020</td>\n",
       "      <td>IL</td>\n",
       "      <td>6227</td>\n",
       "      <td>1033</td>\n",
       "      <td>896</td>\n",
       "      <td>2792</td>\n",
       "      <td>173</td>\n",
       "      <td>14</td>\n",
       "      <td>42</td>\n",
       "      <td>158</td>\n",
       "      <td>...</td>\n",
       "      <td>78</td>\n",
       "      <td>81</td>\n",
       "      <td>21</td>\n",
       "      <td>2</td>\n",
       "      <td>1</td>\n",
       "      <td>7</td>\n",
       "      <td>7</td>\n",
       "      <td>81</td>\n",
       "      <td>252</td>\n",
       "      <td>15</td>\n",
       "    </tr>\n",
       "    <tr>\n",
       "      <td>17</td>\n",
       "      <td>5/17/2020</td>\n",
       "      <td>IL</td>\n",
       "      <td>9493</td>\n",
       "      <td>1811</td>\n",
       "      <td>1582</td>\n",
       "      <td>4504</td>\n",
       "      <td>301</td>\n",
       "      <td>21</td>\n",
       "      <td>55</td>\n",
       "      <td>253</td>\n",
       "      <td>...</td>\n",
       "      <td>99</td>\n",
       "      <td>104</td>\n",
       "      <td>25</td>\n",
       "      <td>0</td>\n",
       "      <td>0</td>\n",
       "      <td>-5</td>\n",
       "      <td>-5</td>\n",
       "      <td>104</td>\n",
       "      <td>293</td>\n",
       "      <td>-12</td>\n",
       "    </tr>\n",
       "    <tr>\n",
       "      <td>18</td>\n",
       "      <td>5/13/2020</td>\n",
       "      <td>IL</td>\n",
       "      <td>6957</td>\n",
       "      <td>1017</td>\n",
       "      <td>665</td>\n",
       "      <td>2420</td>\n",
       "      <td>121</td>\n",
       "      <td>12</td>\n",
       "      <td>41</td>\n",
       "      <td>248</td>\n",
       "      <td>...</td>\n",
       "      <td>111</td>\n",
       "      <td>89</td>\n",
       "      <td>22</td>\n",
       "      <td>1</td>\n",
       "      <td>0</td>\n",
       "      <td>9</td>\n",
       "      <td>9</td>\n",
       "      <td>89</td>\n",
       "      <td>304</td>\n",
       "      <td>-7</td>\n",
       "    </tr>\n",
       "    <tr>\n",
       "      <td>19</td>\n",
       "      <td>5/10/2020</td>\n",
       "      <td>IL</td>\n",
       "      <td>9509</td>\n",
       "      <td>1581</td>\n",
       "      <td>1092</td>\n",
       "      <td>3599</td>\n",
       "      <td>205</td>\n",
       "      <td>27</td>\n",
       "      <td>50</td>\n",
       "      <td>376</td>\n",
       "      <td>...</td>\n",
       "      <td>108</td>\n",
       "      <td>97</td>\n",
       "      <td>23</td>\n",
       "      <td>1</td>\n",
       "      <td>-1</td>\n",
       "      <td>2</td>\n",
       "      <td>2</td>\n",
       "      <td>97</td>\n",
       "      <td>321</td>\n",
       "      <td>14</td>\n",
       "    </tr>\n",
       "    <tr>\n",
       "      <td>20</td>\n",
       "      <td>5/6/2020</td>\n",
       "      <td>IL</td>\n",
       "      <td>6733</td>\n",
       "      <td>1243</td>\n",
       "      <td>1037</td>\n",
       "      <td>2738</td>\n",
       "      <td>202</td>\n",
       "      <td>17</td>\n",
       "      <td>6</td>\n",
       "      <td>242</td>\n",
       "      <td>...</td>\n",
       "      <td>94</td>\n",
       "      <td>78</td>\n",
       "      <td>13</td>\n",
       "      <td>2</td>\n",
       "      <td>0</td>\n",
       "      <td>-5</td>\n",
       "      <td>-5</td>\n",
       "      <td>78</td>\n",
       "      <td>270</td>\n",
       "      <td>8</td>\n",
       "    </tr>\n",
       "    <tr>\n",
       "      <td>21</td>\n",
       "      <td>5/3/2020</td>\n",
       "      <td>IL</td>\n",
       "      <td>11144</td>\n",
       "      <td>1890</td>\n",
       "      <td>1390</td>\n",
       "      <td>3656</td>\n",
       "      <td>283</td>\n",
       "      <td>12</td>\n",
       "      <td>5</td>\n",
       "      <td>493</td>\n",
       "      <td>...</td>\n",
       "      <td>108</td>\n",
       "      <td>82</td>\n",
       "      <td>20</td>\n",
       "      <td>1</td>\n",
       "      <td>1</td>\n",
       "      <td>6</td>\n",
       "      <td>6</td>\n",
       "      <td>82</td>\n",
       "      <td>320</td>\n",
       "      <td>1</td>\n",
       "    </tr>\n",
       "    <tr>\n",
       "      <td>22</td>\n",
       "      <td>4/29/2020</td>\n",
       "      <td>IL</td>\n",
       "      <td>6452</td>\n",
       "      <td>1249</td>\n",
       "      <td>932</td>\n",
       "      <td>2103</td>\n",
       "      <td>195</td>\n",
       "      <td>5</td>\n",
       "      <td>10</td>\n",
       "      <td>197</td>\n",
       "      <td>...</td>\n",
       "      <td>84</td>\n",
       "      <td>52</td>\n",
       "      <td>15</td>\n",
       "      <td>0</td>\n",
       "      <td>0</td>\n",
       "      <td>5</td>\n",
       "      <td>5</td>\n",
       "      <td>52</td>\n",
       "      <td>222</td>\n",
       "      <td>8</td>\n",
       "    </tr>\n",
       "    <tr>\n",
       "      <td>23</td>\n",
       "      <td>4/26/2020</td>\n",
       "      <td>IL</td>\n",
       "      <td>8795</td>\n",
       "      <td>1854</td>\n",
       "      <td>1414</td>\n",
       "      <td>2548</td>\n",
       "      <td>279</td>\n",
       "      <td>15</td>\n",
       "      <td>7</td>\n",
       "      <td>387</td>\n",
       "      <td>...</td>\n",
       "      <td>116</td>\n",
       "      <td>64</td>\n",
       "      <td>14</td>\n",
       "      <td>1</td>\n",
       "      <td>-1</td>\n",
       "      <td>-2</td>\n",
       "      <td>-2</td>\n",
       "      <td>64</td>\n",
       "      <td>301</td>\n",
       "      <td>3</td>\n",
       "    </tr>\n",
       "    <tr>\n",
       "      <td>24</td>\n",
       "      <td>4/22/2020</td>\n",
       "      <td>IL</td>\n",
       "      <td>4751</td>\n",
       "      <td>1019</td>\n",
       "      <td>1006</td>\n",
       "      <td>1282</td>\n",
       "      <td>159</td>\n",
       "      <td>4</td>\n",
       "      <td>6</td>\n",
       "      <td>123</td>\n",
       "      <td>...</td>\n",
       "      <td>94</td>\n",
       "      <td>47</td>\n",
       "      <td>11</td>\n",
       "      <td>-511</td>\n",
       "      <td>1</td>\n",
       "      <td>6</td>\n",
       "      <td>6</td>\n",
       "      <td>47</td>\n",
       "      <td>-279</td>\n",
       "      <td>6</td>\n",
       "    </tr>\n",
       "    <tr>\n",
       "      <td>25</td>\n",
       "      <td>4/19/2020</td>\n",
       "      <td>IL</td>\n",
       "      <td>5764</td>\n",
       "      <td>1427</td>\n",
       "      <td>1167</td>\n",
       "      <td>1556</td>\n",
       "      <td>238</td>\n",
       "      <td>12</td>\n",
       "      <td>6</td>\n",
       "      <td>207</td>\n",
       "      <td>...</td>\n",
       "      <td>105</td>\n",
       "      <td>45</td>\n",
       "      <td>18</td>\n",
       "      <td>511</td>\n",
       "      <td>0</td>\n",
       "      <td>-1</td>\n",
       "      <td>-40</td>\n",
       "      <td>134</td>\n",
       "      <td>1583</td>\n",
       "      <td>74</td>\n",
       "    </tr>\n",
       "    <tr>\n",
       "      <td>26</td>\n",
       "      <td>4/15/2020</td>\n",
       "      <td>IL</td>\n",
       "      <td>3741</td>\n",
       "      <td>913</td>\n",
       "      <td>873</td>\n",
       "      <td>844</td>\n",
       "      <td>156</td>\n",
       "      <td>10</td>\n",
       "      <td>5</td>\n",
       "      <td>129</td>\n",
       "      <td>...</td>\n",
       "      <td>89</td>\n",
       "      <td>19</td>\n",
       "      <td>6</td>\n",
       "      <td>-1</td>\n",
       "      <td>1</td>\n",
       "      <td>4</td>\n",
       "      <td>14</td>\n",
       "      <td>0</td>\n",
       "      <td>0</td>\n",
       "      <td>0</td>\n",
       "    </tr>\n",
       "    <tr>\n",
       "      <td>27</td>\n",
       "      <td>4/12/2020</td>\n",
       "      <td>IL</td>\n",
       "      <td>20852</td>\n",
       "      <td>5214</td>\n",
       "      <td>5458</td>\n",
       "      <td>2513</td>\n",
       "      <td>691</td>\n",
       "      <td>24</td>\n",
       "      <td>28</td>\n",
       "      <td>988</td>\n",
       "      <td>...</td>\n",
       "      <td>308</td>\n",
       "      <td>70</td>\n",
       "      <td>27</td>\n",
       "      <td>2</td>\n",
       "      <td>1</td>\n",
       "      <td>12</td>\n",
       "      <td>41</td>\n",
       "      <td>0</td>\n",
       "      <td>0</td>\n",
       "      <td>0</td>\n",
       "    </tr>\n",
       "  </tbody>\n",
       "</table>\n",
       "<p>28 rows × 26 columns</p>\n",
       "</div>"
      ],
      "text/plain": [
       "         Date State  Cases_Total  Cases_White  Cases_Black  Cases_LatinX  \\\n",
       "0   7/15/2020    IL         2777          995          502           484   \n",
       "1   7/12/2020    IL         4494         1494          756           883   \n",
       "2    7/8/2020    IL         2181          831          381           437   \n",
       "3    7/5/2020    IL         4360          968          500           847   \n",
       "4    7/1/2020    IL         2290          670          417           619   \n",
       "5   6/28/2020    IL         3183         1036          551           919   \n",
       "6   6/24/2020    IL         1778          568          282           647   \n",
       "7   6/21/2020    IL         2577         1071          645           882   \n",
       "8   6/17/2020    IL         1642          492          292           815   \n",
       "9   6/14/2020    IL         2706          764          429          1229   \n",
       "10  6/10/2020    IL         2080          554          383           867   \n",
       "11   6/7/2020    IL         3927          892          686          1515   \n",
       "12   6/3/2020    IL         3570          702          567          1632   \n",
       "13  5/31/2020    IL         5954         1137          804          2338   \n",
       "14  5/27/2020    IL         4002          630          530          1263   \n",
       "15  5/24/2020    IL         9886         1408         1093          3551   \n",
       "16  5/20/2020    IL         6227         1033          896          2792   \n",
       "17  5/17/2020    IL         9493         1811         1582          4504   \n",
       "18  5/13/2020    IL         6957         1017          665          2420   \n",
       "19  5/10/2020    IL         9509         1581         1092          3599   \n",
       "20   5/6/2020    IL         6733         1243         1037          2738   \n",
       "21   5/3/2020    IL        11144         1890         1390          3656   \n",
       "22  4/29/2020    IL         6452         1249          932          2103   \n",
       "23  4/26/2020    IL         8795         1854         1414          2548   \n",
       "24  4/22/2020    IL         4751         1019         1006          1282   \n",
       "25  4/19/2020    IL         5764         1427         1167          1556   \n",
       "26  4/15/2020    IL         3741          913          873           844   \n",
       "27  4/12/2020    IL        20852         5214         5458          2513   \n",
       "\n",
       "    Cases_Asian  Cases_AIAN  Cases_NHPI  Cases_Other  ...  Deaths_Black  \\\n",
       "0            56           2           5          108  ...             8   \n",
       "1            68           1           1          175  ...            23   \n",
       "2            40           1           5           51  ...             9   \n",
       "3            46           5           6          110  ...            24   \n",
       "4            44           5           7           22  ...            11   \n",
       "5            64           4          10           98  ...            31   \n",
       "6            60          -1           4           45  ...            23   \n",
       "7           123           7          13          420  ...            37   \n",
       "8            69           3           8           18  ...            39   \n",
       "9            87          -1           6          106  ...            47   \n",
       "10           53           5           5           51  ...            42   \n",
       "11          107           4          19          127  ...            58   \n",
       "12           91           2           7           76  ...            58   \n",
       "13          146           9          12          241  ...            71   \n",
       "14           85           1           4          142  ...            48   \n",
       "15          231           8          17          236  ...            75   \n",
       "16          173          14          42          158  ...            78   \n",
       "17          301          21          55          253  ...            99   \n",
       "18          121          12          41          248  ...           111   \n",
       "19          205          27          50          376  ...           108   \n",
       "20          202          17           6          242  ...            94   \n",
       "21          283          12           5          493  ...           108   \n",
       "22          195           5          10          197  ...            84   \n",
       "23          279          15           7          387  ...           116   \n",
       "24          159           4           6          123  ...            94   \n",
       "25          238          12           6          207  ...           105   \n",
       "26          156          10           5          129  ...            89   \n",
       "27          691          24          28          988  ...           308   \n",
       "\n",
       "    Deaths_LatinX  Deaths_Asian  Deaths_AIAN  Deaths_NHPI  Deaths_Other  \\\n",
       "0               9             3            0            0             0   \n",
       "1              22             6            0            0             1   \n",
       "2              12             8            0            1             3   \n",
       "3              13             2            1            0             0   \n",
       "4              18             2            0            1            -1   \n",
       "5              34             3            0            0            -1   \n",
       "6              30             4            0            0            -1   \n",
       "7              52            12            0            1             6   \n",
       "8              44             8            0            0             1   \n",
       "9              53            13            0            0             3   \n",
       "10             36             6            0            0             0   \n",
       "11             74            13            1            0            -1   \n",
       "12             44             9            0            1             3   \n",
       "13             66            10            1            0             3   \n",
       "14             61            11            0            1             0   \n",
       "15             95            21           -2            0            -2   \n",
       "16             81            21            2            1             7   \n",
       "17            104            25            0            0            -5   \n",
       "18             89            22            1            0             9   \n",
       "19             97            23            1           -1             2   \n",
       "20             78            13            2            0            -5   \n",
       "21             82            20            1            1             6   \n",
       "22             52            15            0            0             5   \n",
       "23             64            14            1           -1            -2   \n",
       "24             47            11         -511            1             6   \n",
       "25             45            18          511            0            -1   \n",
       "26             19             6           -1            1             4   \n",
       "27             70            27            2            1            12   \n",
       "\n",
       "    Deaths_Unknown  Deaths_Ethnicity_Hispanic  Deaths_Ethnicity_NonHispanic  \\\n",
       "0               -1                          9                            31   \n",
       "1               -9                         22                            66   \n",
       "2                6                         12                            61   \n",
       "3              206                         13                            60   \n",
       "4                3                         18                            42   \n",
       "5               48                         34                            90   \n",
       "6               -1                         30                            87   \n",
       "7                6                         52                           143   \n",
       "8                1                         44                           134   \n",
       "9                3                         53                           157   \n",
       "10               0                         36                           151   \n",
       "11              -1                         74                           203   \n",
       "12               3                         44                           188   \n",
       "13               3                         66                           243   \n",
       "14               0                         61                           156   \n",
       "15              -2                         95                           234   \n",
       "16               7                         81                           252   \n",
       "17              -5                        104                           293   \n",
       "18               9                         89                           304   \n",
       "19               2                         97                           321   \n",
       "20              -5                         78                           270   \n",
       "21               6                         82                           320   \n",
       "22               5                         52                           222   \n",
       "23              -2                         64                           301   \n",
       "24               6                         47                          -279   \n",
       "25             -40                        134                          1583   \n",
       "26              14                          0                             0   \n",
       "27              41                          0                             0   \n",
       "\n",
       "    Deaths_Ethnicity_Unknown  \n",
       "0                         -1  \n",
       "1                          0  \n",
       "2                          6  \n",
       "3                         -4  \n",
       "4                          3  \n",
       "5                         -6  \n",
       "6                          6  \n",
       "7                        -33  \n",
       "8                         -1  \n",
       "9                          3  \n",
       "10                         4  \n",
       "11                         6  \n",
       "12                        -1  \n",
       "13                        -2  \n",
       "14                        10  \n",
       "15                         2  \n",
       "16                        15  \n",
       "17                       -12  \n",
       "18                        -7  \n",
       "19                        14  \n",
       "20                         8  \n",
       "21                         1  \n",
       "22                         8  \n",
       "23                         3  \n",
       "24                         6  \n",
       "25                        74  \n",
       "26                         0  \n",
       "27                         0  \n",
       "\n",
       "[28 rows x 26 columns]"
      ]
     },
     "execution_count": 1,
     "metadata": {},
     "output_type": "execute_result"
    }
   ],
   "source": [
    "import pandas as pd\n",
    "import numpy as np\n",
    "\n",
    "covid_il = pd.read_csv(\"zac files/csv_files/il_covid_data.csv\")\n",
    "covid_il.head(28)"
   ]
  },
  {
   "cell_type": "code",
   "execution_count": 2,
   "metadata": {},
   "outputs": [
    {
     "data": {
      "text/plain": [
       "(28, 26)"
      ]
     },
     "execution_count": 2,
     "metadata": {},
     "output_type": "execute_result"
    }
   ],
   "source": [
    "# view shape of df\n",
    "covid_il.shape"
   ]
  },
  {
   "cell_type": "code",
   "execution_count": 3,
   "metadata": {},
   "outputs": [
    {
     "data": {
      "text/plain": [
       "0    2020-07-15\n",
       "1    2020-07-12\n",
       "2    2020-07-08\n",
       "3    2020-07-05\n",
       "4    2020-07-01\n",
       "5    2020-06-28\n",
       "6    2020-06-24\n",
       "7    2020-06-21\n",
       "8    2020-06-17\n",
       "9    2020-06-14\n",
       "10   2020-06-10\n",
       "11   2020-06-07\n",
       "12   2020-06-03\n",
       "13   2020-05-31\n",
       "14   2020-05-27\n",
       "15   2020-05-24\n",
       "16   2020-05-20\n",
       "17   2020-05-17\n",
       "18   2020-05-13\n",
       "19   2020-05-10\n",
       "20   2020-05-06\n",
       "21   2020-05-03\n",
       "22   2020-04-29\n",
       "23   2020-04-26\n",
       "24   2020-04-22\n",
       "25   2020-04-19\n",
       "26   2020-04-15\n",
       "27   2020-04-12\n",
       "Name: Date, dtype: datetime64[ns]"
      ]
     },
     "execution_count": 3,
     "metadata": {},
     "output_type": "execute_result"
    }
   ],
   "source": [
    "# convert date column to datetime type\n",
    "covid_il[\"Date\"] = pd.to_datetime(covid_il[\"Date\"])\n",
    "covid_il[\"Date\"]"
   ]
  },
  {
   "cell_type": "code",
   "execution_count": 4,
   "metadata": {},
   "outputs": [
    {
     "data": {
      "text/html": [
       "<div>\n",
       "<style scoped>\n",
       "    .dataframe tbody tr th:only-of-type {\n",
       "        vertical-align: middle;\n",
       "    }\n",
       "\n",
       "    .dataframe tbody tr th {\n",
       "        vertical-align: top;\n",
       "    }\n",
       "\n",
       "    .dataframe thead th {\n",
       "        text-align: right;\n",
       "    }\n",
       "</style>\n",
       "<table border=\"1\" class=\"dataframe\">\n",
       "  <thead>\n",
       "    <tr style=\"text-align: right;\">\n",
       "      <th></th>\n",
       "      <th>Date</th>\n",
       "      <th>State</th>\n",
       "      <th>Cases_Total</th>\n",
       "      <th>Cases_White</th>\n",
       "      <th>Cases_Black</th>\n",
       "      <th>Cases_LatinX</th>\n",
       "      <th>Cases_Asian</th>\n",
       "      <th>Cases_AIAN</th>\n",
       "      <th>Cases_NHPI</th>\n",
       "      <th>Cases_Other</th>\n",
       "      <th>...</th>\n",
       "      <th>Deaths_LatinX</th>\n",
       "      <th>Deaths_Asian</th>\n",
       "      <th>Deaths_AIAN</th>\n",
       "      <th>Deaths_NHPI</th>\n",
       "      <th>Deaths_Other</th>\n",
       "      <th>Deaths_Unknown</th>\n",
       "      <th>Deaths_Ethnicity_Hispanic</th>\n",
       "      <th>Deaths_Ethnicity_NonHispanic</th>\n",
       "      <th>Deaths_Ethnicity_Unknown</th>\n",
       "      <th>Month</th>\n",
       "    </tr>\n",
       "  </thead>\n",
       "  <tbody>\n",
       "    <tr>\n",
       "      <td>0</td>\n",
       "      <td>2020-07-15</td>\n",
       "      <td>IL</td>\n",
       "      <td>2777</td>\n",
       "      <td>995</td>\n",
       "      <td>502</td>\n",
       "      <td>484</td>\n",
       "      <td>56</td>\n",
       "      <td>2</td>\n",
       "      <td>5</td>\n",
       "      <td>108</td>\n",
       "      <td>...</td>\n",
       "      <td>9</td>\n",
       "      <td>3</td>\n",
       "      <td>0</td>\n",
       "      <td>0</td>\n",
       "      <td>0</td>\n",
       "      <td>-1</td>\n",
       "      <td>9</td>\n",
       "      <td>31</td>\n",
       "      <td>-1</td>\n",
       "      <td>July</td>\n",
       "    </tr>\n",
       "    <tr>\n",
       "      <td>1</td>\n",
       "      <td>2020-07-12</td>\n",
       "      <td>IL</td>\n",
       "      <td>4494</td>\n",
       "      <td>1494</td>\n",
       "      <td>756</td>\n",
       "      <td>883</td>\n",
       "      <td>68</td>\n",
       "      <td>1</td>\n",
       "      <td>1</td>\n",
       "      <td>175</td>\n",
       "      <td>...</td>\n",
       "      <td>22</td>\n",
       "      <td>6</td>\n",
       "      <td>0</td>\n",
       "      <td>0</td>\n",
       "      <td>1</td>\n",
       "      <td>-9</td>\n",
       "      <td>22</td>\n",
       "      <td>66</td>\n",
       "      <td>0</td>\n",
       "      <td>July</td>\n",
       "    </tr>\n",
       "    <tr>\n",
       "      <td>2</td>\n",
       "      <td>2020-07-08</td>\n",
       "      <td>IL</td>\n",
       "      <td>2181</td>\n",
       "      <td>831</td>\n",
       "      <td>381</td>\n",
       "      <td>437</td>\n",
       "      <td>40</td>\n",
       "      <td>1</td>\n",
       "      <td>5</td>\n",
       "      <td>51</td>\n",
       "      <td>...</td>\n",
       "      <td>12</td>\n",
       "      <td>8</td>\n",
       "      <td>0</td>\n",
       "      <td>1</td>\n",
       "      <td>3</td>\n",
       "      <td>6</td>\n",
       "      <td>12</td>\n",
       "      <td>61</td>\n",
       "      <td>6</td>\n",
       "      <td>July</td>\n",
       "    </tr>\n",
       "    <tr>\n",
       "      <td>3</td>\n",
       "      <td>2020-07-05</td>\n",
       "      <td>IL</td>\n",
       "      <td>4360</td>\n",
       "      <td>968</td>\n",
       "      <td>500</td>\n",
       "      <td>847</td>\n",
       "      <td>46</td>\n",
       "      <td>5</td>\n",
       "      <td>6</td>\n",
       "      <td>110</td>\n",
       "      <td>...</td>\n",
       "      <td>13</td>\n",
       "      <td>2</td>\n",
       "      <td>1</td>\n",
       "      <td>0</td>\n",
       "      <td>0</td>\n",
       "      <td>206</td>\n",
       "      <td>13</td>\n",
       "      <td>60</td>\n",
       "      <td>-4</td>\n",
       "      <td>July</td>\n",
       "    </tr>\n",
       "    <tr>\n",
       "      <td>4</td>\n",
       "      <td>2020-07-01</td>\n",
       "      <td>IL</td>\n",
       "      <td>2290</td>\n",
       "      <td>670</td>\n",
       "      <td>417</td>\n",
       "      <td>619</td>\n",
       "      <td>44</td>\n",
       "      <td>5</td>\n",
       "      <td>7</td>\n",
       "      <td>22</td>\n",
       "      <td>...</td>\n",
       "      <td>18</td>\n",
       "      <td>2</td>\n",
       "      <td>0</td>\n",
       "      <td>1</td>\n",
       "      <td>-1</td>\n",
       "      <td>3</td>\n",
       "      <td>18</td>\n",
       "      <td>42</td>\n",
       "      <td>3</td>\n",
       "      <td>July</td>\n",
       "    </tr>\n",
       "  </tbody>\n",
       "</table>\n",
       "<p>5 rows × 27 columns</p>\n",
       "</div>"
      ],
      "text/plain": [
       "        Date State  Cases_Total  Cases_White  Cases_Black  Cases_LatinX  \\\n",
       "0 2020-07-15    IL         2777          995          502           484   \n",
       "1 2020-07-12    IL         4494         1494          756           883   \n",
       "2 2020-07-08    IL         2181          831          381           437   \n",
       "3 2020-07-05    IL         4360          968          500           847   \n",
       "4 2020-07-01    IL         2290          670          417           619   \n",
       "\n",
       "   Cases_Asian  Cases_AIAN  Cases_NHPI  Cases_Other  ...  Deaths_LatinX  \\\n",
       "0           56           2           5          108  ...              9   \n",
       "1           68           1           1          175  ...             22   \n",
       "2           40           1           5           51  ...             12   \n",
       "3           46           5           6          110  ...             13   \n",
       "4           44           5           7           22  ...             18   \n",
       "\n",
       "   Deaths_Asian  Deaths_AIAN  Deaths_NHPI  Deaths_Other  Deaths_Unknown  \\\n",
       "0             3            0            0             0              -1   \n",
       "1             6            0            0             1              -9   \n",
       "2             8            0            1             3               6   \n",
       "3             2            1            0             0             206   \n",
       "4             2            0            1            -1               3   \n",
       "\n",
       "   Deaths_Ethnicity_Hispanic  Deaths_Ethnicity_NonHispanic  \\\n",
       "0                          9                            31   \n",
       "1                         22                            66   \n",
       "2                         12                            61   \n",
       "3                         13                            60   \n",
       "4                         18                            42   \n",
       "\n",
       "   Deaths_Ethnicity_Unknown  Month  \n",
       "0                        -1   July  \n",
       "1                         0   July  \n",
       "2                         6   July  \n",
       "3                        -4   July  \n",
       "4                         3   July  \n",
       "\n",
       "[5 rows x 27 columns]"
      ]
     },
     "execution_count": 4,
     "metadata": {},
     "output_type": "execute_result"
    }
   ],
   "source": [
    "# create a month column from date column\n",
    "covid_il[\"Month\"] = covid_il[\"Date\"].dt.month_name()\n",
    "covid_il.head()"
   ]
  },
  {
   "cell_type": "code",
   "execution_count": 5,
   "metadata": {},
   "outputs": [
    {
     "data": {
      "text/html": [
       "<div>\n",
       "<style scoped>\n",
       "    .dataframe tbody tr th:only-of-type {\n",
       "        vertical-align: middle;\n",
       "    }\n",
       "\n",
       "    .dataframe tbody tr th {\n",
       "        vertical-align: top;\n",
       "    }\n",
       "\n",
       "    .dataframe thead th {\n",
       "        text-align: right;\n",
       "    }\n",
       "</style>\n",
       "<table border=\"1\" class=\"dataframe\">\n",
       "  <thead>\n",
       "    <tr style=\"text-align: right;\">\n",
       "      <th></th>\n",
       "      <th>Date</th>\n",
       "      <th>State</th>\n",
       "      <th>Cases_Total</th>\n",
       "      <th>Cases_White</th>\n",
       "      <th>Cases_Black</th>\n",
       "      <th>Cases_LatinX</th>\n",
       "      <th>Cases_Asian</th>\n",
       "      <th>Cases_AIAN</th>\n",
       "      <th>Cases_NHPI</th>\n",
       "      <th>Cases_Other</th>\n",
       "      <th>...</th>\n",
       "      <th>Deaths_Asian</th>\n",
       "      <th>Deaths_AIAN</th>\n",
       "      <th>Deaths_NHPI</th>\n",
       "      <th>Deaths_Other</th>\n",
       "      <th>Deaths_Unknown</th>\n",
       "      <th>Deaths_Ethnicity_Hispanic</th>\n",
       "      <th>Deaths_Ethnicity_NonHispanic</th>\n",
       "      <th>Deaths_Ethnicity_Unknown</th>\n",
       "      <th>Month</th>\n",
       "      <th>Day</th>\n",
       "    </tr>\n",
       "  </thead>\n",
       "  <tbody>\n",
       "    <tr>\n",
       "      <td>0</td>\n",
       "      <td>2020-07-15</td>\n",
       "      <td>IL</td>\n",
       "      <td>2777</td>\n",
       "      <td>995</td>\n",
       "      <td>502</td>\n",
       "      <td>484</td>\n",
       "      <td>56</td>\n",
       "      <td>2</td>\n",
       "      <td>5</td>\n",
       "      <td>108</td>\n",
       "      <td>...</td>\n",
       "      <td>3</td>\n",
       "      <td>0</td>\n",
       "      <td>0</td>\n",
       "      <td>0</td>\n",
       "      <td>-1</td>\n",
       "      <td>9</td>\n",
       "      <td>31</td>\n",
       "      <td>-1</td>\n",
       "      <td>July</td>\n",
       "      <td>15</td>\n",
       "    </tr>\n",
       "    <tr>\n",
       "      <td>1</td>\n",
       "      <td>2020-07-12</td>\n",
       "      <td>IL</td>\n",
       "      <td>4494</td>\n",
       "      <td>1494</td>\n",
       "      <td>756</td>\n",
       "      <td>883</td>\n",
       "      <td>68</td>\n",
       "      <td>1</td>\n",
       "      <td>1</td>\n",
       "      <td>175</td>\n",
       "      <td>...</td>\n",
       "      <td>6</td>\n",
       "      <td>0</td>\n",
       "      <td>0</td>\n",
       "      <td>1</td>\n",
       "      <td>-9</td>\n",
       "      <td>22</td>\n",
       "      <td>66</td>\n",
       "      <td>0</td>\n",
       "      <td>July</td>\n",
       "      <td>12</td>\n",
       "    </tr>\n",
       "    <tr>\n",
       "      <td>2</td>\n",
       "      <td>2020-07-08</td>\n",
       "      <td>IL</td>\n",
       "      <td>2181</td>\n",
       "      <td>831</td>\n",
       "      <td>381</td>\n",
       "      <td>437</td>\n",
       "      <td>40</td>\n",
       "      <td>1</td>\n",
       "      <td>5</td>\n",
       "      <td>51</td>\n",
       "      <td>...</td>\n",
       "      <td>8</td>\n",
       "      <td>0</td>\n",
       "      <td>1</td>\n",
       "      <td>3</td>\n",
       "      <td>6</td>\n",
       "      <td>12</td>\n",
       "      <td>61</td>\n",
       "      <td>6</td>\n",
       "      <td>July</td>\n",
       "      <td>8</td>\n",
       "    </tr>\n",
       "    <tr>\n",
       "      <td>3</td>\n",
       "      <td>2020-07-05</td>\n",
       "      <td>IL</td>\n",
       "      <td>4360</td>\n",
       "      <td>968</td>\n",
       "      <td>500</td>\n",
       "      <td>847</td>\n",
       "      <td>46</td>\n",
       "      <td>5</td>\n",
       "      <td>6</td>\n",
       "      <td>110</td>\n",
       "      <td>...</td>\n",
       "      <td>2</td>\n",
       "      <td>1</td>\n",
       "      <td>0</td>\n",
       "      <td>0</td>\n",
       "      <td>206</td>\n",
       "      <td>13</td>\n",
       "      <td>60</td>\n",
       "      <td>-4</td>\n",
       "      <td>July</td>\n",
       "      <td>5</td>\n",
       "    </tr>\n",
       "    <tr>\n",
       "      <td>4</td>\n",
       "      <td>2020-07-01</td>\n",
       "      <td>IL</td>\n",
       "      <td>2290</td>\n",
       "      <td>670</td>\n",
       "      <td>417</td>\n",
       "      <td>619</td>\n",
       "      <td>44</td>\n",
       "      <td>5</td>\n",
       "      <td>7</td>\n",
       "      <td>22</td>\n",
       "      <td>...</td>\n",
       "      <td>2</td>\n",
       "      <td>0</td>\n",
       "      <td>1</td>\n",
       "      <td>-1</td>\n",
       "      <td>3</td>\n",
       "      <td>18</td>\n",
       "      <td>42</td>\n",
       "      <td>3</td>\n",
       "      <td>July</td>\n",
       "      <td>1</td>\n",
       "    </tr>\n",
       "  </tbody>\n",
       "</table>\n",
       "<p>5 rows × 28 columns</p>\n",
       "</div>"
      ],
      "text/plain": [
       "        Date State  Cases_Total  Cases_White  Cases_Black  Cases_LatinX  \\\n",
       "0 2020-07-15    IL         2777          995          502           484   \n",
       "1 2020-07-12    IL         4494         1494          756           883   \n",
       "2 2020-07-08    IL         2181          831          381           437   \n",
       "3 2020-07-05    IL         4360          968          500           847   \n",
       "4 2020-07-01    IL         2290          670          417           619   \n",
       "\n",
       "   Cases_Asian  Cases_AIAN  Cases_NHPI  Cases_Other  ...  Deaths_Asian  \\\n",
       "0           56           2           5          108  ...             3   \n",
       "1           68           1           1          175  ...             6   \n",
       "2           40           1           5           51  ...             8   \n",
       "3           46           5           6          110  ...             2   \n",
       "4           44           5           7           22  ...             2   \n",
       "\n",
       "   Deaths_AIAN  Deaths_NHPI  Deaths_Other  Deaths_Unknown  \\\n",
       "0            0            0             0              -1   \n",
       "1            0            0             1              -9   \n",
       "2            0            1             3               6   \n",
       "3            1            0             0             206   \n",
       "4            0            1            -1               3   \n",
       "\n",
       "   Deaths_Ethnicity_Hispanic  Deaths_Ethnicity_NonHispanic  \\\n",
       "0                          9                            31   \n",
       "1                         22                            66   \n",
       "2                         12                            61   \n",
       "3                         13                            60   \n",
       "4                         18                            42   \n",
       "\n",
       "   Deaths_Ethnicity_Unknown  Month  Day  \n",
       "0                        -1   July   15  \n",
       "1                         0   July   12  \n",
       "2                         6   July    8  \n",
       "3                        -4   July    5  \n",
       "4                         3   July    1  \n",
       "\n",
       "[5 rows x 28 columns]"
      ]
     },
     "execution_count": 5,
     "metadata": {},
     "output_type": "execute_result"
    }
   ],
   "source": [
    "# create a day column from date column\n",
    "covid_il[\"Day\"] = covid_il[\"Date\"].dt.day\n",
    "covid_il.head()"
   ]
  },
  {
   "cell_type": "code",
   "execution_count": 6,
   "metadata": {},
   "outputs": [
    {
     "data": {
      "text/html": [
       "<div>\n",
       "<style scoped>\n",
       "    .dataframe tbody tr th:only-of-type {\n",
       "        vertical-align: middle;\n",
       "    }\n",
       "\n",
       "    .dataframe tbody tr th {\n",
       "        vertical-align: top;\n",
       "    }\n",
       "\n",
       "    .dataframe thead th {\n",
       "        text-align: right;\n",
       "    }\n",
       "</style>\n",
       "<table border=\"1\" class=\"dataframe\">\n",
       "  <thead>\n",
       "    <tr style=\"text-align: right;\">\n",
       "      <th></th>\n",
       "      <th>Month</th>\n",
       "      <th>Day</th>\n",
       "      <th>Date</th>\n",
       "      <th>State</th>\n",
       "      <th>Cases_Total</th>\n",
       "      <th>Cases_White</th>\n",
       "      <th>Cases_Black</th>\n",
       "      <th>Cases_LatinX</th>\n",
       "      <th>Cases_Asian</th>\n",
       "      <th>Cases_AIAN</th>\n",
       "      <th>...</th>\n",
       "      <th>Cases_Unknown</th>\n",
       "      <th>Deaths_Total</th>\n",
       "      <th>Deaths_White</th>\n",
       "      <th>Deaths_Black</th>\n",
       "      <th>Deaths_LatinX</th>\n",
       "      <th>Deaths_Asian</th>\n",
       "      <th>Deaths_AIAN</th>\n",
       "      <th>Deaths_NHPI</th>\n",
       "      <th>Deaths_Other</th>\n",
       "      <th>Deaths_Unknown</th>\n",
       "    </tr>\n",
       "  </thead>\n",
       "  <tbody>\n",
       "    <tr>\n",
       "      <td>0</td>\n",
       "      <td>July</td>\n",
       "      <td>15</td>\n",
       "      <td>2020-07-15</td>\n",
       "      <td>IL</td>\n",
       "      <td>2777</td>\n",
       "      <td>995</td>\n",
       "      <td>502</td>\n",
       "      <td>484</td>\n",
       "      <td>56</td>\n",
       "      <td>2</td>\n",
       "      <td>...</td>\n",
       "      <td>625</td>\n",
       "      <td>39</td>\n",
       "      <td>20</td>\n",
       "      <td>8</td>\n",
       "      <td>9</td>\n",
       "      <td>3</td>\n",
       "      <td>0</td>\n",
       "      <td>0</td>\n",
       "      <td>0</td>\n",
       "      <td>-1</td>\n",
       "    </tr>\n",
       "    <tr>\n",
       "      <td>1</td>\n",
       "      <td>July</td>\n",
       "      <td>12</td>\n",
       "      <td>2020-07-12</td>\n",
       "      <td>IL</td>\n",
       "      <td>4494</td>\n",
       "      <td>1494</td>\n",
       "      <td>756</td>\n",
       "      <td>883</td>\n",
       "      <td>68</td>\n",
       "      <td>1</td>\n",
       "      <td>...</td>\n",
       "      <td>1116</td>\n",
       "      <td>79</td>\n",
       "      <td>36</td>\n",
       "      <td>23</td>\n",
       "      <td>22</td>\n",
       "      <td>6</td>\n",
       "      <td>0</td>\n",
       "      <td>0</td>\n",
       "      <td>1</td>\n",
       "      <td>-9</td>\n",
       "    </tr>\n",
       "    <tr>\n",
       "      <td>2</td>\n",
       "      <td>July</td>\n",
       "      <td>8</td>\n",
       "      <td>2020-07-08</td>\n",
       "      <td>IL</td>\n",
       "      <td>2181</td>\n",
       "      <td>831</td>\n",
       "      <td>381</td>\n",
       "      <td>437</td>\n",
       "      <td>40</td>\n",
       "      <td>1</td>\n",
       "      <td>...</td>\n",
       "      <td>435</td>\n",
       "      <td>79</td>\n",
       "      <td>40</td>\n",
       "      <td>9</td>\n",
       "      <td>12</td>\n",
       "      <td>8</td>\n",
       "      <td>0</td>\n",
       "      <td>1</td>\n",
       "      <td>3</td>\n",
       "      <td>6</td>\n",
       "    </tr>\n",
       "    <tr>\n",
       "      <td>3</td>\n",
       "      <td>July</td>\n",
       "      <td>5</td>\n",
       "      <td>2020-07-05</td>\n",
       "      <td>IL</td>\n",
       "      <td>4360</td>\n",
       "      <td>968</td>\n",
       "      <td>500</td>\n",
       "      <td>847</td>\n",
       "      <td>46</td>\n",
       "      <td>5</td>\n",
       "      <td>...</td>\n",
       "      <td>1878</td>\n",
       "      <td>279</td>\n",
       "      <td>33</td>\n",
       "      <td>24</td>\n",
       "      <td>13</td>\n",
       "      <td>2</td>\n",
       "      <td>1</td>\n",
       "      <td>0</td>\n",
       "      <td>0</td>\n",
       "      <td>206</td>\n",
       "    </tr>\n",
       "    <tr>\n",
       "      <td>4</td>\n",
       "      <td>July</td>\n",
       "      <td>1</td>\n",
       "      <td>2020-07-01</td>\n",
       "      <td>IL</td>\n",
       "      <td>2290</td>\n",
       "      <td>670</td>\n",
       "      <td>417</td>\n",
       "      <td>619</td>\n",
       "      <td>44</td>\n",
       "      <td>5</td>\n",
       "      <td>...</td>\n",
       "      <td>506</td>\n",
       "      <td>63</td>\n",
       "      <td>29</td>\n",
       "      <td>11</td>\n",
       "      <td>18</td>\n",
       "      <td>2</td>\n",
       "      <td>0</td>\n",
       "      <td>1</td>\n",
       "      <td>-1</td>\n",
       "      <td>3</td>\n",
       "    </tr>\n",
       "    <tr>\n",
       "      <td>5</td>\n",
       "      <td>June</td>\n",
       "      <td>28</td>\n",
       "      <td>2020-06-28</td>\n",
       "      <td>IL</td>\n",
       "      <td>3183</td>\n",
       "      <td>1036</td>\n",
       "      <td>551</td>\n",
       "      <td>919</td>\n",
       "      <td>64</td>\n",
       "      <td>4</td>\n",
       "      <td>...</td>\n",
       "      <td>501</td>\n",
       "      <td>118</td>\n",
       "      <td>57</td>\n",
       "      <td>31</td>\n",
       "      <td>34</td>\n",
       "      <td>3</td>\n",
       "      <td>0</td>\n",
       "      <td>0</td>\n",
       "      <td>-1</td>\n",
       "      <td>48</td>\n",
       "    </tr>\n",
       "    <tr>\n",
       "      <td>6</td>\n",
       "      <td>June</td>\n",
       "      <td>24</td>\n",
       "      <td>2020-06-24</td>\n",
       "      <td>IL</td>\n",
       "      <td>1778</td>\n",
       "      <td>568</td>\n",
       "      <td>282</td>\n",
       "      <td>647</td>\n",
       "      <td>60</td>\n",
       "      <td>-1</td>\n",
       "      <td>...</td>\n",
       "      <td>173</td>\n",
       "      <td>123</td>\n",
       "      <td>61</td>\n",
       "      <td>23</td>\n",
       "      <td>30</td>\n",
       "      <td>4</td>\n",
       "      <td>0</td>\n",
       "      <td>0</td>\n",
       "      <td>-1</td>\n",
       "      <td>-1</td>\n",
       "    </tr>\n",
       "    <tr>\n",
       "      <td>7</td>\n",
       "      <td>June</td>\n",
       "      <td>21</td>\n",
       "      <td>2020-06-21</td>\n",
       "      <td>IL</td>\n",
       "      <td>2577</td>\n",
       "      <td>1071</td>\n",
       "      <td>645</td>\n",
       "      <td>882</td>\n",
       "      <td>123</td>\n",
       "      <td>7</td>\n",
       "      <td>...</td>\n",
       "      <td>-584</td>\n",
       "      <td>162</td>\n",
       "      <td>87</td>\n",
       "      <td>37</td>\n",
       "      <td>52</td>\n",
       "      <td>12</td>\n",
       "      <td>0</td>\n",
       "      <td>1</td>\n",
       "      <td>6</td>\n",
       "      <td>6</td>\n",
       "    </tr>\n",
       "    <tr>\n",
       "      <td>8</td>\n",
       "      <td>June</td>\n",
       "      <td>17</td>\n",
       "      <td>2020-06-17</td>\n",
       "      <td>IL</td>\n",
       "      <td>1642</td>\n",
       "      <td>492</td>\n",
       "      <td>292</td>\n",
       "      <td>815</td>\n",
       "      <td>69</td>\n",
       "      <td>3</td>\n",
       "      <td>...</td>\n",
       "      <td>-55</td>\n",
       "      <td>177</td>\n",
       "      <td>86</td>\n",
       "      <td>39</td>\n",
       "      <td>44</td>\n",
       "      <td>8</td>\n",
       "      <td>0</td>\n",
       "      <td>0</td>\n",
       "      <td>1</td>\n",
       "      <td>1</td>\n",
       "    </tr>\n",
       "    <tr>\n",
       "      <td>9</td>\n",
       "      <td>June</td>\n",
       "      <td>14</td>\n",
       "      <td>2020-06-14</td>\n",
       "      <td>IL</td>\n",
       "      <td>2706</td>\n",
       "      <td>764</td>\n",
       "      <td>429</td>\n",
       "      <td>1229</td>\n",
       "      <td>87</td>\n",
       "      <td>-1</td>\n",
       "      <td>...</td>\n",
       "      <td>86</td>\n",
       "      <td>213</td>\n",
       "      <td>94</td>\n",
       "      <td>47</td>\n",
       "      <td>53</td>\n",
       "      <td>13</td>\n",
       "      <td>0</td>\n",
       "      <td>0</td>\n",
       "      <td>3</td>\n",
       "      <td>3</td>\n",
       "    </tr>\n",
       "    <tr>\n",
       "      <td>10</td>\n",
       "      <td>June</td>\n",
       "      <td>10</td>\n",
       "      <td>2020-06-10</td>\n",
       "      <td>IL</td>\n",
       "      <td>2080</td>\n",
       "      <td>554</td>\n",
       "      <td>383</td>\n",
       "      <td>867</td>\n",
       "      <td>53</td>\n",
       "      <td>5</td>\n",
       "      <td>...</td>\n",
       "      <td>162</td>\n",
       "      <td>191</td>\n",
       "      <td>103</td>\n",
       "      <td>42</td>\n",
       "      <td>36</td>\n",
       "      <td>6</td>\n",
       "      <td>0</td>\n",
       "      <td>0</td>\n",
       "      <td>0</td>\n",
       "      <td>0</td>\n",
       "    </tr>\n",
       "    <tr>\n",
       "      <td>11</td>\n",
       "      <td>June</td>\n",
       "      <td>7</td>\n",
       "      <td>2020-06-07</td>\n",
       "      <td>IL</td>\n",
       "      <td>3927</td>\n",
       "      <td>892</td>\n",
       "      <td>686</td>\n",
       "      <td>1515</td>\n",
       "      <td>107</td>\n",
       "      <td>4</td>\n",
       "      <td>...</td>\n",
       "      <td>577</td>\n",
       "      <td>283</td>\n",
       "      <td>132</td>\n",
       "      <td>58</td>\n",
       "      <td>74</td>\n",
       "      <td>13</td>\n",
       "      <td>1</td>\n",
       "      <td>0</td>\n",
       "      <td>-1</td>\n",
       "      <td>-1</td>\n",
       "    </tr>\n",
       "    <tr>\n",
       "      <td>12</td>\n",
       "      <td>June</td>\n",
       "      <td>3</td>\n",
       "      <td>2020-06-03</td>\n",
       "      <td>IL</td>\n",
       "      <td>3570</td>\n",
       "      <td>702</td>\n",
       "      <td>567</td>\n",
       "      <td>1632</td>\n",
       "      <td>91</td>\n",
       "      <td>2</td>\n",
       "      <td>...</td>\n",
       "      <td>493</td>\n",
       "      <td>231</td>\n",
       "      <td>117</td>\n",
       "      <td>58</td>\n",
       "      <td>44</td>\n",
       "      <td>9</td>\n",
       "      <td>0</td>\n",
       "      <td>1</td>\n",
       "      <td>3</td>\n",
       "      <td>3</td>\n",
       "    </tr>\n",
       "    <tr>\n",
       "      <td>13</td>\n",
       "      <td>May</td>\n",
       "      <td>31</td>\n",
       "      <td>2020-05-31</td>\n",
       "      <td>IL</td>\n",
       "      <td>5954</td>\n",
       "      <td>1137</td>\n",
       "      <td>804</td>\n",
       "      <td>2338</td>\n",
       "      <td>146</td>\n",
       "      <td>9</td>\n",
       "      <td>...</td>\n",
       "      <td>1267</td>\n",
       "      <td>307</td>\n",
       "      <td>158</td>\n",
       "      <td>71</td>\n",
       "      <td>66</td>\n",
       "      <td>10</td>\n",
       "      <td>1</td>\n",
       "      <td>0</td>\n",
       "      <td>3</td>\n",
       "      <td>3</td>\n",
       "    </tr>\n",
       "    <tr>\n",
       "      <td>14</td>\n",
       "      <td>May</td>\n",
       "      <td>27</td>\n",
       "      <td>2020-05-27</td>\n",
       "      <td>IL</td>\n",
       "      <td>4002</td>\n",
       "      <td>630</td>\n",
       "      <td>530</td>\n",
       "      <td>1263</td>\n",
       "      <td>85</td>\n",
       "      <td>1</td>\n",
       "      <td>...</td>\n",
       "      <td>1347</td>\n",
       "      <td>227</td>\n",
       "      <td>96</td>\n",
       "      <td>48</td>\n",
       "      <td>61</td>\n",
       "      <td>11</td>\n",
       "      <td>0</td>\n",
       "      <td>1</td>\n",
       "      <td>0</td>\n",
       "      <td>0</td>\n",
       "    </tr>\n",
       "    <tr>\n",
       "      <td>15</td>\n",
       "      <td>May</td>\n",
       "      <td>24</td>\n",
       "      <td>2020-05-24</td>\n",
       "      <td>IL</td>\n",
       "      <td>9886</td>\n",
       "      <td>1408</td>\n",
       "      <td>1093</td>\n",
       "      <td>3551</td>\n",
       "      <td>231</td>\n",
       "      <td>8</td>\n",
       "      <td>...</td>\n",
       "      <td>3342</td>\n",
       "      <td>331</td>\n",
       "      <td>142</td>\n",
       "      <td>75</td>\n",
       "      <td>95</td>\n",
       "      <td>21</td>\n",
       "      <td>-2</td>\n",
       "      <td>0</td>\n",
       "      <td>-2</td>\n",
       "      <td>-2</td>\n",
       "    </tr>\n",
       "    <tr>\n",
       "      <td>16</td>\n",
       "      <td>May</td>\n",
       "      <td>20</td>\n",
       "      <td>2020-05-20</td>\n",
       "      <td>IL</td>\n",
       "      <td>6227</td>\n",
       "      <td>1033</td>\n",
       "      <td>896</td>\n",
       "      <td>2792</td>\n",
       "      <td>173</td>\n",
       "      <td>14</td>\n",
       "      <td>...</td>\n",
       "      <td>1119</td>\n",
       "      <td>348</td>\n",
       "      <td>143</td>\n",
       "      <td>78</td>\n",
       "      <td>81</td>\n",
       "      <td>21</td>\n",
       "      <td>2</td>\n",
       "      <td>1</td>\n",
       "      <td>7</td>\n",
       "      <td>7</td>\n",
       "    </tr>\n",
       "    <tr>\n",
       "      <td>17</td>\n",
       "      <td>May</td>\n",
       "      <td>17</td>\n",
       "      <td>2020-05-17</td>\n",
       "      <td>IL</td>\n",
       "      <td>9493</td>\n",
       "      <td>1811</td>\n",
       "      <td>1582</td>\n",
       "      <td>4504</td>\n",
       "      <td>301</td>\n",
       "      <td>21</td>\n",
       "      <td>...</td>\n",
       "      <td>966</td>\n",
       "      <td>385</td>\n",
       "      <td>174</td>\n",
       "      <td>99</td>\n",
       "      <td>104</td>\n",
       "      <td>25</td>\n",
       "      <td>0</td>\n",
       "      <td>0</td>\n",
       "      <td>-5</td>\n",
       "      <td>-5</td>\n",
       "    </tr>\n",
       "    <tr>\n",
       "      <td>18</td>\n",
       "      <td>May</td>\n",
       "      <td>13</td>\n",
       "      <td>2020-05-13</td>\n",
       "      <td>IL</td>\n",
       "      <td>6957</td>\n",
       "      <td>1017</td>\n",
       "      <td>665</td>\n",
       "      <td>2420</td>\n",
       "      <td>121</td>\n",
       "      <td>12</td>\n",
       "      <td>...</td>\n",
       "      <td>2433</td>\n",
       "      <td>386</td>\n",
       "      <td>161</td>\n",
       "      <td>111</td>\n",
       "      <td>89</td>\n",
       "      <td>22</td>\n",
       "      <td>1</td>\n",
       "      <td>0</td>\n",
       "      <td>9</td>\n",
       "      <td>9</td>\n",
       "    </tr>\n",
       "    <tr>\n",
       "      <td>19</td>\n",
       "      <td>May</td>\n",
       "      <td>10</td>\n",
       "      <td>2020-05-10</td>\n",
       "      <td>IL</td>\n",
       "      <td>9509</td>\n",
       "      <td>1581</td>\n",
       "      <td>1092</td>\n",
       "      <td>3599</td>\n",
       "      <td>205</td>\n",
       "      <td>27</td>\n",
       "      <td>...</td>\n",
       "      <td>2579</td>\n",
       "      <td>432</td>\n",
       "      <td>188</td>\n",
       "      <td>108</td>\n",
       "      <td>97</td>\n",
       "      <td>23</td>\n",
       "      <td>1</td>\n",
       "      <td>-1</td>\n",
       "      <td>2</td>\n",
       "      <td>2</td>\n",
       "    </tr>\n",
       "    <tr>\n",
       "      <td>20</td>\n",
       "      <td>May</td>\n",
       "      <td>6</td>\n",
       "      <td>2020-05-06</td>\n",
       "      <td>IL</td>\n",
       "      <td>6733</td>\n",
       "      <td>1243</td>\n",
       "      <td>1037</td>\n",
       "      <td>2738</td>\n",
       "      <td>202</td>\n",
       "      <td>17</td>\n",
       "      <td>...</td>\n",
       "      <td>1248</td>\n",
       "      <td>356</td>\n",
       "      <td>166</td>\n",
       "      <td>94</td>\n",
       "      <td>78</td>\n",
       "      <td>13</td>\n",
       "      <td>2</td>\n",
       "      <td>0</td>\n",
       "      <td>-5</td>\n",
       "      <td>-5</td>\n",
       "    </tr>\n",
       "    <tr>\n",
       "      <td>21</td>\n",
       "      <td>May</td>\n",
       "      <td>3</td>\n",
       "      <td>2020-05-03</td>\n",
       "      <td>IL</td>\n",
       "      <td>11144</td>\n",
       "      <td>1890</td>\n",
       "      <td>1390</td>\n",
       "      <td>3656</td>\n",
       "      <td>283</td>\n",
       "      <td>12</td>\n",
       "      <td>...</td>\n",
       "      <td>3415</td>\n",
       "      <td>403</td>\n",
       "      <td>184</td>\n",
       "      <td>108</td>\n",
       "      <td>82</td>\n",
       "      <td>20</td>\n",
       "      <td>1</td>\n",
       "      <td>1</td>\n",
       "      <td>6</td>\n",
       "      <td>6</td>\n",
       "    </tr>\n",
       "    <tr>\n",
       "      <td>22</td>\n",
       "      <td>April</td>\n",
       "      <td>29</td>\n",
       "      <td>2020-04-29</td>\n",
       "      <td>IL</td>\n",
       "      <td>6452</td>\n",
       "      <td>1249</td>\n",
       "      <td>932</td>\n",
       "      <td>2103</td>\n",
       "      <td>195</td>\n",
       "      <td>5</td>\n",
       "      <td>...</td>\n",
       "      <td>1761</td>\n",
       "      <td>282</td>\n",
       "      <td>118</td>\n",
       "      <td>84</td>\n",
       "      <td>52</td>\n",
       "      <td>15</td>\n",
       "      <td>0</td>\n",
       "      <td>0</td>\n",
       "      <td>5</td>\n",
       "      <td>5</td>\n",
       "    </tr>\n",
       "    <tr>\n",
       "      <td>23</td>\n",
       "      <td>April</td>\n",
       "      <td>26</td>\n",
       "      <td>2020-04-26</td>\n",
       "      <td>IL</td>\n",
       "      <td>8795</td>\n",
       "      <td>1854</td>\n",
       "      <td>1414</td>\n",
       "      <td>2548</td>\n",
       "      <td>279</td>\n",
       "      <td>15</td>\n",
       "      <td>...</td>\n",
       "      <td>2291</td>\n",
       "      <td>368</td>\n",
       "      <td>173</td>\n",
       "      <td>116</td>\n",
       "      <td>64</td>\n",
       "      <td>14</td>\n",
       "      <td>1</td>\n",
       "      <td>-1</td>\n",
       "      <td>-2</td>\n",
       "      <td>-2</td>\n",
       "    </tr>\n",
       "    <tr>\n",
       "      <td>24</td>\n",
       "      <td>April</td>\n",
       "      <td>22</td>\n",
       "      <td>2020-04-22</td>\n",
       "      <td>IL</td>\n",
       "      <td>4751</td>\n",
       "      <td>1019</td>\n",
       "      <td>1006</td>\n",
       "      <td>1282</td>\n",
       "      <td>159</td>\n",
       "      <td>4</td>\n",
       "      <td>...</td>\n",
       "      <td>1152</td>\n",
       "      <td>-226</td>\n",
       "      <td>120</td>\n",
       "      <td>94</td>\n",
       "      <td>47</td>\n",
       "      <td>11</td>\n",
       "      <td>-511</td>\n",
       "      <td>1</td>\n",
       "      <td>6</td>\n",
       "      <td>6</td>\n",
       "    </tr>\n",
       "  </tbody>\n",
       "</table>\n",
       "<p>25 rows × 22 columns</p>\n",
       "</div>"
      ],
      "text/plain": [
       "    Month  Day       Date State  Cases_Total  Cases_White  Cases_Black  \\\n",
       "0    July   15 2020-07-15    IL         2777          995          502   \n",
       "1    July   12 2020-07-12    IL         4494         1494          756   \n",
       "2    July    8 2020-07-08    IL         2181          831          381   \n",
       "3    July    5 2020-07-05    IL         4360          968          500   \n",
       "4    July    1 2020-07-01    IL         2290          670          417   \n",
       "5    June   28 2020-06-28    IL         3183         1036          551   \n",
       "6    June   24 2020-06-24    IL         1778          568          282   \n",
       "7    June   21 2020-06-21    IL         2577         1071          645   \n",
       "8    June   17 2020-06-17    IL         1642          492          292   \n",
       "9    June   14 2020-06-14    IL         2706          764          429   \n",
       "10   June   10 2020-06-10    IL         2080          554          383   \n",
       "11   June    7 2020-06-07    IL         3927          892          686   \n",
       "12   June    3 2020-06-03    IL         3570          702          567   \n",
       "13    May   31 2020-05-31    IL         5954         1137          804   \n",
       "14    May   27 2020-05-27    IL         4002          630          530   \n",
       "15    May   24 2020-05-24    IL         9886         1408         1093   \n",
       "16    May   20 2020-05-20    IL         6227         1033          896   \n",
       "17    May   17 2020-05-17    IL         9493         1811         1582   \n",
       "18    May   13 2020-05-13    IL         6957         1017          665   \n",
       "19    May   10 2020-05-10    IL         9509         1581         1092   \n",
       "20    May    6 2020-05-06    IL         6733         1243         1037   \n",
       "21    May    3 2020-05-03    IL        11144         1890         1390   \n",
       "22  April   29 2020-04-29    IL         6452         1249          932   \n",
       "23  April   26 2020-04-26    IL         8795         1854         1414   \n",
       "24  April   22 2020-04-22    IL         4751         1019         1006   \n",
       "\n",
       "    Cases_LatinX  Cases_Asian  Cases_AIAN  ...  Cases_Unknown  Deaths_Total  \\\n",
       "0            484           56           2  ...            625            39   \n",
       "1            883           68           1  ...           1116            79   \n",
       "2            437           40           1  ...            435            79   \n",
       "3            847           46           5  ...           1878           279   \n",
       "4            619           44           5  ...            506            63   \n",
       "5            919           64           4  ...            501           118   \n",
       "6            647           60          -1  ...            173           123   \n",
       "7            882          123           7  ...           -584           162   \n",
       "8            815           69           3  ...            -55           177   \n",
       "9           1229           87          -1  ...             86           213   \n",
       "10           867           53           5  ...            162           191   \n",
       "11          1515          107           4  ...            577           283   \n",
       "12          1632           91           2  ...            493           231   \n",
       "13          2338          146           9  ...           1267           307   \n",
       "14          1263           85           1  ...           1347           227   \n",
       "15          3551          231           8  ...           3342           331   \n",
       "16          2792          173          14  ...           1119           348   \n",
       "17          4504          301          21  ...            966           385   \n",
       "18          2420          121          12  ...           2433           386   \n",
       "19          3599          205          27  ...           2579           432   \n",
       "20          2738          202          17  ...           1248           356   \n",
       "21          3656          283          12  ...           3415           403   \n",
       "22          2103          195           5  ...           1761           282   \n",
       "23          2548          279          15  ...           2291           368   \n",
       "24          1282          159           4  ...           1152          -226   \n",
       "\n",
       "    Deaths_White  Deaths_Black  Deaths_LatinX  Deaths_Asian  Deaths_AIAN  \\\n",
       "0             20             8              9             3            0   \n",
       "1             36            23             22             6            0   \n",
       "2             40             9             12             8            0   \n",
       "3             33            24             13             2            1   \n",
       "4             29            11             18             2            0   \n",
       "5             57            31             34             3            0   \n",
       "6             61            23             30             4            0   \n",
       "7             87            37             52            12            0   \n",
       "8             86            39             44             8            0   \n",
       "9             94            47             53            13            0   \n",
       "10           103            42             36             6            0   \n",
       "11           132            58             74            13            1   \n",
       "12           117            58             44             9            0   \n",
       "13           158            71             66            10            1   \n",
       "14            96            48             61            11            0   \n",
       "15           142            75             95            21           -2   \n",
       "16           143            78             81            21            2   \n",
       "17           174            99            104            25            0   \n",
       "18           161           111             89            22            1   \n",
       "19           188           108             97            23            1   \n",
       "20           166            94             78            13            2   \n",
       "21           184           108             82            20            1   \n",
       "22           118            84             52            15            0   \n",
       "23           173           116             64            14            1   \n",
       "24           120            94             47            11         -511   \n",
       "\n",
       "    Deaths_NHPI  Deaths_Other  Deaths_Unknown  \n",
       "0             0             0              -1  \n",
       "1             0             1              -9  \n",
       "2             1             3               6  \n",
       "3             0             0             206  \n",
       "4             1            -1               3  \n",
       "5             0            -1              48  \n",
       "6             0            -1              -1  \n",
       "7             1             6               6  \n",
       "8             0             1               1  \n",
       "9             0             3               3  \n",
       "10            0             0               0  \n",
       "11            0            -1              -1  \n",
       "12            1             3               3  \n",
       "13            0             3               3  \n",
       "14            1             0               0  \n",
       "15            0            -2              -2  \n",
       "16            1             7               7  \n",
       "17            0            -5              -5  \n",
       "18            0             9               9  \n",
       "19           -1             2               2  \n",
       "20            0            -5              -5  \n",
       "21            1             6               6  \n",
       "22            0             5               5  \n",
       "23           -1            -2              -2  \n",
       "24            1             6               6  \n",
       "\n",
       "[25 rows x 22 columns]"
      ]
     },
     "execution_count": 6,
     "metadata": {},
     "output_type": "execute_result"
    }
   ],
   "source": [
    "# reorder columns so month is at the front\n",
    "covid_il_data = covid_il[[\"Month\",\"Day\",\"Date\", \"State\", \"Cases_Total\", \"Cases_White\",\"Cases_Black\",\"Cases_LatinX\",\"Cases_Asian\",\"Cases_AIAN\",\"Cases_NHPI\",\"Cases_Other\",\"Cases_Unknown\",\n",
    "                          \"Deaths_Total\",'Deaths_White',\"Deaths_Black\",\"Deaths_LatinX\",\"Deaths_Asian\",\"Deaths_AIAN\",\"Deaths_NHPI\",\"Deaths_Other\",\"Deaths_Unknown\"]]\n",
    "covid_il_data.head(25)"
   ]
  },
  {
   "cell_type": "code",
   "execution_count": 7,
   "metadata": {},
   "outputs": [
    {
     "data": {
      "text/plain": [
       "Month             0\n",
       "Day               0\n",
       "Date              0\n",
       "State             0\n",
       "Cases_Total       0\n",
       "Cases_White       0\n",
       "Cases_Black       0\n",
       "Cases_LatinX      0\n",
       "Cases_Asian       0\n",
       "Cases_AIAN        0\n",
       "Cases_NHPI        0\n",
       "Cases_Other       0\n",
       "Cases_Unknown     0\n",
       "Deaths_Total      0\n",
       "Deaths_White      0\n",
       "Deaths_Black      0\n",
       "Deaths_LatinX     0\n",
       "Deaths_Asian      0\n",
       "Deaths_AIAN       0\n",
       "Deaths_NHPI       0\n",
       "Deaths_Other      0\n",
       "Deaths_Unknown    0\n",
       "dtype: int64"
      ]
     },
     "execution_count": 7,
     "metadata": {},
     "output_type": "execute_result"
    }
   ],
   "source": [
    "# get count of null values and location\n",
    "covid_il_data.isnull().sum()"
   ]
  },
  {
   "cell_type": "code",
   "execution_count": 8,
   "metadata": {},
   "outputs": [
    {
     "data": {
      "text/html": [
       "<div>\n",
       "<style scoped>\n",
       "    .dataframe tbody tr th:only-of-type {\n",
       "        vertical-align: middle;\n",
       "    }\n",
       "\n",
       "    .dataframe tbody tr th {\n",
       "        vertical-align: top;\n",
       "    }\n",
       "\n",
       "    .dataframe thead th {\n",
       "        text-align: right;\n",
       "    }\n",
       "</style>\n",
       "<table border=\"1\" class=\"dataframe\">\n",
       "  <thead>\n",
       "    <tr style=\"text-align: right;\">\n",
       "      <th></th>\n",
       "      <th>Cases_White</th>\n",
       "      <th>Cases_Black</th>\n",
       "      <th>Cases_LatinX</th>\n",
       "      <th>Cases_Asian</th>\n",
       "      <th>Cases_Other</th>\n",
       "    </tr>\n",
       "    <tr>\n",
       "      <th>Month</th>\n",
       "      <th></th>\n",
       "      <th></th>\n",
       "      <th></th>\n",
       "      <th></th>\n",
       "      <th></th>\n",
       "    </tr>\n",
       "  </thead>\n",
       "  <tbody>\n",
       "    <tr>\n",
       "      <td>April</td>\n",
       "      <td>11676</td>\n",
       "      <td>10850</td>\n",
       "      <td>10846</td>\n",
       "      <td>1718</td>\n",
       "      <td>2163</td>\n",
       "    </tr>\n",
       "    <tr>\n",
       "      <td>July</td>\n",
       "      <td>4958</td>\n",
       "      <td>2556</td>\n",
       "      <td>3270</td>\n",
       "      <td>254</td>\n",
       "      <td>504</td>\n",
       "    </tr>\n",
       "    <tr>\n",
       "      <td>June</td>\n",
       "      <td>6079</td>\n",
       "      <td>3835</td>\n",
       "      <td>8506</td>\n",
       "      <td>654</td>\n",
       "      <td>1036</td>\n",
       "    </tr>\n",
       "    <tr>\n",
       "      <td>May</td>\n",
       "      <td>11750</td>\n",
       "      <td>9089</td>\n",
       "      <td>26861</td>\n",
       "      <td>1747</td>\n",
       "      <td>2742</td>\n",
       "    </tr>\n",
       "  </tbody>\n",
       "</table>\n",
       "</div>"
      ],
      "text/plain": [
       "       Cases_White  Cases_Black  Cases_LatinX  Cases_Asian  Cases_Other\n",
       "Month                                                                  \n",
       "April        11676        10850         10846         1718         2163\n",
       "July          4958         2556          3270          254          504\n",
       "June          6079         3835          8506          654         1036\n",
       "May          11750         9089         26861         1747         2742"
      ]
     },
     "execution_count": 8,
     "metadata": {},
     "output_type": "execute_result"
    }
   ],
   "source": [
    "# group and calculate total cases by month\n",
    "\n",
    "groupby_cases_race = covid_il.groupby('Month')\n",
    "cases_count = pd.DataFrame(groupby_cases_race['Cases_White'].sum())\n",
    "cases_count[\"Cases_Black\"] = pd.DataFrame(groupby_cases_race['Cases_Black'].sum())\n",
    "cases_count[\"Cases_LatinX\"] = pd.DataFrame(groupby_cases_race['Cases_LatinX'].sum())\n",
    "cases_count[\"Cases_Asian\"] = pd.DataFrame(groupby_cases_race['Cases_Asian'].sum())\n",
    "cases_count[\"Cases_Other\"] = pd.DataFrame(groupby_cases_race['Cases_AIAN'].sum() + groupby_cases_race['Cases_NHPI'].sum() + groupby_cases_race['Cases_Other'].sum())\n",
    "cases_count"
   ]
  },
  {
   "cell_type": "code",
   "execution_count": 9,
   "metadata": {},
   "outputs": [
    {
     "data": {
      "text/html": [
       "<div>\n",
       "<style scoped>\n",
       "    .dataframe tbody tr th:only-of-type {\n",
       "        vertical-align: middle;\n",
       "    }\n",
       "\n",
       "    .dataframe tbody tr th {\n",
       "        vertical-align: top;\n",
       "    }\n",
       "\n",
       "    .dataframe thead th {\n",
       "        text-align: right;\n",
       "    }\n",
       "</style>\n",
       "<table border=\"1\" class=\"dataframe\">\n",
       "  <thead>\n",
       "    <tr style=\"text-align: right;\">\n",
       "      <th></th>\n",
       "      <th>Cases_Asian</th>\n",
       "      <th>Cases_Black</th>\n",
       "      <th>Cases_LatinX</th>\n",
       "      <th>Cases_Other</th>\n",
       "      <th>Cases_White</th>\n",
       "    </tr>\n",
       "    <tr>\n",
       "      <th>Month</th>\n",
       "      <th></th>\n",
       "      <th></th>\n",
       "      <th></th>\n",
       "      <th></th>\n",
       "      <th></th>\n",
       "    </tr>\n",
       "  </thead>\n",
       "  <tbody>\n",
       "    <tr>\n",
       "      <td>April</td>\n",
       "      <td>1718</td>\n",
       "      <td>10850</td>\n",
       "      <td>10846</td>\n",
       "      <td>2163</td>\n",
       "      <td>11676</td>\n",
       "    </tr>\n",
       "    <tr>\n",
       "      <td>July</td>\n",
       "      <td>254</td>\n",
       "      <td>2556</td>\n",
       "      <td>3270</td>\n",
       "      <td>504</td>\n",
       "      <td>4958</td>\n",
       "    </tr>\n",
       "    <tr>\n",
       "      <td>June</td>\n",
       "      <td>654</td>\n",
       "      <td>3835</td>\n",
       "      <td>8506</td>\n",
       "      <td>1036</td>\n",
       "      <td>6079</td>\n",
       "    </tr>\n",
       "    <tr>\n",
       "      <td>May</td>\n",
       "      <td>1747</td>\n",
       "      <td>9089</td>\n",
       "      <td>26861</td>\n",
       "      <td>2742</td>\n",
       "      <td>11750</td>\n",
       "    </tr>\n",
       "    <tr>\n",
       "      <td>total</td>\n",
       "      <td>4373</td>\n",
       "      <td>26330</td>\n",
       "      <td>49483</td>\n",
       "      <td>6445</td>\n",
       "      <td>34463</td>\n",
       "    </tr>\n",
       "  </tbody>\n",
       "</table>\n",
       "</div>"
      ],
      "text/plain": [
       "       Cases_Asian  Cases_Black  Cases_LatinX  Cases_Other  Cases_White\n",
       "Month                                                                  \n",
       "April         1718        10850         10846         2163        11676\n",
       "July           254         2556          3270          504         4958\n",
       "June           654         3835          8506         1036         6079\n",
       "May           1747         9089         26861         2742        11750\n",
       "total         4373        26330         49483         6445        34463"
      ]
     },
     "execution_count": 9,
     "metadata": {},
     "output_type": "execute_result"
    }
   ],
   "source": [
    "# pivot table for cases to include total row\n",
    "\n",
    "cases_pivot = cases_count.pivot_table(index='Month',\n",
    "               margins=True,\n",
    "               margins_name='total',  \n",
    "               aggfunc=sum)\n",
    "cases_pivot"
   ]
  },
  {
   "cell_type": "code",
   "execution_count": 10,
   "metadata": {},
   "outputs": [],
   "source": [
    "# transpose df \n",
    "\n",
    "cases_df = cases_count.transpose()\n"
   ]
  },
  {
   "cell_type": "code",
   "execution_count": 11,
   "metadata": {},
   "outputs": [
    {
     "data": {
      "text/html": [
       "<div>\n",
       "<style scoped>\n",
       "    .dataframe tbody tr th:only-of-type {\n",
       "        vertical-align: middle;\n",
       "    }\n",
       "\n",
       "    .dataframe tbody tr th {\n",
       "        vertical-align: top;\n",
       "    }\n",
       "\n",
       "    .dataframe thead th {\n",
       "        text-align: right;\n",
       "    }\n",
       "</style>\n",
       "<table border=\"1\" class=\"dataframe\">\n",
       "  <thead>\n",
       "    <tr style=\"text-align: right;\">\n",
       "      <th>Month</th>\n",
       "      <th>April</th>\n",
       "      <th>July</th>\n",
       "      <th>June</th>\n",
       "      <th>May</th>\n",
       "      <th>total_il_cases</th>\n",
       "    </tr>\n",
       "    <tr>\n",
       "      <th>race/ethnicity</th>\n",
       "      <th></th>\n",
       "      <th></th>\n",
       "      <th></th>\n",
       "      <th></th>\n",
       "      <th></th>\n",
       "    </tr>\n",
       "  </thead>\n",
       "  <tbody>\n",
       "    <tr>\n",
       "      <td>white</td>\n",
       "      <td>11676</td>\n",
       "      <td>4958</td>\n",
       "      <td>6079</td>\n",
       "      <td>11750</td>\n",
       "      <td>34463</td>\n",
       "    </tr>\n",
       "    <tr>\n",
       "      <td>black</td>\n",
       "      <td>10850</td>\n",
       "      <td>2556</td>\n",
       "      <td>3835</td>\n",
       "      <td>9089</td>\n",
       "      <td>26330</td>\n",
       "    </tr>\n",
       "    <tr>\n",
       "      <td>latinx</td>\n",
       "      <td>10846</td>\n",
       "      <td>3270</td>\n",
       "      <td>8506</td>\n",
       "      <td>26861</td>\n",
       "      <td>49483</td>\n",
       "    </tr>\n",
       "    <tr>\n",
       "      <td>asian</td>\n",
       "      <td>1718</td>\n",
       "      <td>254</td>\n",
       "      <td>654</td>\n",
       "      <td>1747</td>\n",
       "      <td>4373</td>\n",
       "    </tr>\n",
       "    <tr>\n",
       "      <td>other</td>\n",
       "      <td>2163</td>\n",
       "      <td>504</td>\n",
       "      <td>1036</td>\n",
       "      <td>2742</td>\n",
       "      <td>6445</td>\n",
       "    </tr>\n",
       "  </tbody>\n",
       "</table>\n",
       "</div>"
      ],
      "text/plain": [
       "Month           April  July  June    May  total_il_cases\n",
       "race/ethnicity                                          \n",
       "white           11676  4958  6079  11750           34463\n",
       "black           10850  2556  3835   9089           26330\n",
       "latinx          10846  3270  8506  26861           49483\n",
       "asian            1718   254   654   1747            4373\n",
       "other            2163   504  1036   2742            6445"
      ]
     },
     "execution_count": 11,
     "metadata": {},
     "output_type": "execute_result"
    }
   ],
   "source": [
    "# change index to race/ethnicity column\n",
    "race_list = [\"white\", \"black\", \"latinx\", \"asian\", \"other\"]\n",
    "cases_df[\"race/ethnicity\"] = race_list\n",
    "cases_df[\"total_il_cases\"] = cases_df.sum(axis=1)\n",
    "cases_df.set_index(\"race/ethnicity\")"
   ]
  },
  {
   "cell_type": "code",
   "execution_count": 35,
   "metadata": {},
   "outputs": [
    {
     "data": {
      "text/html": [
       "<div>\n",
       "<style scoped>\n",
       "    .dataframe tbody tr th:only-of-type {\n",
       "        vertical-align: middle;\n",
       "    }\n",
       "\n",
       "    .dataframe tbody tr th {\n",
       "        vertical-align: top;\n",
       "    }\n",
       "\n",
       "    .dataframe thead th {\n",
       "        text-align: right;\n",
       "    }\n",
       "</style>\n",
       "<table border=\"1\" class=\"dataframe\">\n",
       "  <thead>\n",
       "    <tr style=\"text-align: right;\">\n",
       "      <th></th>\n",
       "      <th>Deaths_White</th>\n",
       "      <th>Deaths_Black</th>\n",
       "      <th>Deaths_LatinX</th>\n",
       "      <th>Deaths_Asian</th>\n",
       "      <th>Deaths_Other</th>\n",
       "    </tr>\n",
       "    <tr>\n",
       "      <th>Month</th>\n",
       "      <th></th>\n",
       "      <th></th>\n",
       "      <th></th>\n",
       "      <th></th>\n",
       "      <th></th>\n",
       "    </tr>\n",
       "  </thead>\n",
       "  <tbody>\n",
       "    <tr>\n",
       "      <td>April</td>\n",
       "      <td>912</td>\n",
       "      <td>796</td>\n",
       "      <td>297</td>\n",
       "      <td>91</td>\n",
       "      <td>28</td>\n",
       "    </tr>\n",
       "    <tr>\n",
       "      <td>July</td>\n",
       "      <td>158</td>\n",
       "      <td>75</td>\n",
       "      <td>74</td>\n",
       "      <td>21</td>\n",
       "      <td>6</td>\n",
       "    </tr>\n",
       "    <tr>\n",
       "      <td>June</td>\n",
       "      <td>737</td>\n",
       "      <td>335</td>\n",
       "      <td>367</td>\n",
       "      <td>68</td>\n",
       "      <td>13</td>\n",
       "    </tr>\n",
       "    <tr>\n",
       "      <td>May</td>\n",
       "      <td>1412</td>\n",
       "      <td>792</td>\n",
       "      <td>753</td>\n",
       "      <td>166</td>\n",
       "      <td>23</td>\n",
       "    </tr>\n",
       "  </tbody>\n",
       "</table>\n",
       "</div>"
      ],
      "text/plain": [
       "       Deaths_White  Deaths_Black  Deaths_LatinX  Deaths_Asian  Deaths_Other\n",
       "Month                                                                       \n",
       "April           912           796            297            91            28\n",
       "July            158            75             74            21             6\n",
       "June            737           335            367            68            13\n",
       "May            1412           792            753           166            23"
      ]
     },
     "execution_count": 35,
     "metadata": {},
     "output_type": "execute_result"
    }
   ],
   "source": [
    "# group and calculate total deaths by month\n",
    "\n",
    "groupby_deaths_race = covid_il.groupby('Month')\n",
    "deaths_count = pd.DataFrame(groupby_deaths_race['Deaths_White'].sum())\n",
    "deaths_count[\"Deaths_Black\"] = pd.DataFrame(groupby_deaths_race['Deaths_Black'].sum())\n",
    "deaths_count[\"Deaths_LatinX\"] = pd.DataFrame(groupby_deaths_race['Deaths_LatinX'].sum())\n",
    "deaths_count[\"Deaths_Asian\"] = pd.DataFrame(groupby_deaths_race['Deaths_Asian'].sum())\n",
    "deaths_count[\"Deaths_Other\"] = pd.DataFrame(groupby_deaths_race['Deaths_AIAN'].sum() + groupby_deaths_race['Deaths_NHPI'].sum() + groupby_deaths_race['Deaths_Other'].sum())\n",
    "deaths_count"
   ]
  },
  {
   "cell_type": "code",
   "execution_count": 13,
   "metadata": {},
   "outputs": [
    {
     "data": {
      "text/html": [
       "<div>\n",
       "<style scoped>\n",
       "    .dataframe tbody tr th:only-of-type {\n",
       "        vertical-align: middle;\n",
       "    }\n",
       "\n",
       "    .dataframe tbody tr th {\n",
       "        vertical-align: top;\n",
       "    }\n",
       "\n",
       "    .dataframe thead th {\n",
       "        text-align: right;\n",
       "    }\n",
       "</style>\n",
       "<table border=\"1\" class=\"dataframe\">\n",
       "  <thead>\n",
       "    <tr style=\"text-align: right;\">\n",
       "      <th></th>\n",
       "      <th>Deaths_Asian</th>\n",
       "      <th>Deaths_Black</th>\n",
       "      <th>Deaths_LatinX</th>\n",
       "      <th>Deaths_Other</th>\n",
       "      <th>Deaths_White</th>\n",
       "    </tr>\n",
       "    <tr>\n",
       "      <th>Month</th>\n",
       "      <th></th>\n",
       "      <th></th>\n",
       "      <th></th>\n",
       "      <th></th>\n",
       "      <th></th>\n",
       "    </tr>\n",
       "  </thead>\n",
       "  <tbody>\n",
       "    <tr>\n",
       "      <td>April</td>\n",
       "      <td>91</td>\n",
       "      <td>796</td>\n",
       "      <td>297</td>\n",
       "      <td>28</td>\n",
       "      <td>912</td>\n",
       "    </tr>\n",
       "    <tr>\n",
       "      <td>July</td>\n",
       "      <td>21</td>\n",
       "      <td>75</td>\n",
       "      <td>74</td>\n",
       "      <td>6</td>\n",
       "      <td>158</td>\n",
       "    </tr>\n",
       "    <tr>\n",
       "      <td>June</td>\n",
       "      <td>68</td>\n",
       "      <td>335</td>\n",
       "      <td>367</td>\n",
       "      <td>13</td>\n",
       "      <td>737</td>\n",
       "    </tr>\n",
       "    <tr>\n",
       "      <td>May</td>\n",
       "      <td>166</td>\n",
       "      <td>792</td>\n",
       "      <td>753</td>\n",
       "      <td>23</td>\n",
       "      <td>1412</td>\n",
       "    </tr>\n",
       "    <tr>\n",
       "      <td>total</td>\n",
       "      <td>346</td>\n",
       "      <td>1998</td>\n",
       "      <td>1491</td>\n",
       "      <td>70</td>\n",
       "      <td>3219</td>\n",
       "    </tr>\n",
       "  </tbody>\n",
       "</table>\n",
       "</div>"
      ],
      "text/plain": [
       "       Deaths_Asian  Deaths_Black  Deaths_LatinX  Deaths_Other  Deaths_White\n",
       "Month                                                                       \n",
       "April            91           796            297            28           912\n",
       "July             21            75             74             6           158\n",
       "June             68           335            367            13           737\n",
       "May             166           792            753            23          1412\n",
       "total           346          1998           1491            70          3219"
      ]
     },
     "execution_count": 13,
     "metadata": {},
     "output_type": "execute_result"
    }
   ],
   "source": [
    "# pivot table for deaths to include total row\n",
    "\n",
    "deaths_pivot = deaths_count.pivot_table(index='Month',\n",
    "               margins=True,\n",
    "               margins_name='total',  \n",
    "               aggfunc=sum)\n",
    "deaths_pivot"
   ]
  },
  {
   "cell_type": "code",
   "execution_count": 37,
   "metadata": {},
   "outputs": [
    {
     "data": {
      "text/html": [
       "<div>\n",
       "<style scoped>\n",
       "    .dataframe tbody tr th:only-of-type {\n",
       "        vertical-align: middle;\n",
       "    }\n",
       "\n",
       "    .dataframe tbody tr th {\n",
       "        vertical-align: top;\n",
       "    }\n",
       "\n",
       "    .dataframe thead th {\n",
       "        text-align: right;\n",
       "    }\n",
       "</style>\n",
       "<table border=\"1\" class=\"dataframe\">\n",
       "  <thead>\n",
       "    <tr style=\"text-align: right;\">\n",
       "      <th></th>\n",
       "      <th>Cases_Asian</th>\n",
       "      <th>Cases_Black</th>\n",
       "      <th>Cases_LatinX</th>\n",
       "      <th>Cases_Other</th>\n",
       "      <th>Cases_White</th>\n",
       "      <th>Deaths_Asian</th>\n",
       "      <th>Deaths_Black</th>\n",
       "      <th>Deaths_LatinX</th>\n",
       "      <th>Deaths_Other</th>\n",
       "      <th>Deaths_White</th>\n",
       "    </tr>\n",
       "    <tr>\n",
       "      <th>Month</th>\n",
       "      <th></th>\n",
       "      <th></th>\n",
       "      <th></th>\n",
       "      <th></th>\n",
       "      <th></th>\n",
       "      <th></th>\n",
       "      <th></th>\n",
       "      <th></th>\n",
       "      <th></th>\n",
       "      <th></th>\n",
       "    </tr>\n",
       "  </thead>\n",
       "  <tbody>\n",
       "    <tr>\n",
       "      <td>April</td>\n",
       "      <td>1718</td>\n",
       "      <td>10850</td>\n",
       "      <td>10846</td>\n",
       "      <td>2163</td>\n",
       "      <td>11676</td>\n",
       "      <td>91</td>\n",
       "      <td>796</td>\n",
       "      <td>297</td>\n",
       "      <td>28</td>\n",
       "      <td>912</td>\n",
       "    </tr>\n",
       "    <tr>\n",
       "      <td>July</td>\n",
       "      <td>254</td>\n",
       "      <td>2556</td>\n",
       "      <td>3270</td>\n",
       "      <td>504</td>\n",
       "      <td>4958</td>\n",
       "      <td>21</td>\n",
       "      <td>75</td>\n",
       "      <td>74</td>\n",
       "      <td>6</td>\n",
       "      <td>158</td>\n",
       "    </tr>\n",
       "    <tr>\n",
       "      <td>June</td>\n",
       "      <td>654</td>\n",
       "      <td>3835</td>\n",
       "      <td>8506</td>\n",
       "      <td>1036</td>\n",
       "      <td>6079</td>\n",
       "      <td>68</td>\n",
       "      <td>335</td>\n",
       "      <td>367</td>\n",
       "      <td>13</td>\n",
       "      <td>737</td>\n",
       "    </tr>\n",
       "    <tr>\n",
       "      <td>May</td>\n",
       "      <td>1747</td>\n",
       "      <td>9089</td>\n",
       "      <td>26861</td>\n",
       "      <td>2742</td>\n",
       "      <td>11750</td>\n",
       "      <td>166</td>\n",
       "      <td>792</td>\n",
       "      <td>753</td>\n",
       "      <td>23</td>\n",
       "      <td>1412</td>\n",
       "    </tr>\n",
       "    <tr>\n",
       "      <td>total</td>\n",
       "      <td>4373</td>\n",
       "      <td>26330</td>\n",
       "      <td>49483</td>\n",
       "      <td>6445</td>\n",
       "      <td>34463</td>\n",
       "      <td>346</td>\n",
       "      <td>1998</td>\n",
       "      <td>1491</td>\n",
       "      <td>70</td>\n",
       "      <td>3219</td>\n",
       "    </tr>\n",
       "  </tbody>\n",
       "</table>\n",
       "</div>"
      ],
      "text/plain": [
       "       Cases_Asian  Cases_Black  Cases_LatinX  Cases_Other  Cases_White  \\\n",
       "Month                                                                     \n",
       "April         1718        10850         10846         2163        11676   \n",
       "July           254         2556          3270          504         4958   \n",
       "June           654         3835          8506         1036         6079   \n",
       "May           1747         9089         26861         2742        11750   \n",
       "total         4373        26330         49483         6445        34463   \n",
       "\n",
       "       Deaths_Asian  Deaths_Black  Deaths_LatinX  Deaths_Other  Deaths_White  \n",
       "Month                                                                         \n",
       "April            91           796            297            28           912  \n",
       "July             21            75             74             6           158  \n",
       "June             68           335            367            13           737  \n",
       "May             166           792            753            23          1412  \n",
       "total           346          1998           1491            70          3219  "
      ]
     },
     "execution_count": 37,
     "metadata": {},
     "output_type": "execute_result"
    }
   ],
   "source": [
    "# merged df for deaths and cases\n",
    "\n",
    "deaths_and_cases = pd.merge(cases_pivot, deaths_pivot\n",
    "                            , how=\"outer\", on=\"Month\")\n",
    "deaths_and_cases"
   ]
  },
  {
   "cell_type": "code",
   "execution_count": 14,
   "metadata": {},
   "outputs": [
    {
     "data": {
      "text/html": [
       "<div>\n",
       "<style scoped>\n",
       "    .dataframe tbody tr th:only-of-type {\n",
       "        vertical-align: middle;\n",
       "    }\n",
       "\n",
       "    .dataframe tbody tr th {\n",
       "        vertical-align: top;\n",
       "    }\n",
       "\n",
       "    .dataframe thead th {\n",
       "        text-align: right;\n",
       "    }\n",
       "</style>\n",
       "<table border=\"1\" class=\"dataframe\">\n",
       "  <thead>\n",
       "    <tr style=\"text-align: right;\">\n",
       "      <th>Month</th>\n",
       "      <th>April</th>\n",
       "      <th>July</th>\n",
       "      <th>June</th>\n",
       "      <th>May</th>\n",
       "      <th>total_il_deaths</th>\n",
       "    </tr>\n",
       "    <tr>\n",
       "      <th>race/ethnicity</th>\n",
       "      <th></th>\n",
       "      <th></th>\n",
       "      <th></th>\n",
       "      <th></th>\n",
       "      <th></th>\n",
       "    </tr>\n",
       "  </thead>\n",
       "  <tbody>\n",
       "    <tr>\n",
       "      <td>white</td>\n",
       "      <td>912</td>\n",
       "      <td>158</td>\n",
       "      <td>737</td>\n",
       "      <td>1412</td>\n",
       "      <td>3219</td>\n",
       "    </tr>\n",
       "    <tr>\n",
       "      <td>black</td>\n",
       "      <td>796</td>\n",
       "      <td>75</td>\n",
       "      <td>335</td>\n",
       "      <td>792</td>\n",
       "      <td>1998</td>\n",
       "    </tr>\n",
       "    <tr>\n",
       "      <td>latinx</td>\n",
       "      <td>297</td>\n",
       "      <td>74</td>\n",
       "      <td>367</td>\n",
       "      <td>753</td>\n",
       "      <td>1491</td>\n",
       "    </tr>\n",
       "    <tr>\n",
       "      <td>asian</td>\n",
       "      <td>91</td>\n",
       "      <td>21</td>\n",
       "      <td>68</td>\n",
       "      <td>166</td>\n",
       "      <td>346</td>\n",
       "    </tr>\n",
       "    <tr>\n",
       "      <td>other</td>\n",
       "      <td>28</td>\n",
       "      <td>6</td>\n",
       "      <td>13</td>\n",
       "      <td>23</td>\n",
       "      <td>70</td>\n",
       "    </tr>\n",
       "  </tbody>\n",
       "</table>\n",
       "</div>"
      ],
      "text/plain": [
       "Month           April  July  June   May  total_il_deaths\n",
       "race/ethnicity                                          \n",
       "white             912   158   737  1412             3219\n",
       "black             796    75   335   792             1998\n",
       "latinx            297    74   367   753             1491\n",
       "asian              91    21    68   166              346\n",
       "other              28     6    13    23               70"
      ]
     },
     "execution_count": 14,
     "metadata": {},
     "output_type": "execute_result"
    }
   ],
   "source": [
    "# transpose deaths df\n",
    "\n",
    "deaths_df = deaths_count.transpose()\n",
    "race_list = [\"white\", \"black\", \"latinx\", \"asian\", \"other\"]\n",
    "deaths_df[\"race/ethnicity\"] = race_list\n",
    "deaths_df[\"total_il_deaths\"] = deaths_df.sum(axis=1)\n",
    "deaths_df.set_index(\"race/ethnicity\")"
   ]
  },
  {
   "cell_type": "code",
   "execution_count": 15,
   "metadata": {},
   "outputs": [
    {
     "data": {
      "text/html": [
       "<div>\n",
       "<style scoped>\n",
       "    .dataframe tbody tr th:only-of-type {\n",
       "        vertical-align: middle;\n",
       "    }\n",
       "\n",
       "    .dataframe tbody tr th {\n",
       "        vertical-align: top;\n",
       "    }\n",
       "\n",
       "    .dataframe thead th {\n",
       "        text-align: right;\n",
       "    }\n",
       "</style>\n",
       "<table border=\"1\" class=\"dataframe\">\n",
       "  <thead>\n",
       "    <tr style=\"text-align: right;\">\n",
       "      <th></th>\n",
       "      <th>race/ethnicity</th>\n",
       "      <th>il_population_2018</th>\n",
       "    </tr>\n",
       "  </thead>\n",
       "  <tbody>\n",
       "    <tr>\n",
       "      <td>0</td>\n",
       "      <td>asian</td>\n",
       "      <td>711970</td>\n",
       "    </tr>\n",
       "    <tr>\n",
       "      <td>1</td>\n",
       "      <td>black</td>\n",
       "      <td>1759316</td>\n",
       "    </tr>\n",
       "    <tr>\n",
       "      <td>2</td>\n",
       "      <td>latinx</td>\n",
       "      <td>2208868</td>\n",
       "    </tr>\n",
       "    <tr>\n",
       "      <td>3</td>\n",
       "      <td>other</td>\n",
       "      <td>300194</td>\n",
       "    </tr>\n",
       "    <tr>\n",
       "      <td>4</td>\n",
       "      <td>white</td>\n",
       "      <td>7760732</td>\n",
       "    </tr>\n",
       "  </tbody>\n",
       "</table>\n",
       "</div>"
      ],
      "text/plain": [
       "  race/ethnicity  il_population_2018\n",
       "0          asian              711970\n",
       "1          black             1759316\n",
       "2         latinx             2208868\n",
       "3          other              300194\n",
       "4          white             7760732"
      ]
     },
     "execution_count": 15,
     "metadata": {},
     "output_type": "execute_result"
    }
   ],
   "source": [
    "# import il census data on race \n",
    "\n",
    "il_race_count = pd.read_csv('zac files/csv_files/il_race_count.csv')\n",
    "il_race_count.head(10)"
   ]
  },
  {
   "cell_type": "code",
   "execution_count": 16,
   "metadata": {},
   "outputs": [
    {
     "data": {
      "text/html": [
       "<div>\n",
       "<style scoped>\n",
       "    .dataframe tbody tr th:only-of-type {\n",
       "        vertical-align: middle;\n",
       "    }\n",
       "\n",
       "    .dataframe tbody tr th {\n",
       "        vertical-align: top;\n",
       "    }\n",
       "\n",
       "    .dataframe thead th {\n",
       "        text-align: right;\n",
       "    }\n",
       "</style>\n",
       "<table border=\"1\" class=\"dataframe\">\n",
       "  <thead>\n",
       "    <tr style=\"text-align: right;\">\n",
       "      <th></th>\n",
       "      <th>race/ethnicity</th>\n",
       "      <th>April</th>\n",
       "      <th>May</th>\n",
       "      <th>June</th>\n",
       "      <th>July</th>\n",
       "      <th>total_il_cases</th>\n",
       "      <th>il_population_2018</th>\n",
       "      <th>prop_cases</th>\n",
       "      <th>cases_per1000</th>\n",
       "    </tr>\n",
       "  </thead>\n",
       "  <tbody>\n",
       "    <tr>\n",
       "      <td>0</td>\n",
       "      <td>white</td>\n",
       "      <td>11676</td>\n",
       "      <td>11750</td>\n",
       "      <td>6079</td>\n",
       "      <td>4958</td>\n",
       "      <td>34463</td>\n",
       "      <td>7760732</td>\n",
       "      <td>0.0044</td>\n",
       "      <td>4.4</td>\n",
       "    </tr>\n",
       "    <tr>\n",
       "      <td>1</td>\n",
       "      <td>black</td>\n",
       "      <td>10850</td>\n",
       "      <td>9089</td>\n",
       "      <td>3835</td>\n",
       "      <td>2556</td>\n",
       "      <td>26330</td>\n",
       "      <td>1759316</td>\n",
       "      <td>0.0150</td>\n",
       "      <td>15.0</td>\n",
       "    </tr>\n",
       "    <tr>\n",
       "      <td>2</td>\n",
       "      <td>latinx</td>\n",
       "      <td>10846</td>\n",
       "      <td>26861</td>\n",
       "      <td>8506</td>\n",
       "      <td>3270</td>\n",
       "      <td>49483</td>\n",
       "      <td>2208868</td>\n",
       "      <td>0.0224</td>\n",
       "      <td>22.4</td>\n",
       "    </tr>\n",
       "    <tr>\n",
       "      <td>3</td>\n",
       "      <td>asian</td>\n",
       "      <td>1718</td>\n",
       "      <td>1747</td>\n",
       "      <td>654</td>\n",
       "      <td>254</td>\n",
       "      <td>4373</td>\n",
       "      <td>711970</td>\n",
       "      <td>0.0061</td>\n",
       "      <td>6.1</td>\n",
       "    </tr>\n",
       "    <tr>\n",
       "      <td>4</td>\n",
       "      <td>other</td>\n",
       "      <td>2163</td>\n",
       "      <td>2742</td>\n",
       "      <td>1036</td>\n",
       "      <td>504</td>\n",
       "      <td>6445</td>\n",
       "      <td>300194</td>\n",
       "      <td>0.0215</td>\n",
       "      <td>21.5</td>\n",
       "    </tr>\n",
       "  </tbody>\n",
       "</table>\n",
       "</div>"
      ],
      "text/plain": [
       "  race/ethnicity  April    May  June  July  total_il_cases  \\\n",
       "0          white  11676  11750  6079  4958           34463   \n",
       "1          black  10850   9089  3835  2556           26330   \n",
       "2         latinx  10846  26861  8506  3270           49483   \n",
       "3          asian   1718   1747   654   254            4373   \n",
       "4          other   2163   2742  1036   504            6445   \n",
       "\n",
       "   il_population_2018  prop_cases  cases_per1000  \n",
       "0             7760732      0.0044            4.4  \n",
       "1             1759316      0.0150           15.0  \n",
       "2             2208868      0.0224           22.4  \n",
       "3              711970      0.0061            6.1  \n",
       "4              300194      0.0215           21.5  "
      ]
     },
     "execution_count": 16,
     "metadata": {},
     "output_type": "execute_result"
    }
   ],
   "source": [
    "# merge cases and census dataframes and create columns for case % and case per 1000 people\n",
    "\n",
    "il_cases = pd.merge(cases_df, il_race_count, how=\"outer\", on=\"race/ethnicity\")\n",
    "il_cases['prop_cases'] = round(il_cases['total_il_cases']/il_cases['il_population_2018'],4)\n",
    "il_cases['cases_per1000'] = round(il_cases['prop_cases']*1000,1)\n",
    "il_cases = il_cases[[\"race/ethnicity\",\"April\",\"May\",\"June\",\"July\",\"total_il_cases\",\"il_population_2018\",\"prop_cases\",\"cases_per1000\"]]\n",
    "il_cases"
   ]
  },
  {
   "cell_type": "code",
   "execution_count": 17,
   "metadata": {},
   "outputs": [
    {
     "data": {
      "text/html": [
       "<div>\n",
       "<style scoped>\n",
       "    .dataframe tbody tr th:only-of-type {\n",
       "        vertical-align: middle;\n",
       "    }\n",
       "\n",
       "    .dataframe tbody tr th {\n",
       "        vertical-align: top;\n",
       "    }\n",
       "\n",
       "    .dataframe thead th {\n",
       "        text-align: right;\n",
       "    }\n",
       "</style>\n",
       "<table border=\"1\" class=\"dataframe\">\n",
       "  <thead>\n",
       "    <tr style=\"text-align: right;\">\n",
       "      <th></th>\n",
       "      <th>April</th>\n",
       "      <th>July</th>\n",
       "      <th>June</th>\n",
       "      <th>May</th>\n",
       "      <th>cases_per1000</th>\n",
       "      <th>il_population_2018</th>\n",
       "      <th>prop_cases</th>\n",
       "      <th>total_il_cases</th>\n",
       "    </tr>\n",
       "    <tr>\n",
       "      <th>race/ethnicity</th>\n",
       "      <th></th>\n",
       "      <th></th>\n",
       "      <th></th>\n",
       "      <th></th>\n",
       "      <th></th>\n",
       "      <th></th>\n",
       "      <th></th>\n",
       "      <th></th>\n",
       "    </tr>\n",
       "  </thead>\n",
       "  <tbody>\n",
       "    <tr>\n",
       "      <td>asian</td>\n",
       "      <td>1718</td>\n",
       "      <td>254</td>\n",
       "      <td>654</td>\n",
       "      <td>1747</td>\n",
       "      <td>6.1</td>\n",
       "      <td>711970</td>\n",
       "      <td>0.0061</td>\n",
       "      <td>4373</td>\n",
       "    </tr>\n",
       "    <tr>\n",
       "      <td>black</td>\n",
       "      <td>10850</td>\n",
       "      <td>2556</td>\n",
       "      <td>3835</td>\n",
       "      <td>9089</td>\n",
       "      <td>15.0</td>\n",
       "      <td>1759316</td>\n",
       "      <td>0.0150</td>\n",
       "      <td>26330</td>\n",
       "    </tr>\n",
       "    <tr>\n",
       "      <td>latinx</td>\n",
       "      <td>10846</td>\n",
       "      <td>3270</td>\n",
       "      <td>8506</td>\n",
       "      <td>26861</td>\n",
       "      <td>22.4</td>\n",
       "      <td>2208868</td>\n",
       "      <td>0.0224</td>\n",
       "      <td>49483</td>\n",
       "    </tr>\n",
       "    <tr>\n",
       "      <td>other</td>\n",
       "      <td>2163</td>\n",
       "      <td>504</td>\n",
       "      <td>1036</td>\n",
       "      <td>2742</td>\n",
       "      <td>21.5</td>\n",
       "      <td>300194</td>\n",
       "      <td>0.0215</td>\n",
       "      <td>6445</td>\n",
       "    </tr>\n",
       "    <tr>\n",
       "      <td>white</td>\n",
       "      <td>11676</td>\n",
       "      <td>4958</td>\n",
       "      <td>6079</td>\n",
       "      <td>11750</td>\n",
       "      <td>4.4</td>\n",
       "      <td>7760732</td>\n",
       "      <td>0.0044</td>\n",
       "      <td>34463</td>\n",
       "    </tr>\n",
       "    <tr>\n",
       "      <td>total</td>\n",
       "      <td>37253</td>\n",
       "      <td>11542</td>\n",
       "      <td>20110</td>\n",
       "      <td>52189</td>\n",
       "      <td>69.4</td>\n",
       "      <td>12741080</td>\n",
       "      <td>0.0694</td>\n",
       "      <td>121094</td>\n",
       "    </tr>\n",
       "  </tbody>\n",
       "</table>\n",
       "</div>"
      ],
      "text/plain": [
       "                April   July   June    May  cases_per1000  il_population_2018  \\\n",
       "race/ethnicity                                                                  \n",
       "asian            1718    254    654   1747            6.1              711970   \n",
       "black           10850   2556   3835   9089           15.0             1759316   \n",
       "latinx          10846   3270   8506  26861           22.4             2208868   \n",
       "other            2163    504   1036   2742           21.5              300194   \n",
       "white           11676   4958   6079  11750            4.4             7760732   \n",
       "total           37253  11542  20110  52189           69.4            12741080   \n",
       "\n",
       "                prop_cases  total_il_cases  \n",
       "race/ethnicity                              \n",
       "asian               0.0061            4373  \n",
       "black               0.0150           26330  \n",
       "latinx              0.0224           49483  \n",
       "other               0.0215            6445  \n",
       "white               0.0044           34463  \n",
       "total               0.0694          121094  "
      ]
     },
     "execution_count": 17,
     "metadata": {},
     "output_type": "execute_result"
    }
   ],
   "source": [
    "# CASES PIVOT\n",
    "\n",
    "il_cases.pivot_table(index='race/ethnicity',\n",
    "               margins=True,\n",
    "               margins_name='total',  \n",
    "               aggfunc=sum)\n"
   ]
  },
  {
   "cell_type": "code",
   "execution_count": 18,
   "metadata": {},
   "outputs": [
    {
     "data": {
      "text/html": [
       "<div>\n",
       "<style scoped>\n",
       "    .dataframe tbody tr th:only-of-type {\n",
       "        vertical-align: middle;\n",
       "    }\n",
       "\n",
       "    .dataframe tbody tr th {\n",
       "        vertical-align: top;\n",
       "    }\n",
       "\n",
       "    .dataframe thead th {\n",
       "        text-align: right;\n",
       "    }\n",
       "</style>\n",
       "<table border=\"1\" class=\"dataframe\">\n",
       "  <thead>\n",
       "    <tr style=\"text-align: right;\">\n",
       "      <th></th>\n",
       "      <th>race/ethnicity</th>\n",
       "      <th>April</th>\n",
       "      <th>May</th>\n",
       "      <th>June</th>\n",
       "      <th>July</th>\n",
       "      <th>total_il_deaths</th>\n",
       "      <th>il_population_2018</th>\n",
       "      <th>prop_deaths</th>\n",
       "      <th>deaths_per1000</th>\n",
       "    </tr>\n",
       "  </thead>\n",
       "  <tbody>\n",
       "    <tr>\n",
       "      <td>0</td>\n",
       "      <td>white</td>\n",
       "      <td>912</td>\n",
       "      <td>1412</td>\n",
       "      <td>737</td>\n",
       "      <td>158</td>\n",
       "      <td>3219</td>\n",
       "      <td>7760732</td>\n",
       "      <td>0.00041</td>\n",
       "      <td>0.41</td>\n",
       "    </tr>\n",
       "    <tr>\n",
       "      <td>1</td>\n",
       "      <td>black</td>\n",
       "      <td>796</td>\n",
       "      <td>792</td>\n",
       "      <td>335</td>\n",
       "      <td>75</td>\n",
       "      <td>1998</td>\n",
       "      <td>1759316</td>\n",
       "      <td>0.00114</td>\n",
       "      <td>1.14</td>\n",
       "    </tr>\n",
       "    <tr>\n",
       "      <td>2</td>\n",
       "      <td>latinx</td>\n",
       "      <td>297</td>\n",
       "      <td>753</td>\n",
       "      <td>367</td>\n",
       "      <td>74</td>\n",
       "      <td>1491</td>\n",
       "      <td>2208868</td>\n",
       "      <td>0.00068</td>\n",
       "      <td>0.68</td>\n",
       "    </tr>\n",
       "    <tr>\n",
       "      <td>3</td>\n",
       "      <td>asian</td>\n",
       "      <td>91</td>\n",
       "      <td>166</td>\n",
       "      <td>68</td>\n",
       "      <td>21</td>\n",
       "      <td>346</td>\n",
       "      <td>711970</td>\n",
       "      <td>0.00049</td>\n",
       "      <td>0.49</td>\n",
       "    </tr>\n",
       "    <tr>\n",
       "      <td>4</td>\n",
       "      <td>other</td>\n",
       "      <td>28</td>\n",
       "      <td>23</td>\n",
       "      <td>13</td>\n",
       "      <td>6</td>\n",
       "      <td>70</td>\n",
       "      <td>300194</td>\n",
       "      <td>0.00023</td>\n",
       "      <td>0.23</td>\n",
       "    </tr>\n",
       "  </tbody>\n",
       "</table>\n",
       "</div>"
      ],
      "text/plain": [
       "  race/ethnicity  April   May  June  July  total_il_deaths  \\\n",
       "0          white    912  1412   737   158             3219   \n",
       "1          black    796   792   335    75             1998   \n",
       "2         latinx    297   753   367    74             1491   \n",
       "3          asian     91   166    68    21              346   \n",
       "4          other     28    23    13     6               70   \n",
       "\n",
       "   il_population_2018  prop_deaths  deaths_per1000  \n",
       "0             7760732      0.00041            0.41  \n",
       "1             1759316      0.00114            1.14  \n",
       "2             2208868      0.00068            0.68  \n",
       "3              711970      0.00049            0.49  \n",
       "4              300194      0.00023            0.23  "
      ]
     },
     "execution_count": 18,
     "metadata": {},
     "output_type": "execute_result"
    }
   ],
   "source": [
    "# merge deaths and census dataframes and create columns for death % and deaths per 1000 people\n",
    "\n",
    "il_deaths = pd.merge(deaths_df, il_race_count, how=\"outer\", on=\"race/ethnicity\")\n",
    "il_deaths['prop_deaths'] = round(il_deaths['total_il_deaths']/il_deaths['il_population_2018'], 5)\n",
    "il_deaths['deaths_per1000'] = round(il_deaths['prop_deaths']*1000,3)\n",
    "il_deaths = il_deaths[[\"race/ethnicity\",\"April\",\"May\",\"June\",\"July\",\"total_il_deaths\",\"il_population_2018\",\"prop_deaths\",\"deaths_per1000\"]]\n",
    "il_deaths"
   ]
  },
  {
   "cell_type": "code",
   "execution_count": 19,
   "metadata": {},
   "outputs": [],
   "source": [
    "# DEATHS PIVOT TABLE\n",
    "\n",
    "il_deaths.pivot_table(index='race/ethnicity',\n",
    "               margins=True,\n",
    "               margins_name='total',  \n",
    "               aggfunc=sum)"
   ]
  },
  {
   "cell_type": "code",
   "execution_count": 20,
   "metadata": {},
   "outputs": [
    {
     "data": {
      "text/html": [
       "<div>\n",
       "<style scoped>\n",
       "    .dataframe tbody tr th:only-of-type {\n",
       "        vertical-align: middle;\n",
       "    }\n",
       "\n",
       "    .dataframe tbody tr th {\n",
       "        vertical-align: top;\n",
       "    }\n",
       "\n",
       "    .dataframe thead th {\n",
       "        text-align: right;\n",
       "    }\n",
       "</style>\n",
       "<table border=\"1\" class=\"dataframe\">\n",
       "  <thead>\n",
       "    <tr style=\"text-align: right;\">\n",
       "      <th></th>\n",
       "      <th>race/ethnicity</th>\n",
       "      <th>deaths_per1000</th>\n",
       "      <th>total_il_deaths</th>\n",
       "      <th>prop_deaths</th>\n",
       "    </tr>\n",
       "  </thead>\n",
       "  <tbody>\n",
       "    <tr>\n",
       "      <td>0</td>\n",
       "      <td>white</td>\n",
       "      <td>0.41</td>\n",
       "      <td>3219</td>\n",
       "      <td>0.00041</td>\n",
       "    </tr>\n",
       "    <tr>\n",
       "      <td>1</td>\n",
       "      <td>black</td>\n",
       "      <td>1.14</td>\n",
       "      <td>1998</td>\n",
       "      <td>0.00114</td>\n",
       "    </tr>\n",
       "    <tr>\n",
       "      <td>2</td>\n",
       "      <td>latinx</td>\n",
       "      <td>0.68</td>\n",
       "      <td>1491</td>\n",
       "      <td>0.00068</td>\n",
       "    </tr>\n",
       "    <tr>\n",
       "      <td>3</td>\n",
       "      <td>asian</td>\n",
       "      <td>0.49</td>\n",
       "      <td>346</td>\n",
       "      <td>0.00049</td>\n",
       "    </tr>\n",
       "    <tr>\n",
       "      <td>4</td>\n",
       "      <td>other</td>\n",
       "      <td>0.23</td>\n",
       "      <td>70</td>\n",
       "      <td>0.00023</td>\n",
       "    </tr>\n",
       "  </tbody>\n",
       "</table>\n",
       "</div>"
      ],
      "text/plain": [
       "  race/ethnicity  deaths_per1000  total_il_deaths  prop_deaths\n",
       "0          white            0.41             3219      0.00041\n",
       "1          black            1.14             1998      0.00114\n",
       "2         latinx            0.68             1491      0.00068\n",
       "3          asian            0.49              346      0.00049\n",
       "4          other            0.23               70      0.00023"
      ]
     },
     "execution_count": 20,
     "metadata": {},
     "output_type": "execute_result"
    }
   ],
   "source": [
    "# create modified deaths table to merge with cases\n",
    "\n",
    "il_merge = il_deaths[[\"race/ethnicity\",\"deaths_per1000\",\"total_il_deaths\",\"prop_deaths\"]]\n",
    "il_merge"
   ]
  },
  {
   "cell_type": "code",
   "execution_count": 47,
   "metadata": {},
   "outputs": [
    {
     "data": {
      "text/html": [
       "<div>\n",
       "<style scoped>\n",
       "    .dataframe tbody tr th:only-of-type {\n",
       "        vertical-align: middle;\n",
       "    }\n",
       "\n",
       "    .dataframe tbody tr th {\n",
       "        vertical-align: top;\n",
       "    }\n",
       "\n",
       "    .dataframe thead th {\n",
       "        text-align: right;\n",
       "    }\n",
       "</style>\n",
       "<table border=\"1\" class=\"dataframe\">\n",
       "  <thead>\n",
       "    <tr style=\"text-align: right;\">\n",
       "      <th></th>\n",
       "      <th>race/ethnicity</th>\n",
       "      <th>April</th>\n",
       "      <th>May</th>\n",
       "      <th>June</th>\n",
       "      <th>July</th>\n",
       "      <th>total_il_cases</th>\n",
       "      <th>il_population_2018</th>\n",
       "      <th>prop_cases</th>\n",
       "      <th>cases_per1000</th>\n",
       "      <th>deaths_per1000</th>\n",
       "      <th>total_il_deaths</th>\n",
       "      <th>prop_deaths</th>\n",
       "    </tr>\n",
       "  </thead>\n",
       "  <tbody>\n",
       "    <tr>\n",
       "      <td>0</td>\n",
       "      <td>white</td>\n",
       "      <td>11676</td>\n",
       "      <td>11750</td>\n",
       "      <td>6079</td>\n",
       "      <td>4958</td>\n",
       "      <td>34463</td>\n",
       "      <td>7760732</td>\n",
       "      <td>0.0044</td>\n",
       "      <td>4.4</td>\n",
       "      <td>0.41</td>\n",
       "      <td>3219</td>\n",
       "      <td>0.00041</td>\n",
       "    </tr>\n",
       "    <tr>\n",
       "      <td>1</td>\n",
       "      <td>black</td>\n",
       "      <td>10850</td>\n",
       "      <td>9089</td>\n",
       "      <td>3835</td>\n",
       "      <td>2556</td>\n",
       "      <td>26330</td>\n",
       "      <td>1759316</td>\n",
       "      <td>0.0150</td>\n",
       "      <td>15.0</td>\n",
       "      <td>1.14</td>\n",
       "      <td>1998</td>\n",
       "      <td>0.00114</td>\n",
       "    </tr>\n",
       "    <tr>\n",
       "      <td>2</td>\n",
       "      <td>latinx</td>\n",
       "      <td>10846</td>\n",
       "      <td>26861</td>\n",
       "      <td>8506</td>\n",
       "      <td>3270</td>\n",
       "      <td>49483</td>\n",
       "      <td>2208868</td>\n",
       "      <td>0.0224</td>\n",
       "      <td>22.4</td>\n",
       "      <td>0.68</td>\n",
       "      <td>1491</td>\n",
       "      <td>0.00068</td>\n",
       "    </tr>\n",
       "    <tr>\n",
       "      <td>3</td>\n",
       "      <td>asian</td>\n",
       "      <td>1718</td>\n",
       "      <td>1747</td>\n",
       "      <td>654</td>\n",
       "      <td>254</td>\n",
       "      <td>4373</td>\n",
       "      <td>711970</td>\n",
       "      <td>0.0061</td>\n",
       "      <td>6.1</td>\n",
       "      <td>0.49</td>\n",
       "      <td>346</td>\n",
       "      <td>0.00049</td>\n",
       "    </tr>\n",
       "    <tr>\n",
       "      <td>4</td>\n",
       "      <td>other</td>\n",
       "      <td>2163</td>\n",
       "      <td>2742</td>\n",
       "      <td>1036</td>\n",
       "      <td>504</td>\n",
       "      <td>6445</td>\n",
       "      <td>300194</td>\n",
       "      <td>0.0215</td>\n",
       "      <td>21.5</td>\n",
       "      <td>0.23</td>\n",
       "      <td>70</td>\n",
       "      <td>0.00023</td>\n",
       "    </tr>\n",
       "  </tbody>\n",
       "</table>\n",
       "</div>"
      ],
      "text/plain": [
       "  race/ethnicity  April    May  June  July  total_il_cases  \\\n",
       "0          white  11676  11750  6079  4958           34463   \n",
       "1          black  10850   9089  3835  2556           26330   \n",
       "2         latinx  10846  26861  8506  3270           49483   \n",
       "3          asian   1718   1747   654   254            4373   \n",
       "4          other   2163   2742  1036   504            6445   \n",
       "\n",
       "   il_population_2018  prop_cases  cases_per1000  deaths_per1000  \\\n",
       "0             7760732      0.0044            4.4            0.41   \n",
       "1             1759316      0.0150           15.0            1.14   \n",
       "2             2208868      0.0224           22.4            0.68   \n",
       "3              711970      0.0061            6.1            0.49   \n",
       "4              300194      0.0215           21.5            0.23   \n",
       "\n",
       "   total_il_deaths  prop_deaths  \n",
       "0             3219      0.00041  \n",
       "1             1998      0.00114  \n",
       "2             1491      0.00068  \n",
       "3              346      0.00049  \n",
       "4               70      0.00023  "
      ]
     },
     "execution_count": 47,
     "metadata": {},
     "output_type": "execute_result"
    }
   ],
   "source": [
    "# merge il_death totals with il_cases DF\n",
    "\n",
    "deaths_cases = pd.merge(il_cases, il_merge, how=\"outer\", on=\"race/ethnicity\")\n",
    "deaths_cases"
   ]
  },
  {
   "cell_type": "code",
   "execution_count": 48,
   "metadata": {},
   "outputs": [],
   "source": [
    "pop_and_cases = deaths_cases[[\"race/ethnicity\",'total_il_cases','total_il_deaths']]"
   ]
  },
  {
   "cell_type": "code",
   "execution_count": 49,
   "metadata": {},
   "outputs": [
    {
     "data": {
      "application/vnd.plotly.v1+json": {
       "config": {
        "plotlyServerURL": "https://plot.ly"
       },
       "data": [
        {
         "alignmentgroup": "True",
         "hovertemplate": "race/ethnicity=%{y}<br>il_population_2018=%{text}<extra></extra>",
         "legendgroup": "white",
         "marker": {
          "color": "blue"
         },
         "name": "white",
         "offsetgroup": "white",
         "orientation": "h",
         "showlegend": true,
         "text": [
          7760732
         ],
         "textposition": "outside",
         "texttemplate": "%{text:.2s}",
         "type": "bar",
         "x": [
          7760732
         ],
         "xaxis": "x",
         "y": [
          "white"
         ],
         "yaxis": "y"
        },
        {
         "alignmentgroup": "True",
         "hovertemplate": "race/ethnicity=%{y}<br>il_population_2018=%{text}<extra></extra>",
         "legendgroup": "latinx",
         "marker": {
          "color": "orange"
         },
         "name": "latinx",
         "offsetgroup": "latinx",
         "orientation": "h",
         "showlegend": true,
         "text": [
          2208868
         ],
         "textposition": "outside",
         "texttemplate": "%{text:.2s}",
         "type": "bar",
         "x": [
          2208868
         ],
         "xaxis": "x",
         "y": [
          "latinx"
         ],
         "yaxis": "y"
        },
        {
         "alignmentgroup": "True",
         "hovertemplate": "race/ethnicity=%{y}<br>il_population_2018=%{text}<extra></extra>",
         "legendgroup": "black",
         "marker": {
          "color": "purple"
         },
         "name": "black",
         "offsetgroup": "black",
         "orientation": "h",
         "showlegend": true,
         "text": [
          1759316
         ],
         "textposition": "outside",
         "texttemplate": "%{text:.2s}",
         "type": "bar",
         "x": [
          1759316
         ],
         "xaxis": "x",
         "y": [
          "black"
         ],
         "yaxis": "y"
        },
        {
         "alignmentgroup": "True",
         "hovertemplate": "race/ethnicity=%{y}<br>il_population_2018=%{text}<extra></extra>",
         "legendgroup": "asian",
         "marker": {
          "color": "red"
         },
         "name": "asian",
         "offsetgroup": "asian",
         "orientation": "h",
         "showlegend": true,
         "text": [
          711970
         ],
         "textposition": "outside",
         "texttemplate": "%{text:.2s}",
         "type": "bar",
         "x": [
          711970
         ],
         "xaxis": "x",
         "y": [
          "asian"
         ],
         "yaxis": "y"
        },
        {
         "alignmentgroup": "True",
         "hovertemplate": "race/ethnicity=%{y}<br>il_population_2018=%{text}<extra></extra>",
         "legendgroup": "other",
         "marker": {
          "color": "green"
         },
         "name": "other",
         "offsetgroup": "other",
         "orientation": "h",
         "showlegend": true,
         "text": [
          300194
         ],
         "textposition": "outside",
         "texttemplate": "%{text:.2s}",
         "type": "bar",
         "x": [
          300194
         ],
         "xaxis": "x",
         "y": [
          "other"
         ],
         "yaxis": "y"
        }
       ],
       "layout": {
        "autosize": true,
        "barmode": "relative",
        "legend": {
         "title": {
          "text": "race/ethnicity"
         },
         "tracegroupgap": 0
        },
        "template": {
         "data": {
          "bar": [
           {
            "error_x": {
             "color": "#2a3f5f"
            },
            "error_y": {
             "color": "#2a3f5f"
            },
            "marker": {
             "line": {
              "color": "#E5ECF6",
              "width": 0.5
             }
            },
            "type": "bar"
           }
          ],
          "barpolar": [
           {
            "marker": {
             "line": {
              "color": "#E5ECF6",
              "width": 0.5
             }
            },
            "type": "barpolar"
           }
          ],
          "carpet": [
           {
            "aaxis": {
             "endlinecolor": "#2a3f5f",
             "gridcolor": "white",
             "linecolor": "white",
             "minorgridcolor": "white",
             "startlinecolor": "#2a3f5f"
            },
            "baxis": {
             "endlinecolor": "#2a3f5f",
             "gridcolor": "white",
             "linecolor": "white",
             "minorgridcolor": "white",
             "startlinecolor": "#2a3f5f"
            },
            "type": "carpet"
           }
          ],
          "choropleth": [
           {
            "colorbar": {
             "outlinewidth": 0,
             "ticks": ""
            },
            "type": "choropleth"
           }
          ],
          "contour": [
           {
            "colorbar": {
             "outlinewidth": 0,
             "ticks": ""
            },
            "colorscale": [
             [
              0,
              "#0d0887"
             ],
             [
              0.1111111111111111,
              "#46039f"
             ],
             [
              0.2222222222222222,
              "#7201a8"
             ],
             [
              0.3333333333333333,
              "#9c179e"
             ],
             [
              0.4444444444444444,
              "#bd3786"
             ],
             [
              0.5555555555555556,
              "#d8576b"
             ],
             [
              0.6666666666666666,
              "#ed7953"
             ],
             [
              0.7777777777777778,
              "#fb9f3a"
             ],
             [
              0.8888888888888888,
              "#fdca26"
             ],
             [
              1,
              "#f0f921"
             ]
            ],
            "type": "contour"
           }
          ],
          "contourcarpet": [
           {
            "colorbar": {
             "outlinewidth": 0,
             "ticks": ""
            },
            "type": "contourcarpet"
           }
          ],
          "heatmap": [
           {
            "colorbar": {
             "outlinewidth": 0,
             "ticks": ""
            },
            "colorscale": [
             [
              0,
              "#0d0887"
             ],
             [
              0.1111111111111111,
              "#46039f"
             ],
             [
              0.2222222222222222,
              "#7201a8"
             ],
             [
              0.3333333333333333,
              "#9c179e"
             ],
             [
              0.4444444444444444,
              "#bd3786"
             ],
             [
              0.5555555555555556,
              "#d8576b"
             ],
             [
              0.6666666666666666,
              "#ed7953"
             ],
             [
              0.7777777777777778,
              "#fb9f3a"
             ],
             [
              0.8888888888888888,
              "#fdca26"
             ],
             [
              1,
              "#f0f921"
             ]
            ],
            "type": "heatmap"
           }
          ],
          "heatmapgl": [
           {
            "colorbar": {
             "outlinewidth": 0,
             "ticks": ""
            },
            "colorscale": [
             [
              0,
              "#0d0887"
             ],
             [
              0.1111111111111111,
              "#46039f"
             ],
             [
              0.2222222222222222,
              "#7201a8"
             ],
             [
              0.3333333333333333,
              "#9c179e"
             ],
             [
              0.4444444444444444,
              "#bd3786"
             ],
             [
              0.5555555555555556,
              "#d8576b"
             ],
             [
              0.6666666666666666,
              "#ed7953"
             ],
             [
              0.7777777777777778,
              "#fb9f3a"
             ],
             [
              0.8888888888888888,
              "#fdca26"
             ],
             [
              1,
              "#f0f921"
             ]
            ],
            "type": "heatmapgl"
           }
          ],
          "histogram": [
           {
            "marker": {
             "colorbar": {
              "outlinewidth": 0,
              "ticks": ""
             }
            },
            "type": "histogram"
           }
          ],
          "histogram2d": [
           {
            "colorbar": {
             "outlinewidth": 0,
             "ticks": ""
            },
            "colorscale": [
             [
              0,
              "#0d0887"
             ],
             [
              0.1111111111111111,
              "#46039f"
             ],
             [
              0.2222222222222222,
              "#7201a8"
             ],
             [
              0.3333333333333333,
              "#9c179e"
             ],
             [
              0.4444444444444444,
              "#bd3786"
             ],
             [
              0.5555555555555556,
              "#d8576b"
             ],
             [
              0.6666666666666666,
              "#ed7953"
             ],
             [
              0.7777777777777778,
              "#fb9f3a"
             ],
             [
              0.8888888888888888,
              "#fdca26"
             ],
             [
              1,
              "#f0f921"
             ]
            ],
            "type": "histogram2d"
           }
          ],
          "histogram2dcontour": [
           {
            "colorbar": {
             "outlinewidth": 0,
             "ticks": ""
            },
            "colorscale": [
             [
              0,
              "#0d0887"
             ],
             [
              0.1111111111111111,
              "#46039f"
             ],
             [
              0.2222222222222222,
              "#7201a8"
             ],
             [
              0.3333333333333333,
              "#9c179e"
             ],
             [
              0.4444444444444444,
              "#bd3786"
             ],
             [
              0.5555555555555556,
              "#d8576b"
             ],
             [
              0.6666666666666666,
              "#ed7953"
             ],
             [
              0.7777777777777778,
              "#fb9f3a"
             ],
             [
              0.8888888888888888,
              "#fdca26"
             ],
             [
              1,
              "#f0f921"
             ]
            ],
            "type": "histogram2dcontour"
           }
          ],
          "mesh3d": [
           {
            "colorbar": {
             "outlinewidth": 0,
             "ticks": ""
            },
            "type": "mesh3d"
           }
          ],
          "parcoords": [
           {
            "line": {
             "colorbar": {
              "outlinewidth": 0,
              "ticks": ""
             }
            },
            "type": "parcoords"
           }
          ],
          "pie": [
           {
            "automargin": true,
            "type": "pie"
           }
          ],
          "scatter": [
           {
            "marker": {
             "colorbar": {
              "outlinewidth": 0,
              "ticks": ""
             }
            },
            "type": "scatter"
           }
          ],
          "scatter3d": [
           {
            "line": {
             "colorbar": {
              "outlinewidth": 0,
              "ticks": ""
             }
            },
            "marker": {
             "colorbar": {
              "outlinewidth": 0,
              "ticks": ""
             }
            },
            "type": "scatter3d"
           }
          ],
          "scattercarpet": [
           {
            "marker": {
             "colorbar": {
              "outlinewidth": 0,
              "ticks": ""
             }
            },
            "type": "scattercarpet"
           }
          ],
          "scattergeo": [
           {
            "marker": {
             "colorbar": {
              "outlinewidth": 0,
              "ticks": ""
             }
            },
            "type": "scattergeo"
           }
          ],
          "scattergl": [
           {
            "marker": {
             "colorbar": {
              "outlinewidth": 0,
              "ticks": ""
             }
            },
            "type": "scattergl"
           }
          ],
          "scattermapbox": [
           {
            "marker": {
             "colorbar": {
              "outlinewidth": 0,
              "ticks": ""
             }
            },
            "type": "scattermapbox"
           }
          ],
          "scatterpolar": [
           {
            "marker": {
             "colorbar": {
              "outlinewidth": 0,
              "ticks": ""
             }
            },
            "type": "scatterpolar"
           }
          ],
          "scatterpolargl": [
           {
            "marker": {
             "colorbar": {
              "outlinewidth": 0,
              "ticks": ""
             }
            },
            "type": "scatterpolargl"
           }
          ],
          "scatterternary": [
           {
            "marker": {
             "colorbar": {
              "outlinewidth": 0,
              "ticks": ""
             }
            },
            "type": "scatterternary"
           }
          ],
          "surface": [
           {
            "colorbar": {
             "outlinewidth": 0,
             "ticks": ""
            },
            "colorscale": [
             [
              0,
              "#0d0887"
             ],
             [
              0.1111111111111111,
              "#46039f"
             ],
             [
              0.2222222222222222,
              "#7201a8"
             ],
             [
              0.3333333333333333,
              "#9c179e"
             ],
             [
              0.4444444444444444,
              "#bd3786"
             ],
             [
              0.5555555555555556,
              "#d8576b"
             ],
             [
              0.6666666666666666,
              "#ed7953"
             ],
             [
              0.7777777777777778,
              "#fb9f3a"
             ],
             [
              0.8888888888888888,
              "#fdca26"
             ],
             [
              1,
              "#f0f921"
             ]
            ],
            "type": "surface"
           }
          ],
          "table": [
           {
            "cells": {
             "fill": {
              "color": "#EBF0F8"
             },
             "line": {
              "color": "white"
             }
            },
            "header": {
             "fill": {
              "color": "#C8D4E3"
             },
             "line": {
              "color": "white"
             }
            },
            "type": "table"
           }
          ]
         },
         "layout": {
          "annotationdefaults": {
           "arrowcolor": "#2a3f5f",
           "arrowhead": 0,
           "arrowwidth": 1
          },
          "coloraxis": {
           "colorbar": {
            "outlinewidth": 0,
            "ticks": ""
           }
          },
          "colorscale": {
           "diverging": [
            [
             0,
             "#8e0152"
            ],
            [
             0.1,
             "#c51b7d"
            ],
            [
             0.2,
             "#de77ae"
            ],
            [
             0.3,
             "#f1b6da"
            ],
            [
             0.4,
             "#fde0ef"
            ],
            [
             0.5,
             "#f7f7f7"
            ],
            [
             0.6,
             "#e6f5d0"
            ],
            [
             0.7,
             "#b8e186"
            ],
            [
             0.8,
             "#7fbc41"
            ],
            [
             0.9,
             "#4d9221"
            ],
            [
             1,
             "#276419"
            ]
           ],
           "sequential": [
            [
             0,
             "#0d0887"
            ],
            [
             0.1111111111111111,
             "#46039f"
            ],
            [
             0.2222222222222222,
             "#7201a8"
            ],
            [
             0.3333333333333333,
             "#9c179e"
            ],
            [
             0.4444444444444444,
             "#bd3786"
            ],
            [
             0.5555555555555556,
             "#d8576b"
            ],
            [
             0.6666666666666666,
             "#ed7953"
            ],
            [
             0.7777777777777778,
             "#fb9f3a"
            ],
            [
             0.8888888888888888,
             "#fdca26"
            ],
            [
             1,
             "#f0f921"
            ]
           ],
           "sequentialminus": [
            [
             0,
             "#0d0887"
            ],
            [
             0.1111111111111111,
             "#46039f"
            ],
            [
             0.2222222222222222,
             "#7201a8"
            ],
            [
             0.3333333333333333,
             "#9c179e"
            ],
            [
             0.4444444444444444,
             "#bd3786"
            ],
            [
             0.5555555555555556,
             "#d8576b"
            ],
            [
             0.6666666666666666,
             "#ed7953"
            ],
            [
             0.7777777777777778,
             "#fb9f3a"
            ],
            [
             0.8888888888888888,
             "#fdca26"
            ],
            [
             1,
             "#f0f921"
            ]
           ]
          },
          "colorway": [
           "#636efa",
           "#EF553B",
           "#00cc96",
           "#ab63fa",
           "#FFA15A",
           "#19d3f3",
           "#FF6692",
           "#B6E880",
           "#FF97FF",
           "#FECB52"
          ],
          "font": {
           "color": "#2a3f5f"
          },
          "geo": {
           "bgcolor": "white",
           "lakecolor": "white",
           "landcolor": "#E5ECF6",
           "showlakes": true,
           "showland": true,
           "subunitcolor": "white"
          },
          "hoverlabel": {
           "align": "left"
          },
          "hovermode": "closest",
          "mapbox": {
           "style": "light"
          },
          "paper_bgcolor": "white",
          "plot_bgcolor": "#E5ECF6",
          "polar": {
           "angularaxis": {
            "gridcolor": "white",
            "linecolor": "white",
            "ticks": ""
           },
           "bgcolor": "#E5ECF6",
           "radialaxis": {
            "gridcolor": "white",
            "linecolor": "white",
            "ticks": ""
           }
          },
          "scene": {
           "xaxis": {
            "backgroundcolor": "#E5ECF6",
            "gridcolor": "white",
            "gridwidth": 2,
            "linecolor": "white",
            "showbackground": true,
            "ticks": "",
            "zerolinecolor": "white"
           },
           "yaxis": {
            "backgroundcolor": "#E5ECF6",
            "gridcolor": "white",
            "gridwidth": 2,
            "linecolor": "white",
            "showbackground": true,
            "ticks": "",
            "zerolinecolor": "white"
           },
           "zaxis": {
            "backgroundcolor": "#E5ECF6",
            "gridcolor": "white",
            "gridwidth": 2,
            "linecolor": "white",
            "showbackground": true,
            "ticks": "",
            "zerolinecolor": "white"
           }
          },
          "shapedefaults": {
           "line": {
            "color": "#2a3f5f"
           }
          },
          "ternary": {
           "aaxis": {
            "gridcolor": "white",
            "linecolor": "white",
            "ticks": ""
           },
           "baxis": {
            "gridcolor": "white",
            "linecolor": "white",
            "ticks": ""
           },
           "bgcolor": "#E5ECF6",
           "caxis": {
            "gridcolor": "white",
            "linecolor": "white",
            "ticks": ""
           }
          },
          "title": {
           "x": 0.05
          },
          "xaxis": {
           "automargin": true,
           "gridcolor": "white",
           "linecolor": "white",
           "ticks": "",
           "title": {
            "standoff": 15
           },
           "zerolinecolor": "white",
           "zerolinewidth": 2
          },
          "yaxis": {
           "automargin": true,
           "gridcolor": "white",
           "linecolor": "white",
           "ticks": "",
           "title": {
            "standoff": 15
           },
           "zerolinecolor": "white",
           "zerolinewidth": 2
          }
         }
        },
        "title": {
         "text": "Population by Race/Ethnic Group in IL"
        },
        "xaxis": {
         "anchor": "y",
         "autorange": true,
         "domain": [
          0,
          1
         ],
         "range": [
          0,
          8169191.578947368
         ],
         "title": {
          "text": "il_population_2018"
         },
         "type": "linear",
         "visible": false
        },
        "yaxis": {
         "anchor": "x",
         "autorange": true,
         "categoryarray": [
          "other",
          "asian",
          "black",
          "latinx",
          "white"
         ],
         "categoryorder": "array",
         "domain": [
          0,
          1
         ],
         "range": [
          -0.5,
          4.5
         ],
         "title": {
          "text": "race/ethnicity"
         },
         "type": "category"
        }
       }
      },
      "image/png": "[encoded data removed]",
      "text/html": [
       "<div>\n",
       "        \n",
       "        \n",
       "            <div id=\"58d3af72-55e6-45f9-b377-87e3e3ec07fa\" class=\"plotly-graph-div\" style=\"height:525px; width:100%;\"></div>\n",
       "            <script type=\"text/javascript\">\n",
       "                require([\"plotly\"], function(Plotly) {\n",
       "                    window.PLOTLYENV=window.PLOTLYENV || {};\n",
       "                    \n",
       "                if (document.getElementById(\"58d3af72-55e6-45f9-b377-87e3e3ec07fa\")) {\n",
       "                    Plotly.newPlot(\n",
       "                        '58d3af72-55e6-45f9-b377-87e3e3ec07fa',\n",
       "                        [{\"alignmentgroup\": \"True\", \"hovertemplate\": \"race/ethnicity=%{y}<br>il_population_2018=%{text}<extra></extra>\", \"legendgroup\": \"white\", \"marker\": {\"color\": \"blue\"}, \"name\": \"white\", \"offsetgroup\": \"white\", \"orientation\": \"h\", \"showlegend\": true, \"text\": [7760732.0], \"textposition\": \"outside\", \"texttemplate\": \"%{text:.2s}\", \"type\": \"bar\", \"x\": [7760732], \"xaxis\": \"x\", \"y\": [\"white\"], \"yaxis\": \"y\"}, {\"alignmentgroup\": \"True\", \"hovertemplate\": \"race/ethnicity=%{y}<br>il_population_2018=%{text}<extra></extra>\", \"legendgroup\": \"latinx\", \"marker\": {\"color\": \"orange\"}, \"name\": \"latinx\", \"offsetgroup\": \"latinx\", \"orientation\": \"h\", \"showlegend\": true, \"text\": [2208868.0], \"textposition\": \"outside\", \"texttemplate\": \"%{text:.2s}\", \"type\": \"bar\", \"x\": [2208868], \"xaxis\": \"x\", \"y\": [\"latinx\"], \"yaxis\": \"y\"}, {\"alignmentgroup\": \"True\", \"hovertemplate\": \"race/ethnicity=%{y}<br>il_population_2018=%{text}<extra></extra>\", \"legendgroup\": \"black\", \"marker\": {\"color\": \"purple\"}, \"name\": \"black\", \"offsetgroup\": \"black\", \"orientation\": \"h\", \"showlegend\": true, \"text\": [1759316.0], \"textposition\": \"outside\", \"texttemplate\": \"%{text:.2s}\", \"type\": \"bar\", \"x\": [1759316], \"xaxis\": \"x\", \"y\": [\"black\"], \"yaxis\": \"y\"}, {\"alignmentgroup\": \"True\", \"hovertemplate\": \"race/ethnicity=%{y}<br>il_population_2018=%{text}<extra></extra>\", \"legendgroup\": \"asian\", \"marker\": {\"color\": \"red\"}, \"name\": \"asian\", \"offsetgroup\": \"asian\", \"orientation\": \"h\", \"showlegend\": true, \"text\": [711970.0], \"textposition\": \"outside\", \"texttemplate\": \"%{text:.2s}\", \"type\": \"bar\", \"x\": [711970], \"xaxis\": \"x\", \"y\": [\"asian\"], \"yaxis\": \"y\"}, {\"alignmentgroup\": \"True\", \"hovertemplate\": \"race/ethnicity=%{y}<br>il_population_2018=%{text}<extra></extra>\", \"legendgroup\": \"other\", \"marker\": {\"color\": \"green\"}, \"name\": \"other\", \"offsetgroup\": \"other\", \"orientation\": \"h\", \"showlegend\": true, \"text\": [300194.0], \"textposition\": \"outside\", \"texttemplate\": \"%{text:.2s}\", \"type\": \"bar\", \"x\": [300194], \"xaxis\": \"x\", \"y\": [\"other\"], \"yaxis\": \"y\"}],\n",
       "                        {\"barmode\": \"relative\", \"legend\": {\"title\": {\"text\": \"race/ethnicity\"}, \"tracegroupgap\": 0}, \"template\": {\"data\": {\"bar\": [{\"error_x\": {\"color\": \"#2a3f5f\"}, \"error_y\": {\"color\": \"#2a3f5f\"}, \"marker\": {\"line\": {\"color\": \"#E5ECF6\", \"width\": 0.5}}, \"type\": \"bar\"}], \"barpolar\": [{\"marker\": {\"line\": {\"color\": \"#E5ECF6\", \"width\": 0.5}}, \"type\": \"barpolar\"}], \"carpet\": [{\"aaxis\": {\"endlinecolor\": \"#2a3f5f\", \"gridcolor\": \"white\", \"linecolor\": \"white\", \"minorgridcolor\": \"white\", \"startlinecolor\": \"#2a3f5f\"}, \"baxis\": {\"endlinecolor\": \"#2a3f5f\", \"gridcolor\": \"white\", \"linecolor\": \"white\", \"minorgridcolor\": \"white\", \"startlinecolor\": \"#2a3f5f\"}, \"type\": \"carpet\"}], \"choropleth\": [{\"colorbar\": {\"outlinewidth\": 0, \"ticks\": \"\"}, \"type\": \"choropleth\"}], \"contour\": [{\"colorbar\": {\"outlinewidth\": 0, \"ticks\": \"\"}, \"colorscale\": [[0.0, \"#0d0887\"], [0.1111111111111111, \"#46039f\"], [0.2222222222222222, \"#7201a8\"], [0.3333333333333333, \"#9c179e\"], [0.4444444444444444, \"#bd3786\"], [0.5555555555555556, \"#d8576b\"], [0.6666666666666666, \"#ed7953\"], [0.7777777777777778, \"#fb9f3a\"], [0.8888888888888888, \"#fdca26\"], [1.0, \"#f0f921\"]], \"type\": \"contour\"}], \"contourcarpet\": [{\"colorbar\": {\"outlinewidth\": 0, \"ticks\": \"\"}, \"type\": \"contourcarpet\"}], \"heatmap\": [{\"colorbar\": {\"outlinewidth\": 0, \"ticks\": \"\"}, \"colorscale\": [[0.0, \"#0d0887\"], [0.1111111111111111, \"#46039f\"], [0.2222222222222222, \"#7201a8\"], [0.3333333333333333, \"#9c179e\"], [0.4444444444444444, \"#bd3786\"], [0.5555555555555556, \"#d8576b\"], [0.6666666666666666, \"#ed7953\"], [0.7777777777777778, \"#fb9f3a\"], [0.8888888888888888, \"#fdca26\"], [1.0, \"#f0f921\"]], \"type\": \"heatmap\"}], \"heatmapgl\": [{\"colorbar\": {\"outlinewidth\": 0, \"ticks\": \"\"}, \"colorscale\": [[0.0, \"#0d0887\"], [0.1111111111111111, \"#46039f\"], [0.2222222222222222, \"#7201a8\"], [0.3333333333333333, \"#9c179e\"], [0.4444444444444444, \"#bd3786\"], [0.5555555555555556, \"#d8576b\"], [0.6666666666666666, \"#ed7953\"], [0.7777777777777778, \"#fb9f3a\"], [0.8888888888888888, \"#fdca26\"], [1.0, \"#f0f921\"]], \"type\": \"heatmapgl\"}], \"histogram\": [{\"marker\": {\"colorbar\": {\"outlinewidth\": 0, \"ticks\": \"\"}}, \"type\": \"histogram\"}], \"histogram2d\": [{\"colorbar\": {\"outlinewidth\": 0, \"ticks\": \"\"}, \"colorscale\": [[0.0, \"#0d0887\"], [0.1111111111111111, \"#46039f\"], [0.2222222222222222, \"#7201a8\"], [0.3333333333333333, \"#9c179e\"], [0.4444444444444444, \"#bd3786\"], [0.5555555555555556, \"#d8576b\"], [0.6666666666666666, \"#ed7953\"], [0.7777777777777778, \"#fb9f3a\"], [0.8888888888888888, \"#fdca26\"], [1.0, \"#f0f921\"]], \"type\": \"histogram2d\"}], \"histogram2dcontour\": [{\"colorbar\": {\"outlinewidth\": 0, \"ticks\": \"\"}, \"colorscale\": [[0.0, \"#0d0887\"], [0.1111111111111111, \"#46039f\"], [0.2222222222222222, \"#7201a8\"], [0.3333333333333333, \"#9c179e\"], [0.4444444444444444, \"#bd3786\"], [0.5555555555555556, \"#d8576b\"], [0.6666666666666666, \"#ed7953\"], [0.7777777777777778, \"#fb9f3a\"], [0.8888888888888888, \"#fdca26\"], [1.0, \"#f0f921\"]], \"type\": \"histogram2dcontour\"}], \"mesh3d\": [{\"colorbar\": {\"outlinewidth\": 0, \"ticks\": \"\"}, \"type\": \"mesh3d\"}], \"parcoords\": [{\"line\": {\"colorbar\": {\"outlinewidth\": 0, \"ticks\": \"\"}}, \"type\": \"parcoords\"}], \"pie\": [{\"automargin\": true, \"type\": \"pie\"}], \"scatter\": [{\"marker\": {\"colorbar\": {\"outlinewidth\": 0, \"ticks\": \"\"}}, \"type\": \"scatter\"}], \"scatter3d\": [{\"line\": {\"colorbar\": {\"outlinewidth\": 0, \"ticks\": \"\"}}, \"marker\": {\"colorbar\": {\"outlinewidth\": 0, \"ticks\": \"\"}}, \"type\": \"scatter3d\"}], \"scattercarpet\": [{\"marker\": {\"colorbar\": {\"outlinewidth\": 0, \"ticks\": \"\"}}, \"type\": \"scattercarpet\"}], \"scattergeo\": [{\"marker\": {\"colorbar\": {\"outlinewidth\": 0, \"ticks\": \"\"}}, \"type\": \"scattergeo\"}], \"scattergl\": [{\"marker\": {\"colorbar\": {\"outlinewidth\": 0, \"ticks\": \"\"}}, \"type\": \"scattergl\"}], \"scattermapbox\": [{\"marker\": {\"colorbar\": {\"outlinewidth\": 0, \"ticks\": \"\"}}, \"type\": \"scattermapbox\"}], \"scatterpolar\": [{\"marker\": {\"colorbar\": {\"outlinewidth\": 0, \"ticks\": \"\"}}, \"type\": \"scatterpolar\"}], \"scatterpolargl\": [{\"marker\": {\"colorbar\": {\"outlinewidth\": 0, \"ticks\": \"\"}}, \"type\": \"scatterpolargl\"}], \"scatterternary\": [{\"marker\": {\"colorbar\": {\"outlinewidth\": 0, \"ticks\": \"\"}}, \"type\": \"scatterternary\"}], \"surface\": [{\"colorbar\": {\"outlinewidth\": 0, \"ticks\": \"\"}, \"colorscale\": [[0.0, \"#0d0887\"], [0.1111111111111111, \"#46039f\"], [0.2222222222222222, \"#7201a8\"], [0.3333333333333333, \"#9c179e\"], [0.4444444444444444, \"#bd3786\"], [0.5555555555555556, \"#d8576b\"], [0.6666666666666666, \"#ed7953\"], [0.7777777777777778, \"#fb9f3a\"], [0.8888888888888888, \"#fdca26\"], [1.0, \"#f0f921\"]], \"type\": \"surface\"}], \"table\": [{\"cells\": {\"fill\": {\"color\": \"#EBF0F8\"}, \"line\": {\"color\": \"white\"}}, \"header\": {\"fill\": {\"color\": \"#C8D4E3\"}, \"line\": {\"color\": \"white\"}}, \"type\": \"table\"}]}, \"layout\": {\"annotationdefaults\": {\"arrowcolor\": \"#2a3f5f\", \"arrowhead\": 0, \"arrowwidth\": 1}, \"coloraxis\": {\"colorbar\": {\"outlinewidth\": 0, \"ticks\": \"\"}}, \"colorscale\": {\"diverging\": [[0, \"#8e0152\"], [0.1, \"#c51b7d\"], [0.2, \"#de77ae\"], [0.3, \"#f1b6da\"], [0.4, \"#fde0ef\"], [0.5, \"#f7f7f7\"], [0.6, \"#e6f5d0\"], [0.7, \"#b8e186\"], [0.8, \"#7fbc41\"], [0.9, \"#4d9221\"], [1, \"#276419\"]], \"sequential\": [[0.0, \"#0d0887\"], [0.1111111111111111, \"#46039f\"], [0.2222222222222222, \"#7201a8\"], [0.3333333333333333, \"#9c179e\"], [0.4444444444444444, \"#bd3786\"], [0.5555555555555556, \"#d8576b\"], [0.6666666666666666, \"#ed7953\"], [0.7777777777777778, \"#fb9f3a\"], [0.8888888888888888, \"#fdca26\"], [1.0, \"#f0f921\"]], \"sequentialminus\": [[0.0, \"#0d0887\"], [0.1111111111111111, \"#46039f\"], [0.2222222222222222, \"#7201a8\"], [0.3333333333333333, \"#9c179e\"], [0.4444444444444444, \"#bd3786\"], [0.5555555555555556, \"#d8576b\"], [0.6666666666666666, \"#ed7953\"], [0.7777777777777778, \"#fb9f3a\"], [0.8888888888888888, \"#fdca26\"], [1.0, \"#f0f921\"]]}, \"colorway\": [\"#636efa\", \"#EF553B\", \"#00cc96\", \"#ab63fa\", \"#FFA15A\", \"#19d3f3\", \"#FF6692\", \"#B6E880\", \"#FF97FF\", \"#FECB52\"], \"font\": {\"color\": \"#2a3f5f\"}, \"geo\": {\"bgcolor\": \"white\", \"lakecolor\": \"white\", \"landcolor\": \"#E5ECF6\", \"showlakes\": true, \"showland\": true, \"subunitcolor\": \"white\"}, \"hoverlabel\": {\"align\": \"left\"}, \"hovermode\": \"closest\", \"mapbox\": {\"style\": \"light\"}, \"paper_bgcolor\": \"white\", \"plot_bgcolor\": \"#E5ECF6\", \"polar\": {\"angularaxis\": {\"gridcolor\": \"white\", \"linecolor\": \"white\", \"ticks\": \"\"}, \"bgcolor\": \"#E5ECF6\", \"radialaxis\": {\"gridcolor\": \"white\", \"linecolor\": \"white\", \"ticks\": \"\"}}, \"scene\": {\"xaxis\": {\"backgroundcolor\": \"#E5ECF6\", \"gridcolor\": \"white\", \"gridwidth\": 2, \"linecolor\": \"white\", \"showbackground\": true, \"ticks\": \"\", \"zerolinecolor\": \"white\"}, \"yaxis\": {\"backgroundcolor\": \"#E5ECF6\", \"gridcolor\": \"white\", \"gridwidth\": 2, \"linecolor\": \"white\", \"showbackground\": true, \"ticks\": \"\", \"zerolinecolor\": \"white\"}, \"zaxis\": {\"backgroundcolor\": \"#E5ECF6\", \"gridcolor\": \"white\", \"gridwidth\": 2, \"linecolor\": \"white\", \"showbackground\": true, \"ticks\": \"\", \"zerolinecolor\": \"white\"}}, \"shapedefaults\": {\"line\": {\"color\": \"#2a3f5f\"}}, \"ternary\": {\"aaxis\": {\"gridcolor\": \"white\", \"linecolor\": \"white\", \"ticks\": \"\"}, \"baxis\": {\"gridcolor\": \"white\", \"linecolor\": \"white\", \"ticks\": \"\"}, \"bgcolor\": \"#E5ECF6\", \"caxis\": {\"gridcolor\": \"white\", \"linecolor\": \"white\", \"ticks\": \"\"}}, \"title\": {\"x\": 0.05}, \"xaxis\": {\"automargin\": true, \"gridcolor\": \"white\", \"linecolor\": \"white\", \"ticks\": \"\", \"title\": {\"standoff\": 15}, \"zerolinecolor\": \"white\", \"zerolinewidth\": 2}, \"yaxis\": {\"automargin\": true, \"gridcolor\": \"white\", \"linecolor\": \"white\", \"ticks\": \"\", \"title\": {\"standoff\": 15}, \"zerolinecolor\": \"white\", \"zerolinewidth\": 2}}}, \"title\": {\"text\": \"Population by Race/Ethnic Group in IL\"}, \"xaxis\": {\"anchor\": \"y\", \"domain\": [0.0, 1.0], \"title\": {\"text\": \"il_population_2018\"}, \"visible\": false}, \"yaxis\": {\"anchor\": \"x\", \"categoryarray\": [\"other\", \"asian\", \"black\", \"latinx\", \"white\"], \"categoryorder\": \"array\", \"domain\": [0.0, 1.0], \"title\": {\"text\": \"race/ethnicity\"}}},\n",
       "                        {\"responsive\": true}\n",
       "                    ).then(function(){\n",
       "                            \n",
       "var gd = document.getElementById('58d3af72-55e6-45f9-b377-87e3e3ec07fa');\n",
       "var x = new MutationObserver(function (mutations, observer) {{\n",
       "        var display = window.getComputedStyle(gd).display;\n",
       "        if (!display || display === 'none') {{\n",
       "            console.log([gd, 'removed!']);\n",
       "            Plotly.purge(gd);\n",
       "            observer.disconnect();\n",
       "        }}\n",
       "}});\n",
       "\n",
       "// Listen for the removal of the full notebook cells\n",
       "var notebookContainer = gd.closest('#notebook-container');\n",
       "if (notebookContainer) {{\n",
       "    x.observe(notebookContainer, {childList: true});\n",
       "}}\n",
       "\n",
       "// Listen for the clearing of the current output cell\n",
       "var outputEl = gd.closest('.output');\n",
       "if (outputEl) {{\n",
       "    x.observe(outputEl, {childList: true});\n",
       "}}\n",
       "\n",
       "                        })\n",
       "                };\n",
       "                });\n",
       "            </script>\n",
       "        </div>"
      ]
     },
     "metadata": {},
     "output_type": "display_data"
    }
   ],
   "source": [
    "# graph for il population by race\n",
    "\n",
    "il_race_demo = deaths_cases[['race/ethnicity','il_population_2018']] \n",
    "il_race_demo_sort = il_race_demo.sort_values(by='il_population_2018', ascending = False)\n",
    "\n",
    "import plotly.express as px\n",
    "fig = px.bar(il_race_demo_sort, x='il_population_2018', y='race/ethnicity', color='race/ethnicity', orientation='h',color_discrete_sequence=[\"blue\", \"orange\", \"purple\", \"red\", \"green\"],\n",
    "             title=\"Population by Race/Ethnic Group in IL\", text = il_race_demo_sort[\"il_population_2018\"])\n",
    "fig.update_layout(xaxis={'visible': False})\n",
    "fig.update_traces(texttemplate='%{text:.2s}',textposition='outside')\n",
    "fig.write_image(\"zac files/output_files/il_pop_bar.png\")\n",
    "fig.show()\n"
   ]
  },
  {
   "cell_type": "code",
   "execution_count": 50,
   "metadata": {},
   "outputs": [
    {
     "data": {
      "application/vnd.plotly.v1+json": {
       "config": {
        "plotlyServerURL": "https://plot.ly"
       },
       "data": [
        {
         "alignmentgroup": "True",
         "hovertemplate": "race/ethnicity=%{y}<br>cases_per1000=%{text}<extra></extra>",
         "legendgroup": "latinx",
         "marker": {
          "color": "blue"
         },
         "name": "latinx",
         "offsetgroup": "latinx",
         "orientation": "h",
         "showlegend": true,
         "text": [
          22.4
         ],
         "textposition": "outside",
         "texttemplate": "%{text:.2s}",
         "type": "bar",
         "x": [
          22.4
         ],
         "xaxis": "x",
         "y": [
          "latinx"
         ],
         "yaxis": "y"
        },
        {
         "alignmentgroup": "True",
         "hovertemplate": "race/ethnicity=%{y}<br>cases_per1000=%{text}<extra></extra>",
         "legendgroup": "other",
         "marker": {
          "color": "orange"
         },
         "name": "other",
         "offsetgroup": "other",
         "orientation": "h",
         "showlegend": true,
         "text": [
          21.5
         ],
         "textposition": "outside",
         "texttemplate": "%{text:.2s}",
         "type": "bar",
         "x": [
          21.5
         ],
         "xaxis": "x",
         "y": [
          "other"
         ],
         "yaxis": "y"
        },
        {
         "alignmentgroup": "True",
         "hovertemplate": "race/ethnicity=%{y}<br>cases_per1000=%{text}<extra></extra>",
         "legendgroup": "black",
         "marker": {
          "color": "purple"
         },
         "name": "black",
         "offsetgroup": "black",
         "orientation": "h",
         "showlegend": true,
         "text": [
          15
         ],
         "textposition": "outside",
         "texttemplate": "%{text:.2s}",
         "type": "bar",
         "x": [
          15
         ],
         "xaxis": "x",
         "y": [
          "black"
         ],
         "yaxis": "y"
        },
        {
         "alignmentgroup": "True",
         "hovertemplate": "race/ethnicity=%{y}<br>cases_per1000=%{text}<extra></extra>",
         "legendgroup": "asian",
         "marker": {
          "color": "red"
         },
         "name": "asian",
         "offsetgroup": "asian",
         "orientation": "h",
         "showlegend": true,
         "text": [
          6.1
         ],
         "textposition": "outside",
         "texttemplate": "%{text:.2s}",
         "type": "bar",
         "x": [
          6.1
         ],
         "xaxis": "x",
         "y": [
          "asian"
         ],
         "yaxis": "y"
        },
        {
         "alignmentgroup": "True",
         "hovertemplate": "race/ethnicity=%{y}<br>cases_per1000=%{text}<extra></extra>",
         "legendgroup": "white",
         "marker": {
          "color": "green"
         },
         "name": "white",
         "offsetgroup": "white",
         "orientation": "h",
         "showlegend": true,
         "text": [
          4.4
         ],
         "textposition": "outside",
         "texttemplate": "%{text:.2s}",
         "type": "bar",
         "x": [
          4.4
         ],
         "xaxis": "x",
         "y": [
          "white"
         ],
         "yaxis": "y"
        }
       ],
       "layout": {
        "autosize": true,
        "barmode": "relative",
        "legend": {
         "title": {
          "text": "race/ethnicity"
         },
         "tracegroupgap": 0
        },
        "template": {
         "data": {
          "bar": [
           {
            "error_x": {
             "color": "#2a3f5f"
            },
            "error_y": {
             "color": "#2a3f5f"
            },
            "marker": {
             "line": {
              "color": "#E5ECF6",
              "width": 0.5
             }
            },
            "type": "bar"
           }
          ],
          "barpolar": [
           {
            "marker": {
             "line": {
              "color": "#E5ECF6",
              "width": 0.5
             }
            },
            "type": "barpolar"
           }
          ],
          "carpet": [
           {
            "aaxis": {
             "endlinecolor": "#2a3f5f",
             "gridcolor": "white",
             "linecolor": "white",
             "minorgridcolor": "white",
             "startlinecolor": "#2a3f5f"
            },
            "baxis": {
             "endlinecolor": "#2a3f5f",
             "gridcolor": "white",
             "linecolor": "white",
             "minorgridcolor": "white",
             "startlinecolor": "#2a3f5f"
            },
            "type": "carpet"
           }
          ],
          "choropleth": [
           {
            "colorbar": {
             "outlinewidth": 0,
             "ticks": ""
            },
            "type": "choropleth"
           }
          ],
          "contour": [
           {
            "colorbar": {
             "outlinewidth": 0,
             "ticks": ""
            },
            "colorscale": [
             [
              0,
              "#0d0887"
             ],
             [
              0.1111111111111111,
              "#46039f"
             ],
             [
              0.2222222222222222,
              "#7201a8"
             ],
             [
              0.3333333333333333,
              "#9c179e"
             ],
             [
              0.4444444444444444,
              "#bd3786"
             ],
             [
              0.5555555555555556,
              "#d8576b"
             ],
             [
              0.6666666666666666,
              "#ed7953"
             ],
             [
              0.7777777777777778,
              "#fb9f3a"
             ],
             [
              0.8888888888888888,
              "#fdca26"
             ],
             [
              1,
              "#f0f921"
             ]
            ],
            "type": "contour"
           }
          ],
          "contourcarpet": [
           {
            "colorbar": {
             "outlinewidth": 0,
             "ticks": ""
            },
            "type": "contourcarpet"
           }
          ],
          "heatmap": [
           {
            "colorbar": {
             "outlinewidth": 0,
             "ticks": ""
            },
            "colorscale": [
             [
              0,
              "#0d0887"
             ],
             [
              0.1111111111111111,
              "#46039f"
             ],
             [
              0.2222222222222222,
              "#7201a8"
             ],
             [
              0.3333333333333333,
              "#9c179e"
             ],
             [
              0.4444444444444444,
              "#bd3786"
             ],
             [
              0.5555555555555556,
              "#d8576b"
             ],
             [
              0.6666666666666666,
              "#ed7953"
             ],
             [
              0.7777777777777778,
              "#fb9f3a"
             ],
             [
              0.8888888888888888,
              "#fdca26"
             ],
             [
              1,
              "#f0f921"
             ]
            ],
            "type": "heatmap"
           }
          ],
          "heatmapgl": [
           {
            "colorbar": {
             "outlinewidth": 0,
             "ticks": ""
            },
            "colorscale": [
             [
              0,
              "#0d0887"
             ],
             [
              0.1111111111111111,
              "#46039f"
             ],
             [
              0.2222222222222222,
              "#7201a8"
             ],
             [
              0.3333333333333333,
              "#9c179e"
             ],
             [
              0.4444444444444444,
              "#bd3786"
             ],
             [
              0.5555555555555556,
              "#d8576b"
             ],
             [
              0.6666666666666666,
              "#ed7953"
             ],
             [
              0.7777777777777778,
              "#fb9f3a"
             ],
             [
              0.8888888888888888,
              "#fdca26"
             ],
             [
              1,
              "#f0f921"
             ]
            ],
            "type": "heatmapgl"
           }
          ],
          "histogram": [
           {
            "marker": {
             "colorbar": {
              "outlinewidth": 0,
              "ticks": ""
             }
            },
            "type": "histogram"
           }
          ],
          "histogram2d": [
           {
            "colorbar": {
             "outlinewidth": 0,
             "ticks": ""
            },
            "colorscale": [
             [
              0,
              "#0d0887"
             ],
             [
              0.1111111111111111,
              "#46039f"
             ],
             [
              0.2222222222222222,
              "#7201a8"
             ],
             [
              0.3333333333333333,
              "#9c179e"
             ],
             [
              0.4444444444444444,
              "#bd3786"
             ],
             [
              0.5555555555555556,
              "#d8576b"
             ],
             [
              0.6666666666666666,
              "#ed7953"
             ],
             [
              0.7777777777777778,
              "#fb9f3a"
             ],
             [
              0.8888888888888888,
              "#fdca26"
             ],
             [
              1,
              "#f0f921"
             ]
            ],
            "type": "histogram2d"
           }
          ],
          "histogram2dcontour": [
           {
            "colorbar": {
             "outlinewidth": 0,
             "ticks": ""
            },
            "colorscale": [
             [
              0,
              "#0d0887"
             ],
             [
              0.1111111111111111,
              "#46039f"
             ],
             [
              0.2222222222222222,
              "#7201a8"
             ],
             [
              0.3333333333333333,
              "#9c179e"
             ],
             [
              0.4444444444444444,
              "#bd3786"
             ],
             [
              0.5555555555555556,
              "#d8576b"
             ],
             [
              0.6666666666666666,
              "#ed7953"
             ],
             [
              0.7777777777777778,
              "#fb9f3a"
             ],
             [
              0.8888888888888888,
              "#fdca26"
             ],
             [
              1,
              "#f0f921"
             ]
            ],
            "type": "histogram2dcontour"
           }
          ],
          "mesh3d": [
           {
            "colorbar": {
             "outlinewidth": 0,
             "ticks": ""
            },
            "type": "mesh3d"
           }
          ],
          "parcoords": [
           {
            "line": {
             "colorbar": {
              "outlinewidth": 0,
              "ticks": ""
             }
            },
            "type": "parcoords"
           }
          ],
          "pie": [
           {
            "automargin": true,
            "type": "pie"
           }
          ],
          "scatter": [
           {
            "marker": {
             "colorbar": {
              "outlinewidth": 0,
              "ticks": ""
             }
            },
            "type": "scatter"
           }
          ],
          "scatter3d": [
           {
            "line": {
             "colorbar": {
              "outlinewidth": 0,
              "ticks": ""
             }
            },
            "marker": {
             "colorbar": {
              "outlinewidth": 0,
              "ticks": ""
             }
            },
            "type": "scatter3d"
           }
          ],
          "scattercarpet": [
           {
            "marker": {
             "colorbar": {
              "outlinewidth": 0,
              "ticks": ""
             }
            },
            "type": "scattercarpet"
           }
          ],
          "scattergeo": [
           {
            "marker": {
             "colorbar": {
              "outlinewidth": 0,
              "ticks": ""
             }
            },
            "type": "scattergeo"
           }
          ],
          "scattergl": [
           {
            "marker": {
             "colorbar": {
              "outlinewidth": 0,
              "ticks": ""
             }
            },
            "type": "scattergl"
           }
          ],
          "scattermapbox": [
           {
            "marker": {
             "colorbar": {
              "outlinewidth": 0,
              "ticks": ""
             }
            },
            "type": "scattermapbox"
           }
          ],
          "scatterpolar": [
           {
            "marker": {
             "colorbar": {
              "outlinewidth": 0,
              "ticks": ""
             }
            },
            "type": "scatterpolar"
           }
          ],
          "scatterpolargl": [
           {
            "marker": {
             "colorbar": {
              "outlinewidth": 0,
              "ticks": ""
             }
            },
            "type": "scatterpolargl"
           }
          ],
          "scatterternary": [
           {
            "marker": {
             "colorbar": {
              "outlinewidth": 0,
              "ticks": ""
             }
            },
            "type": "scatterternary"
           }
          ],
          "surface": [
           {
            "colorbar": {
             "outlinewidth": 0,
             "ticks": ""
            },
            "colorscale": [
             [
              0,
              "#0d0887"
             ],
             [
              0.1111111111111111,
              "#46039f"
             ],
             [
              0.2222222222222222,
              "#7201a8"
             ],
             [
              0.3333333333333333,
              "#9c179e"
             ],
             [
              0.4444444444444444,
              "#bd3786"
             ],
             [
              0.5555555555555556,
              "#d8576b"
             ],
             [
              0.6666666666666666,
              "#ed7953"
             ],
             [
              0.7777777777777778,
              "#fb9f3a"
             ],
             [
              0.8888888888888888,
              "#fdca26"
             ],
             [
              1,
              "#f0f921"
             ]
            ],
            "type": "surface"
           }
          ],
          "table": [
           {
            "cells": {
             "fill": {
              "color": "#EBF0F8"
             },
             "line": {
              "color": "white"
             }
            },
            "header": {
             "fill": {
              "color": "#C8D4E3"
             },
             "line": {
              "color": "white"
             }
            },
            "type": "table"
           }
          ]
         },
         "layout": {
          "annotationdefaults": {
           "arrowcolor": "#2a3f5f",
           "arrowhead": 0,
           "arrowwidth": 1
          },
          "coloraxis": {
           "colorbar": {
            "outlinewidth": 0,
            "ticks": ""
           }
          },
          "colorscale": {
           "diverging": [
            [
             0,
             "#8e0152"
            ],
            [
             0.1,
             "#c51b7d"
            ],
            [
             0.2,
             "#de77ae"
            ],
            [
             0.3,
             "#f1b6da"
            ],
            [
             0.4,
             "#fde0ef"
            ],
            [
             0.5,
             "#f7f7f7"
            ],
            [
             0.6,
             "#e6f5d0"
            ],
            [
             0.7,
             "#b8e186"
            ],
            [
             0.8,
             "#7fbc41"
            ],
            [
             0.9,
             "#4d9221"
            ],
            [
             1,
             "#276419"
            ]
           ],
           "sequential": [
            [
             0,
             "#0d0887"
            ],
            [
             0.1111111111111111,
             "#46039f"
            ],
            [
             0.2222222222222222,
             "#7201a8"
            ],
            [
             0.3333333333333333,
             "#9c179e"
            ],
            [
             0.4444444444444444,
             "#bd3786"
            ],
            [
             0.5555555555555556,
             "#d8576b"
            ],
            [
             0.6666666666666666,
             "#ed7953"
            ],
            [
             0.7777777777777778,
             "#fb9f3a"
            ],
            [
             0.8888888888888888,
             "#fdca26"
            ],
            [
             1,
             "#f0f921"
            ]
           ],
           "sequentialminus": [
            [
             0,
             "#0d0887"
            ],
            [
             0.1111111111111111,
             "#46039f"
            ],
            [
             0.2222222222222222,
             "#7201a8"
            ],
            [
             0.3333333333333333,
             "#9c179e"
            ],
            [
             0.4444444444444444,
             "#bd3786"
            ],
            [
             0.5555555555555556,
             "#d8576b"
            ],
            [
             0.6666666666666666,
             "#ed7953"
            ],
            [
             0.7777777777777778,
             "#fb9f3a"
            ],
            [
             0.8888888888888888,
             "#fdca26"
            ],
            [
             1,
             "#f0f921"
            ]
           ]
          },
          "colorway": [
           "#636efa",
           "#EF553B",
           "#00cc96",
           "#ab63fa",
           "#FFA15A",
           "#19d3f3",
           "#FF6692",
           "#B6E880",
           "#FF97FF",
           "#FECB52"
          ],
          "font": {
           "color": "#2a3f5f"
          },
          "geo": {
           "bgcolor": "white",
           "lakecolor": "white",
           "landcolor": "#E5ECF6",
           "showlakes": true,
           "showland": true,
           "subunitcolor": "white"
          },
          "hoverlabel": {
           "align": "left"
          },
          "hovermode": "closest",
          "mapbox": {
           "style": "light"
          },
          "paper_bgcolor": "white",
          "plot_bgcolor": "#E5ECF6",
          "polar": {
           "angularaxis": {
            "gridcolor": "white",
            "linecolor": "white",
            "ticks": ""
           },
           "bgcolor": "#E5ECF6",
           "radialaxis": {
            "gridcolor": "white",
            "linecolor": "white",
            "ticks": ""
           }
          },
          "scene": {
           "xaxis": {
            "backgroundcolor": "#E5ECF6",
            "gridcolor": "white",
            "gridwidth": 2,
            "linecolor": "white",
            "showbackground": true,
            "ticks": "",
            "zerolinecolor": "white"
           },
           "yaxis": {
            "backgroundcolor": "#E5ECF6",
            "gridcolor": "white",
            "gridwidth": 2,
            "linecolor": "white",
            "showbackground": true,
            "ticks": "",
            "zerolinecolor": "white"
           },
           "zaxis": {
            "backgroundcolor": "#E5ECF6",
            "gridcolor": "white",
            "gridwidth": 2,
            "linecolor": "white",
            "showbackground": true,
            "ticks": "",
            "zerolinecolor": "white"
           }
          },
          "shapedefaults": {
           "line": {
            "color": "#2a3f5f"
           }
          },
          "ternary": {
           "aaxis": {
            "gridcolor": "white",
            "linecolor": "white",
            "ticks": ""
           },
           "baxis": {
            "gridcolor": "white",
            "linecolor": "white",
            "ticks": ""
           },
           "bgcolor": "#E5ECF6",
           "caxis": {
            "gridcolor": "white",
            "linecolor": "white",
            "ticks": ""
           }
          },
          "title": {
           "x": 0.05
          },
          "xaxis": {
           "automargin": true,
           "gridcolor": "white",
           "linecolor": "white",
           "ticks": "",
           "title": {
            "standoff": 15
           },
           "zerolinecolor": "white",
           "zerolinewidth": 2
          },
          "yaxis": {
           "automargin": true,
           "gridcolor": "white",
           "linecolor": "white",
           "ticks": "",
           "title": {
            "standoff": 15
           },
           "zerolinecolor": "white",
           "zerolinewidth": 2
          }
         }
        },
        "title": {
         "text": "Cases per 1000 People by Race/Ethnic Group in IL"
        },
        "xaxis": {
         "anchor": "y",
         "autorange": true,
         "domain": [
          0,
          1
         ],
         "range": [
          0,
          23.57894736842105
         ],
         "title": {
          "text": "cases_per1000"
         },
         "type": "linear",
         "visible": false
        },
        "yaxis": {
         "anchor": "x",
         "autorange": true,
         "categoryarray": [
          "white",
          "asian",
          "black",
          "other",
          "latinx"
         ],
         "categoryorder": "array",
         "domain": [
          0,
          1
         ],
         "range": [
          -0.5,
          4.5
         ],
         "title": {
          "text": "race/ethnicity"
         },
         "type": "category"
        }
       }
      },
      "image/png": "[encoded data removed]",
      "text/html": [
       "<div>\n",
       "        \n",
       "        \n",
       "            <div id=\"0a9bf218-f789-4957-942b-faaa02a3d472\" class=\"plotly-graph-div\" style=\"height:525px; width:100%;\"></div>\n",
       "            <script type=\"text/javascript\">\n",
       "                require([\"plotly\"], function(Plotly) {\n",
       "                    window.PLOTLYENV=window.PLOTLYENV || {};\n",
       "                    \n",
       "                if (document.getElementById(\"0a9bf218-f789-4957-942b-faaa02a3d472\")) {\n",
       "                    Plotly.newPlot(\n",
       "                        '0a9bf218-f789-4957-942b-faaa02a3d472',\n",
       "                        [{\"alignmentgroup\": \"True\", \"hovertemplate\": \"race/ethnicity=%{y}<br>cases_per1000=%{text}<extra></extra>\", \"legendgroup\": \"latinx\", \"marker\": {\"color\": \"blue\"}, \"name\": \"latinx\", \"offsetgroup\": \"latinx\", \"orientation\": \"h\", \"showlegend\": true, \"text\": [22.4], \"textposition\": \"outside\", \"texttemplate\": \"%{text:.2s}\", \"type\": \"bar\", \"x\": [22.4], \"xaxis\": \"x\", \"y\": [\"latinx\"], \"yaxis\": \"y\"}, {\"alignmentgroup\": \"True\", \"hovertemplate\": \"race/ethnicity=%{y}<br>cases_per1000=%{text}<extra></extra>\", \"legendgroup\": \"other\", \"marker\": {\"color\": \"orange\"}, \"name\": \"other\", \"offsetgroup\": \"other\", \"orientation\": \"h\", \"showlegend\": true, \"text\": [21.5], \"textposition\": \"outside\", \"texttemplate\": \"%{text:.2s}\", \"type\": \"bar\", \"x\": [21.5], \"xaxis\": \"x\", \"y\": [\"other\"], \"yaxis\": \"y\"}, {\"alignmentgroup\": \"True\", \"hovertemplate\": \"race/ethnicity=%{y}<br>cases_per1000=%{text}<extra></extra>\", \"legendgroup\": \"black\", \"marker\": {\"color\": \"purple\"}, \"name\": \"black\", \"offsetgroup\": \"black\", \"orientation\": \"h\", \"showlegend\": true, \"text\": [15.0], \"textposition\": \"outside\", \"texttemplate\": \"%{text:.2s}\", \"type\": \"bar\", \"x\": [15.0], \"xaxis\": \"x\", \"y\": [\"black\"], \"yaxis\": \"y\"}, {\"alignmentgroup\": \"True\", \"hovertemplate\": \"race/ethnicity=%{y}<br>cases_per1000=%{text}<extra></extra>\", \"legendgroup\": \"asian\", \"marker\": {\"color\": \"red\"}, \"name\": \"asian\", \"offsetgroup\": \"asian\", \"orientation\": \"h\", \"showlegend\": true, \"text\": [6.1], \"textposition\": \"outside\", \"texttemplate\": \"%{text:.2s}\", \"type\": \"bar\", \"x\": [6.1], \"xaxis\": \"x\", \"y\": [\"asian\"], \"yaxis\": \"y\"}, {\"alignmentgroup\": \"True\", \"hovertemplate\": \"race/ethnicity=%{y}<br>cases_per1000=%{text}<extra></extra>\", \"legendgroup\": \"white\", \"marker\": {\"color\": \"green\"}, \"name\": \"white\", \"offsetgroup\": \"white\", \"orientation\": \"h\", \"showlegend\": true, \"text\": [4.4], \"textposition\": \"outside\", \"texttemplate\": \"%{text:.2s}\", \"type\": \"bar\", \"x\": [4.4], \"xaxis\": \"x\", \"y\": [\"white\"], \"yaxis\": \"y\"}],\n",
       "                        {\"barmode\": \"relative\", \"legend\": {\"title\": {\"text\": \"race/ethnicity\"}, \"tracegroupgap\": 0}, \"template\": {\"data\": {\"bar\": [{\"error_x\": {\"color\": \"#2a3f5f\"}, \"error_y\": {\"color\": \"#2a3f5f\"}, \"marker\": {\"line\": {\"color\": \"#E5ECF6\", \"width\": 0.5}}, \"type\": \"bar\"}], \"barpolar\": [{\"marker\": {\"line\": {\"color\": \"#E5ECF6\", \"width\": 0.5}}, \"type\": \"barpolar\"}], \"carpet\": [{\"aaxis\": {\"endlinecolor\": \"#2a3f5f\", \"gridcolor\": \"white\", \"linecolor\": \"white\", \"minorgridcolor\": \"white\", \"startlinecolor\": \"#2a3f5f\"}, \"baxis\": {\"endlinecolor\": \"#2a3f5f\", \"gridcolor\": \"white\", \"linecolor\": \"white\", \"minorgridcolor\": \"white\", \"startlinecolor\": \"#2a3f5f\"}, \"type\": \"carpet\"}], \"choropleth\": [{\"colorbar\": {\"outlinewidth\": 0, \"ticks\": \"\"}, \"type\": \"choropleth\"}], \"contour\": [{\"colorbar\": {\"outlinewidth\": 0, \"ticks\": \"\"}, \"colorscale\": [[0.0, \"#0d0887\"], [0.1111111111111111, \"#46039f\"], [0.2222222222222222, \"#7201a8\"], [0.3333333333333333, \"#9c179e\"], [0.4444444444444444, \"#bd3786\"], [0.5555555555555556, \"#d8576b\"], [0.6666666666666666, \"#ed7953\"], [0.7777777777777778, \"#fb9f3a\"], [0.8888888888888888, \"#fdca26\"], [1.0, \"#f0f921\"]], \"type\": \"contour\"}], \"contourcarpet\": [{\"colorbar\": {\"outlinewidth\": 0, \"ticks\": \"\"}, \"type\": \"contourcarpet\"}], \"heatmap\": [{\"colorbar\": {\"outlinewidth\": 0, \"ticks\": \"\"}, \"colorscale\": [[0.0, \"#0d0887\"], [0.1111111111111111, \"#46039f\"], [0.2222222222222222, \"#7201a8\"], [0.3333333333333333, \"#9c179e\"], [0.4444444444444444, \"#bd3786\"], [0.5555555555555556, \"#d8576b\"], [0.6666666666666666, \"#ed7953\"], [0.7777777777777778, \"#fb9f3a\"], [0.8888888888888888, \"#fdca26\"], [1.0, \"#f0f921\"]], \"type\": \"heatmap\"}], \"heatmapgl\": [{\"colorbar\": {\"outlinewidth\": 0, \"ticks\": \"\"}, \"colorscale\": [[0.0, \"#0d0887\"], [0.1111111111111111, \"#46039f\"], [0.2222222222222222, \"#7201a8\"], [0.3333333333333333, \"#9c179e\"], [0.4444444444444444, \"#bd3786\"], [0.5555555555555556, \"#d8576b\"], [0.6666666666666666, \"#ed7953\"], [0.7777777777777778, \"#fb9f3a\"], [0.8888888888888888, \"#fdca26\"], [1.0, \"#f0f921\"]], \"type\": \"heatmapgl\"}], \"histogram\": [{\"marker\": {\"colorbar\": {\"outlinewidth\": 0, \"ticks\": \"\"}}, \"type\": \"histogram\"}], \"histogram2d\": [{\"colorbar\": {\"outlinewidth\": 0, \"ticks\": \"\"}, \"colorscale\": [[0.0, \"#0d0887\"], [0.1111111111111111, \"#46039f\"], [0.2222222222222222, \"#7201a8\"], [0.3333333333333333, \"#9c179e\"], [0.4444444444444444, \"#bd3786\"], [0.5555555555555556, \"#d8576b\"], [0.6666666666666666, \"#ed7953\"], [0.7777777777777778, \"#fb9f3a\"], [0.8888888888888888, \"#fdca26\"], [1.0, \"#f0f921\"]], \"type\": \"histogram2d\"}], \"histogram2dcontour\": [{\"colorbar\": {\"outlinewidth\": 0, \"ticks\": \"\"}, \"colorscale\": [[0.0, \"#0d0887\"], [0.1111111111111111, \"#46039f\"], [0.2222222222222222, \"#7201a8\"], [0.3333333333333333, \"#9c179e\"], [0.4444444444444444, \"#bd3786\"], [0.5555555555555556, \"#d8576b\"], [0.6666666666666666, \"#ed7953\"], [0.7777777777777778, \"#fb9f3a\"], [0.8888888888888888, \"#fdca26\"], [1.0, \"#f0f921\"]], \"type\": \"histogram2dcontour\"}], \"mesh3d\": [{\"colorbar\": {\"outlinewidth\": 0, \"ticks\": \"\"}, \"type\": \"mesh3d\"}], \"parcoords\": [{\"line\": {\"colorbar\": {\"outlinewidth\": 0, \"ticks\": \"\"}}, \"type\": \"parcoords\"}], \"pie\": [{\"automargin\": true, \"type\": \"pie\"}], \"scatter\": [{\"marker\": {\"colorbar\": {\"outlinewidth\": 0, \"ticks\": \"\"}}, \"type\": \"scatter\"}], \"scatter3d\": [{\"line\": {\"colorbar\": {\"outlinewidth\": 0, \"ticks\": \"\"}}, \"marker\": {\"colorbar\": {\"outlinewidth\": 0, \"ticks\": \"\"}}, \"type\": \"scatter3d\"}], \"scattercarpet\": [{\"marker\": {\"colorbar\": {\"outlinewidth\": 0, \"ticks\": \"\"}}, \"type\": \"scattercarpet\"}], \"scattergeo\": [{\"marker\": {\"colorbar\": {\"outlinewidth\": 0, \"ticks\": \"\"}}, \"type\": \"scattergeo\"}], \"scattergl\": [{\"marker\": {\"colorbar\": {\"outlinewidth\": 0, \"ticks\": \"\"}}, \"type\": \"scattergl\"}], \"scattermapbox\": [{\"marker\": {\"colorbar\": {\"outlinewidth\": 0, \"ticks\": \"\"}}, \"type\": \"scattermapbox\"}], \"scatterpolar\": [{\"marker\": {\"colorbar\": {\"outlinewidth\": 0, \"ticks\": \"\"}}, \"type\": \"scatterpolar\"}], \"scatterpolargl\": [{\"marker\": {\"colorbar\": {\"outlinewidth\": 0, \"ticks\": \"\"}}, \"type\": \"scatterpolargl\"}], \"scatterternary\": [{\"marker\": {\"colorbar\": {\"outlinewidth\": 0, \"ticks\": \"\"}}, \"type\": \"scatterternary\"}], \"surface\": [{\"colorbar\": {\"outlinewidth\": 0, \"ticks\": \"\"}, \"colorscale\": [[0.0, \"#0d0887\"], [0.1111111111111111, \"#46039f\"], [0.2222222222222222, \"#7201a8\"], [0.3333333333333333, \"#9c179e\"], [0.4444444444444444, \"#bd3786\"], [0.5555555555555556, \"#d8576b\"], [0.6666666666666666, \"#ed7953\"], [0.7777777777777778, \"#fb9f3a\"], [0.8888888888888888, \"#fdca26\"], [1.0, \"#f0f921\"]], \"type\": \"surface\"}], \"table\": [{\"cells\": {\"fill\": {\"color\": \"#EBF0F8\"}, \"line\": {\"color\": \"white\"}}, \"header\": {\"fill\": {\"color\": \"#C8D4E3\"}, \"line\": {\"color\": \"white\"}}, \"type\": \"table\"}]}, \"layout\": {\"annotationdefaults\": {\"arrowcolor\": \"#2a3f5f\", \"arrowhead\": 0, \"arrowwidth\": 1}, \"coloraxis\": {\"colorbar\": {\"outlinewidth\": 0, \"ticks\": \"\"}}, \"colorscale\": {\"diverging\": [[0, \"#8e0152\"], [0.1, \"#c51b7d\"], [0.2, \"#de77ae\"], [0.3, \"#f1b6da\"], [0.4, \"#fde0ef\"], [0.5, \"#f7f7f7\"], [0.6, \"#e6f5d0\"], [0.7, \"#b8e186\"], [0.8, \"#7fbc41\"], [0.9, \"#4d9221\"], [1, \"#276419\"]], \"sequential\": [[0.0, \"#0d0887\"], [0.1111111111111111, \"#46039f\"], [0.2222222222222222, \"#7201a8\"], [0.3333333333333333, \"#9c179e\"], [0.4444444444444444, \"#bd3786\"], [0.5555555555555556, \"#d8576b\"], [0.6666666666666666, \"#ed7953\"], [0.7777777777777778, \"#fb9f3a\"], [0.8888888888888888, \"#fdca26\"], [1.0, \"#f0f921\"]], \"sequentialminus\": [[0.0, \"#0d0887\"], [0.1111111111111111, \"#46039f\"], [0.2222222222222222, \"#7201a8\"], [0.3333333333333333, \"#9c179e\"], [0.4444444444444444, \"#bd3786\"], [0.5555555555555556, \"#d8576b\"], [0.6666666666666666, \"#ed7953\"], [0.7777777777777778, \"#fb9f3a\"], [0.8888888888888888, \"#fdca26\"], [1.0, \"#f0f921\"]]}, \"colorway\": [\"#636efa\", \"#EF553B\", \"#00cc96\", \"#ab63fa\", \"#FFA15A\", \"#19d3f3\", \"#FF6692\", \"#B6E880\", \"#FF97FF\", \"#FECB52\"], \"font\": {\"color\": \"#2a3f5f\"}, \"geo\": {\"bgcolor\": \"white\", \"lakecolor\": \"white\", \"landcolor\": \"#E5ECF6\", \"showlakes\": true, \"showland\": true, \"subunitcolor\": \"white\"}, \"hoverlabel\": {\"align\": \"left\"}, \"hovermode\": \"closest\", \"mapbox\": {\"style\": \"light\"}, \"paper_bgcolor\": \"white\", \"plot_bgcolor\": \"#E5ECF6\", \"polar\": {\"angularaxis\": {\"gridcolor\": \"white\", \"linecolor\": \"white\", \"ticks\": \"\"}, \"bgcolor\": \"#E5ECF6\", \"radialaxis\": {\"gridcolor\": \"white\", \"linecolor\": \"white\", \"ticks\": \"\"}}, \"scene\": {\"xaxis\": {\"backgroundcolor\": \"#E5ECF6\", \"gridcolor\": \"white\", \"gridwidth\": 2, \"linecolor\": \"white\", \"showbackground\": true, \"ticks\": \"\", \"zerolinecolor\": \"white\"}, \"yaxis\": {\"backgroundcolor\": \"#E5ECF6\", \"gridcolor\": \"white\", \"gridwidth\": 2, \"linecolor\": \"white\", \"showbackground\": true, \"ticks\": \"\", \"zerolinecolor\": \"white\"}, \"zaxis\": {\"backgroundcolor\": \"#E5ECF6\", \"gridcolor\": \"white\", \"gridwidth\": 2, \"linecolor\": \"white\", \"showbackground\": true, \"ticks\": \"\", \"zerolinecolor\": \"white\"}}, \"shapedefaults\": {\"line\": {\"color\": \"#2a3f5f\"}}, \"ternary\": {\"aaxis\": {\"gridcolor\": \"white\", \"linecolor\": \"white\", \"ticks\": \"\"}, \"baxis\": {\"gridcolor\": \"white\", \"linecolor\": \"white\", \"ticks\": \"\"}, \"bgcolor\": \"#E5ECF6\", \"caxis\": {\"gridcolor\": \"white\", \"linecolor\": \"white\", \"ticks\": \"\"}}, \"title\": {\"x\": 0.05}, \"xaxis\": {\"automargin\": true, \"gridcolor\": \"white\", \"linecolor\": \"white\", \"ticks\": \"\", \"title\": {\"standoff\": 15}, \"zerolinecolor\": \"white\", \"zerolinewidth\": 2}, \"yaxis\": {\"automargin\": true, \"gridcolor\": \"white\", \"linecolor\": \"white\", \"ticks\": \"\", \"title\": {\"standoff\": 15}, \"zerolinecolor\": \"white\", \"zerolinewidth\": 2}}}, \"title\": {\"text\": \"Cases per 1000 People by Race/Ethnic Group in IL\"}, \"xaxis\": {\"anchor\": \"y\", \"domain\": [0.0, 1.0], \"title\": {\"text\": \"cases_per1000\"}, \"visible\": false}, \"yaxis\": {\"anchor\": \"x\", \"categoryarray\": [\"white\", \"asian\", \"black\", \"other\", \"latinx\"], \"categoryorder\": \"array\", \"domain\": [0.0, 1.0], \"title\": {\"text\": \"race/ethnicity\"}}},\n",
       "                        {\"responsive\": true}\n",
       "                    ).then(function(){\n",
       "                            \n",
       "var gd = document.getElementById('0a9bf218-f789-4957-942b-faaa02a3d472');\n",
       "var x = new MutationObserver(function (mutations, observer) {{\n",
       "        var display = window.getComputedStyle(gd).display;\n",
       "        if (!display || display === 'none') {{\n",
       "            console.log([gd, 'removed!']);\n",
       "            Plotly.purge(gd);\n",
       "            observer.disconnect();\n",
       "        }}\n",
       "}});\n",
       "\n",
       "// Listen for the removal of the full notebook cells\n",
       "var notebookContainer = gd.closest('#notebook-container');\n",
       "if (notebookContainer) {{\n",
       "    x.observe(notebookContainer, {childList: true});\n",
       "}}\n",
       "\n",
       "// Listen for the clearing of the current output cell\n",
       "var outputEl = gd.closest('.output');\n",
       "if (outputEl) {{\n",
       "    x.observe(outputEl, {childList: true});\n",
       "}}\n",
       "\n",
       "                        })\n",
       "                };\n",
       "                });\n",
       "            </script>\n",
       "        </div>"
      ]
     },
     "metadata": {},
     "output_type": "display_data"
    }
   ],
   "source": [
    "# graph for il cases per 1000\n",
    "\n",
    "il_cases_per1000 = deaths_cases[['race/ethnicity','cases_per1000']] \n",
    "il_cases_per1000_sort = il_cases_per1000.sort_values(by='cases_per1000', ascending = False)\n",
    "\n",
    "import plotly.express as px\n",
    "fig = px.bar(il_cases_per1000_sort, x='cases_per1000', y='race/ethnicity', color='race/ethnicity', orientation='h',color_discrete_sequence=[\"blue\", \"orange\", \"purple\", \"red\", \"green\"],\n",
    "             title=\"Cases per 1000 People by Race/Ethnic Group in IL\", text = il_cases_per1000_sort[\"cases_per1000\"])\n",
    "fig.update_layout(xaxis={'visible': False})\n",
    "fig.update_traces(texttemplate='%{text:.2s}',textposition='outside')\n",
    "fig.write_image(\"zac files/output_files/il_cases_per1000_bar.png\")\n",
    "fig.show()\n"
   ]
  },
  {
   "cell_type": "code",
   "execution_count": 51,
   "metadata": {},
   "outputs": [
    {
     "data": {
      "application/vnd.plotly.v1+json": {
       "config": {
        "plotlyServerURL": "https://plot.ly"
       },
       "data": [
        {
         "alignmentgroup": "True",
         "hovertemplate": "race/ethnicity=%{y}<br>deaths_per1000=%{text}<extra></extra>",
         "legendgroup": "black",
         "marker": {
          "color": "blue"
         },
         "name": "black",
         "offsetgroup": "black",
         "orientation": "h",
         "showlegend": true,
         "text": [
          1.14
         ],
         "textposition": "outside",
         "texttemplate": "%{text:.2s}",
         "type": "bar",
         "x": [
          1.14
         ],
         "xaxis": "x",
         "y": [
          "black"
         ],
         "yaxis": "y"
        },
        {
         "alignmentgroup": "True",
         "hovertemplate": "race/ethnicity=%{y}<br>deaths_per1000=%{text}<extra></extra>",
         "legendgroup": "latinx",
         "marker": {
          "color": "orange"
         },
         "name": "latinx",
         "offsetgroup": "latinx",
         "orientation": "h",
         "showlegend": true,
         "text": [
          0.68
         ],
         "textposition": "outside",
         "texttemplate": "%{text:.2s}",
         "type": "bar",
         "x": [
          0.68
         ],
         "xaxis": "x",
         "y": [
          "latinx"
         ],
         "yaxis": "y"
        },
        {
         "alignmentgroup": "True",
         "hovertemplate": "race/ethnicity=%{y}<br>deaths_per1000=%{text}<extra></extra>",
         "legendgroup": "asian",
         "marker": {
          "color": "purple"
         },
         "name": "asian",
         "offsetgroup": "asian",
         "orientation": "h",
         "showlegend": true,
         "text": [
          0.49
         ],
         "textposition": "outside",
         "texttemplate": "%{text:.2s}",
         "type": "bar",
         "x": [
          0.49
         ],
         "xaxis": "x",
         "y": [
          "asian"
         ],
         "yaxis": "y"
        },
        {
         "alignmentgroup": "True",
         "hovertemplate": "race/ethnicity=%{y}<br>deaths_per1000=%{text}<extra></extra>",
         "legendgroup": "white",
         "marker": {
          "color": "red"
         },
         "name": "white",
         "offsetgroup": "white",
         "orientation": "h",
         "showlegend": true,
         "text": [
          0.41
         ],
         "textposition": "outside",
         "texttemplate": "%{text:.2s}",
         "type": "bar",
         "x": [
          0.41
         ],
         "xaxis": "x",
         "y": [
          "white"
         ],
         "yaxis": "y"
        },
        {
         "alignmentgroup": "True",
         "hovertemplate": "race/ethnicity=%{y}<br>deaths_per1000=%{text}<extra></extra>",
         "legendgroup": "other",
         "marker": {
          "color": "green"
         },
         "name": "other",
         "offsetgroup": "other",
         "orientation": "h",
         "showlegend": true,
         "text": [
          0.23
         ],
         "textposition": "outside",
         "texttemplate": "%{text:.2s}",
         "type": "bar",
         "x": [
          0.23
         ],
         "xaxis": "x",
         "y": [
          "other"
         ],
         "yaxis": "y"
        }
       ],
       "layout": {
        "autosize": true,
        "barmode": "relative",
        "legend": {
         "title": {
          "text": "race/ethnicity"
         },
         "tracegroupgap": 0
        },
        "template": {
         "data": {
          "bar": [
           {
            "error_x": {
             "color": "#2a3f5f"
            },
            "error_y": {
             "color": "#2a3f5f"
            },
            "marker": {
             "line": {
              "color": "#E5ECF6",
              "width": 0.5
             }
            },
            "type": "bar"
           }
          ],
          "barpolar": [
           {
            "marker": {
             "line": {
              "color": "#E5ECF6",
              "width": 0.5
             }
            },
            "type": "barpolar"
           }
          ],
          "carpet": [
           {
            "aaxis": {
             "endlinecolor": "#2a3f5f",
             "gridcolor": "white",
             "linecolor": "white",
             "minorgridcolor": "white",
             "startlinecolor": "#2a3f5f"
            },
            "baxis": {
             "endlinecolor": "#2a3f5f",
             "gridcolor": "white",
             "linecolor": "white",
             "minorgridcolor": "white",
             "startlinecolor": "#2a3f5f"
            },
            "type": "carpet"
           }
          ],
          "choropleth": [
           {
            "colorbar": {
             "outlinewidth": 0,
             "ticks": ""
            },
            "type": "choropleth"
           }
          ],
          "contour": [
           {
            "colorbar": {
             "outlinewidth": 0,
             "ticks": ""
            },
            "colorscale": [
             [
              0,
              "#0d0887"
             ],
             [
              0.1111111111111111,
              "#46039f"
             ],
             [
              0.2222222222222222,
              "#7201a8"
             ],
             [
              0.3333333333333333,
              "#9c179e"
             ],
             [
              0.4444444444444444,
              "#bd3786"
             ],
             [
              0.5555555555555556,
              "#d8576b"
             ],
             [
              0.6666666666666666,
              "#ed7953"
             ],
             [
              0.7777777777777778,
              "#fb9f3a"
             ],
             [
              0.8888888888888888,
              "#fdca26"
             ],
             [
              1,
              "#f0f921"
             ]
            ],
            "type": "contour"
           }
          ],
          "contourcarpet": [
           {
            "colorbar": {
             "outlinewidth": 0,
             "ticks": ""
            },
            "type": "contourcarpet"
           }
          ],
          "heatmap": [
           {
            "colorbar": {
             "outlinewidth": 0,
             "ticks": ""
            },
            "colorscale": [
             [
              0,
              "#0d0887"
             ],
             [
              0.1111111111111111,
              "#46039f"
             ],
             [
              0.2222222222222222,
              "#7201a8"
             ],
             [
              0.3333333333333333,
              "#9c179e"
             ],
             [
              0.4444444444444444,
              "#bd3786"
             ],
             [
              0.5555555555555556,
              "#d8576b"
             ],
             [
              0.6666666666666666,
              "#ed7953"
             ],
             [
              0.7777777777777778,
              "#fb9f3a"
             ],
             [
              0.8888888888888888,
              "#fdca26"
             ],
             [
              1,
              "#f0f921"
             ]
            ],
            "type": "heatmap"
           }
          ],
          "heatmapgl": [
           {
            "colorbar": {
             "outlinewidth": 0,
             "ticks": ""
            },
            "colorscale": [
             [
              0,
              "#0d0887"
             ],
             [
              0.1111111111111111,
              "#46039f"
             ],
             [
              0.2222222222222222,
              "#7201a8"
             ],
             [
              0.3333333333333333,
              "#9c179e"
             ],
             [
              0.4444444444444444,
              "#bd3786"
             ],
             [
              0.5555555555555556,
              "#d8576b"
             ],
             [
              0.6666666666666666,
              "#ed7953"
             ],
             [
              0.7777777777777778,
              "#fb9f3a"
             ],
             [
              0.8888888888888888,
              "#fdca26"
             ],
             [
              1,
              "#f0f921"
             ]
            ],
            "type": "heatmapgl"
           }
          ],
          "histogram": [
           {
            "marker": {
             "colorbar": {
              "outlinewidth": 0,
              "ticks": ""
             }
            },
            "type": "histogram"
           }
          ],
          "histogram2d": [
           {
            "colorbar": {
             "outlinewidth": 0,
             "ticks": ""
            },
            "colorscale": [
             [
              0,
              "#0d0887"
             ],
             [
              0.1111111111111111,
              "#46039f"
             ],
             [
              0.2222222222222222,
              "#7201a8"
             ],
             [
              0.3333333333333333,
              "#9c179e"
             ],
             [
              0.4444444444444444,
              "#bd3786"
             ],
             [
              0.5555555555555556,
              "#d8576b"
             ],
             [
              0.6666666666666666,
              "#ed7953"
             ],
             [
              0.7777777777777778,
              "#fb9f3a"
             ],
             [
              0.8888888888888888,
              "#fdca26"
             ],
             [
              1,
              "#f0f921"
             ]
            ],
            "type": "histogram2d"
           }
          ],
          "histogram2dcontour": [
           {
            "colorbar": {
             "outlinewidth": 0,
             "ticks": ""
            },
            "colorscale": [
             [
              0,
              "#0d0887"
             ],
             [
              0.1111111111111111,
              "#46039f"
             ],
             [
              0.2222222222222222,
              "#7201a8"
             ],
             [
              0.3333333333333333,
              "#9c179e"
             ],
             [
              0.4444444444444444,
              "#bd3786"
             ],
             [
              0.5555555555555556,
              "#d8576b"
             ],
             [
              0.6666666666666666,
              "#ed7953"
             ],
             [
              0.7777777777777778,
              "#fb9f3a"
             ],
             [
              0.8888888888888888,
              "#fdca26"
             ],
             [
              1,
              "#f0f921"
             ]
            ],
            "type": "histogram2dcontour"
           }
          ],
          "mesh3d": [
           {
            "colorbar": {
             "outlinewidth": 0,
             "ticks": ""
            },
            "type": "mesh3d"
           }
          ],
          "parcoords": [
           {
            "line": {
             "colorbar": {
              "outlinewidth": 0,
              "ticks": ""
             }
            },
            "type": "parcoords"
           }
          ],
          "pie": [
           {
            "automargin": true,
            "type": "pie"
           }
          ],
          "scatter": [
           {
            "marker": {
             "colorbar": {
              "outlinewidth": 0,
              "ticks": ""
             }
            },
            "type": "scatter"
           }
          ],
          "scatter3d": [
           {
            "line": {
             "colorbar": {
              "outlinewidth": 0,
              "ticks": ""
             }
            },
            "marker": {
             "colorbar": {
              "outlinewidth": 0,
              "ticks": ""
             }
            },
            "type": "scatter3d"
           }
          ],
          "scattercarpet": [
           {
            "marker": {
             "colorbar": {
              "outlinewidth": 0,
              "ticks": ""
             }
            },
            "type": "scattercarpet"
           }
          ],
          "scattergeo": [
           {
            "marker": {
             "colorbar": {
              "outlinewidth": 0,
              "ticks": ""
             }
            },
            "type": "scattergeo"
           }
          ],
          "scattergl": [
           {
            "marker": {
             "colorbar": {
              "outlinewidth": 0,
              "ticks": ""
             }
            },
            "type": "scattergl"
           }
          ],
          "scattermapbox": [
           {
            "marker": {
             "colorbar": {
              "outlinewidth": 0,
              "ticks": ""
             }
            },
            "type": "scattermapbox"
           }
          ],
          "scatterpolar": [
           {
            "marker": {
             "colorbar": {
              "outlinewidth": 0,
              "ticks": ""
             }
            },
            "type": "scatterpolar"
           }
          ],
          "scatterpolargl": [
           {
            "marker": {
             "colorbar": {
              "outlinewidth": 0,
              "ticks": ""
             }
            },
            "type": "scatterpolargl"
           }
          ],
          "scatterternary": [
           {
            "marker": {
             "colorbar": {
              "outlinewidth": 0,
              "ticks": ""
             }
            },
            "type": "scatterternary"
           }
          ],
          "surface": [
           {
            "colorbar": {
             "outlinewidth": 0,
             "ticks": ""
            },
            "colorscale": [
             [
              0,
              "#0d0887"
             ],
             [
              0.1111111111111111,
              "#46039f"
             ],
             [
              0.2222222222222222,
              "#7201a8"
             ],
             [
              0.3333333333333333,
              "#9c179e"
             ],
             [
              0.4444444444444444,
              "#bd3786"
             ],
             [
              0.5555555555555556,
              "#d8576b"
             ],
             [
              0.6666666666666666,
              "#ed7953"
             ],
             [
              0.7777777777777778,
              "#fb9f3a"
             ],
             [
              0.8888888888888888,
              "#fdca26"
             ],
             [
              1,
              "#f0f921"
             ]
            ],
            "type": "surface"
           }
          ],
          "table": [
           {
            "cells": {
             "fill": {
              "color": "#EBF0F8"
             },
             "line": {
              "color": "white"
             }
            },
            "header": {
             "fill": {
              "color": "#C8D4E3"
             },
             "line": {
              "color": "white"
             }
            },
            "type": "table"
           }
          ]
         },
         "layout": {
          "annotationdefaults": {
           "arrowcolor": "#2a3f5f",
           "arrowhead": 0,
           "arrowwidth": 1
          },
          "coloraxis": {
           "colorbar": {
            "outlinewidth": 0,
            "ticks": ""
           }
          },
          "colorscale": {
           "diverging": [
            [
             0,
             "#8e0152"
            ],
            [
             0.1,
             "#c51b7d"
            ],
            [
             0.2,
             "#de77ae"
            ],
            [
             0.3,
             "#f1b6da"
            ],
            [
             0.4,
             "#fde0ef"
            ],
            [
             0.5,
             "#f7f7f7"
            ],
            [
             0.6,
             "#e6f5d0"
            ],
            [
             0.7,
             "#b8e186"
            ],
            [
             0.8,
             "#7fbc41"
            ],
            [
             0.9,
             "#4d9221"
            ],
            [
             1,
             "#276419"
            ]
           ],
           "sequential": [
            [
             0,
             "#0d0887"
            ],
            [
             0.1111111111111111,
             "#46039f"
            ],
            [
             0.2222222222222222,
             "#7201a8"
            ],
            [
             0.3333333333333333,
             "#9c179e"
            ],
            [
             0.4444444444444444,
             "#bd3786"
            ],
            [
             0.5555555555555556,
             "#d8576b"
            ],
            [
             0.6666666666666666,
             "#ed7953"
            ],
            [
             0.7777777777777778,
             "#fb9f3a"
            ],
            [
             0.8888888888888888,
             "#fdca26"
            ],
            [
             1,
             "#f0f921"
            ]
           ],
           "sequentialminus": [
            [
             0,
             "#0d0887"
            ],
            [
             0.1111111111111111,
             "#46039f"
            ],
            [
             0.2222222222222222,
             "#7201a8"
            ],
            [
             0.3333333333333333,
             "#9c179e"
            ],
            [
             0.4444444444444444,
             "#bd3786"
            ],
            [
             0.5555555555555556,
             "#d8576b"
            ],
            [
             0.6666666666666666,
             "#ed7953"
            ],
            [
             0.7777777777777778,
             "#fb9f3a"
            ],
            [
             0.8888888888888888,
             "#fdca26"
            ],
            [
             1,
             "#f0f921"
            ]
           ]
          },
          "colorway": [
           "#636efa",
           "#EF553B",
           "#00cc96",
           "#ab63fa",
           "#FFA15A",
           "#19d3f3",
           "#FF6692",
           "#B6E880",
           "#FF97FF",
           "#FECB52"
          ],
          "font": {
           "color": "#2a3f5f"
          },
          "geo": {
           "bgcolor": "white",
           "lakecolor": "white",
           "landcolor": "#E5ECF6",
           "showlakes": true,
           "showland": true,
           "subunitcolor": "white"
          },
          "hoverlabel": {
           "align": "left"
          },
          "hovermode": "closest",
          "mapbox": {
           "style": "light"
          },
          "paper_bgcolor": "white",
          "plot_bgcolor": "#E5ECF6",
          "polar": {
           "angularaxis": {
            "gridcolor": "white",
            "linecolor": "white",
            "ticks": ""
           },
           "bgcolor": "#E5ECF6",
           "radialaxis": {
            "gridcolor": "white",
            "linecolor": "white",
            "ticks": ""
           }
          },
          "scene": {
           "xaxis": {
            "backgroundcolor": "#E5ECF6",
            "gridcolor": "white",
            "gridwidth": 2,
            "linecolor": "white",
            "showbackground": true,
            "ticks": "",
            "zerolinecolor": "white"
           },
           "yaxis": {
            "backgroundcolor": "#E5ECF6",
            "gridcolor": "white",
            "gridwidth": 2,
            "linecolor": "white",
            "showbackground": true,
            "ticks": "",
            "zerolinecolor": "white"
           },
           "zaxis": {
            "backgroundcolor": "#E5ECF6",
            "gridcolor": "white",
            "gridwidth": 2,
            "linecolor": "white",
            "showbackground": true,
            "ticks": "",
            "zerolinecolor": "white"
           }
          },
          "shapedefaults": {
           "line": {
            "color": "#2a3f5f"
           }
          },
          "ternary": {
           "aaxis": {
            "gridcolor": "white",
            "linecolor": "white",
            "ticks": ""
           },
           "baxis": {
            "gridcolor": "white",
            "linecolor": "white",
            "ticks": ""
           },
           "bgcolor": "#E5ECF6",
           "caxis": {
            "gridcolor": "white",
            "linecolor": "white",
            "ticks": ""
           }
          },
          "title": {
           "x": 0.05
          },
          "xaxis": {
           "automargin": true,
           "gridcolor": "white",
           "linecolor": "white",
           "ticks": "",
           "title": {
            "standoff": 15
           },
           "zerolinecolor": "white",
           "zerolinewidth": 2
          },
          "yaxis": {
           "automargin": true,
           "gridcolor": "white",
           "linecolor": "white",
           "ticks": "",
           "title": {
            "standoff": 15
           },
           "zerolinecolor": "white",
           "zerolinewidth": 2
          }
         }
        },
        "title": {
         "text": "Deaths per 1000 People by Race/Ethnic Group in IL"
        },
        "xaxis": {
         "anchor": "y",
         "autorange": true,
         "domain": [
          0,
          1
         ],
         "range": [
          0,
          1.2
         ],
         "title": {
          "text": "deaths_per1000"
         },
         "type": "linear",
         "visible": false
        },
        "yaxis": {
         "anchor": "x",
         "autorange": true,
         "categoryarray": [
          "other",
          "white",
          "asian",
          "latinx",
          "black"
         ],
         "categoryorder": "array",
         "domain": [
          0,
          1
         ],
         "range": [
          -0.5,
          4.5
         ],
         "title": {
          "text": "race/ethnicity"
         },
         "type": "category"
        }
       }
      },
      "image/png": "[encoded data removed]",
      "text/html": [
       "<div>\n",
       "        \n",
       "        \n",
       "            <div id=\"e1c5666a-f531-4c38-8d31-ea7e7532ffd4\" class=\"plotly-graph-div\" style=\"height:525px; width:100%;\"></div>\n",
       "            <script type=\"text/javascript\">\n",
       "                require([\"plotly\"], function(Plotly) {\n",
       "                    window.PLOTLYENV=window.PLOTLYENV || {};\n",
       "                    \n",
       "                if (document.getElementById(\"e1c5666a-f531-4c38-8d31-ea7e7532ffd4\")) {\n",
       "                    Plotly.newPlot(\n",
       "                        'e1c5666a-f531-4c38-8d31-ea7e7532ffd4',\n",
       "                        [{\"alignmentgroup\": \"True\", \"hovertemplate\": \"race/ethnicity=%{y}<br>deaths_per1000=%{text}<extra></extra>\", \"legendgroup\": \"black\", \"marker\": {\"color\": \"blue\"}, \"name\": \"black\", \"offsetgroup\": \"black\", \"orientation\": \"h\", \"showlegend\": true, \"text\": [1.14], \"textposition\": \"outside\", \"texttemplate\": \"%{text:.2s}\", \"type\": \"bar\", \"x\": [1.14], \"xaxis\": \"x\", \"y\": [\"black\"], \"yaxis\": \"y\"}, {\"alignmentgroup\": \"True\", \"hovertemplate\": \"race/ethnicity=%{y}<br>deaths_per1000=%{text}<extra></extra>\", \"legendgroup\": \"latinx\", \"marker\": {\"color\": \"orange\"}, \"name\": \"latinx\", \"offsetgroup\": \"latinx\", \"orientation\": \"h\", \"showlegend\": true, \"text\": [0.68], \"textposition\": \"outside\", \"texttemplate\": \"%{text:.2s}\", \"type\": \"bar\", \"x\": [0.68], \"xaxis\": \"x\", \"y\": [\"latinx\"], \"yaxis\": \"y\"}, {\"alignmentgroup\": \"True\", \"hovertemplate\": \"race/ethnicity=%{y}<br>deaths_per1000=%{text}<extra></extra>\", \"legendgroup\": \"asian\", \"marker\": {\"color\": \"purple\"}, \"name\": \"asian\", \"offsetgroup\": \"asian\", \"orientation\": \"h\", \"showlegend\": true, \"text\": [0.49], \"textposition\": \"outside\", \"texttemplate\": \"%{text:.2s}\", \"type\": \"bar\", \"x\": [0.49], \"xaxis\": \"x\", \"y\": [\"asian\"], \"yaxis\": \"y\"}, {\"alignmentgroup\": \"True\", \"hovertemplate\": \"race/ethnicity=%{y}<br>deaths_per1000=%{text}<extra></extra>\", \"legendgroup\": \"white\", \"marker\": {\"color\": \"red\"}, \"name\": \"white\", \"offsetgroup\": \"white\", \"orientation\": \"h\", \"showlegend\": true, \"text\": [0.41], \"textposition\": \"outside\", \"texttemplate\": \"%{text:.2s}\", \"type\": \"bar\", \"x\": [0.41], \"xaxis\": \"x\", \"y\": [\"white\"], \"yaxis\": \"y\"}, {\"alignmentgroup\": \"True\", \"hovertemplate\": \"race/ethnicity=%{y}<br>deaths_per1000=%{text}<extra></extra>\", \"legendgroup\": \"other\", \"marker\": {\"color\": \"green\"}, \"name\": \"other\", \"offsetgroup\": \"other\", \"orientation\": \"h\", \"showlegend\": true, \"text\": [0.23], \"textposition\": \"outside\", \"texttemplate\": \"%{text:.2s}\", \"type\": \"bar\", \"x\": [0.23], \"xaxis\": \"x\", \"y\": [\"other\"], \"yaxis\": \"y\"}],\n",
       "                        {\"barmode\": \"relative\", \"legend\": {\"title\": {\"text\": \"race/ethnicity\"}, \"tracegroupgap\": 0}, \"template\": {\"data\": {\"bar\": [{\"error_x\": {\"color\": \"#2a3f5f\"}, \"error_y\": {\"color\": \"#2a3f5f\"}, \"marker\": {\"line\": {\"color\": \"#E5ECF6\", \"width\": 0.5}}, \"type\": \"bar\"}], \"barpolar\": [{\"marker\": {\"line\": {\"color\": \"#E5ECF6\", \"width\": 0.5}}, \"type\": \"barpolar\"}], \"carpet\": [{\"aaxis\": {\"endlinecolor\": \"#2a3f5f\", \"gridcolor\": \"white\", \"linecolor\": \"white\", \"minorgridcolor\": \"white\", \"startlinecolor\": \"#2a3f5f\"}, \"baxis\": {\"endlinecolor\": \"#2a3f5f\", \"gridcolor\": \"white\", \"linecolor\": \"white\", \"minorgridcolor\": \"white\", \"startlinecolor\": \"#2a3f5f\"}, \"type\": \"carpet\"}], \"choropleth\": [{\"colorbar\": {\"outlinewidth\": 0, \"ticks\": \"\"}, \"type\": \"choropleth\"}], \"contour\": [{\"colorbar\": {\"outlinewidth\": 0, \"ticks\": \"\"}, \"colorscale\": [[0.0, \"#0d0887\"], [0.1111111111111111, \"#46039f\"], [0.2222222222222222, \"#7201a8\"], [0.3333333333333333, \"#9c179e\"], [0.4444444444444444, \"#bd3786\"], [0.5555555555555556, \"#d8576b\"], [0.6666666666666666, \"#ed7953\"], [0.7777777777777778, \"#fb9f3a\"], [0.8888888888888888, \"#fdca26\"], [1.0, \"#f0f921\"]], \"type\": \"contour\"}], \"contourcarpet\": [{\"colorbar\": {\"outlinewidth\": 0, \"ticks\": \"\"}, \"type\": \"contourcarpet\"}], \"heatmap\": [{\"colorbar\": {\"outlinewidth\": 0, \"ticks\": \"\"}, \"colorscale\": [[0.0, \"#0d0887\"], [0.1111111111111111, \"#46039f\"], [0.2222222222222222, \"#7201a8\"], [0.3333333333333333, \"#9c179e\"], [0.4444444444444444, \"#bd3786\"], [0.5555555555555556, \"#d8576b\"], [0.6666666666666666, \"#ed7953\"], [0.7777777777777778, \"#fb9f3a\"], [0.8888888888888888, \"#fdca26\"], [1.0, \"#f0f921\"]], \"type\": \"heatmap\"}], \"heatmapgl\": [{\"colorbar\": {\"outlinewidth\": 0, \"ticks\": \"\"}, \"colorscale\": [[0.0, \"#0d0887\"], [0.1111111111111111, \"#46039f\"], [0.2222222222222222, \"#7201a8\"], [0.3333333333333333, \"#9c179e\"], [0.4444444444444444, \"#bd3786\"], [0.5555555555555556, \"#d8576b\"], [0.6666666666666666, \"#ed7953\"], [0.7777777777777778, \"#fb9f3a\"], [0.8888888888888888, \"#fdca26\"], [1.0, \"#f0f921\"]], \"type\": \"heatmapgl\"}], \"histogram\": [{\"marker\": {\"colorbar\": {\"outlinewidth\": 0, \"ticks\": \"\"}}, \"type\": \"histogram\"}], \"histogram2d\": [{\"colorbar\": {\"outlinewidth\": 0, \"ticks\": \"\"}, \"colorscale\": [[0.0, \"#0d0887\"], [0.1111111111111111, \"#46039f\"], [0.2222222222222222, \"#7201a8\"], [0.3333333333333333, \"#9c179e\"], [0.4444444444444444, \"#bd3786\"], [0.5555555555555556, \"#d8576b\"], [0.6666666666666666, \"#ed7953\"], [0.7777777777777778, \"#fb9f3a\"], [0.8888888888888888, \"#fdca26\"], [1.0, \"#f0f921\"]], \"type\": \"histogram2d\"}], \"histogram2dcontour\": [{\"colorbar\": {\"outlinewidth\": 0, \"ticks\": \"\"}, \"colorscale\": [[0.0, \"#0d0887\"], [0.1111111111111111, \"#46039f\"], [0.2222222222222222, \"#7201a8\"], [0.3333333333333333, \"#9c179e\"], [0.4444444444444444, \"#bd3786\"], [0.5555555555555556, \"#d8576b\"], [0.6666666666666666, \"#ed7953\"], [0.7777777777777778, \"#fb9f3a\"], [0.8888888888888888, \"#fdca26\"], [1.0, \"#f0f921\"]], \"type\": \"histogram2dcontour\"}], \"mesh3d\": [{\"colorbar\": {\"outlinewidth\": 0, \"ticks\": \"\"}, \"type\": \"mesh3d\"}], \"parcoords\": [{\"line\": {\"colorbar\": {\"outlinewidth\": 0, \"ticks\": \"\"}}, \"type\": \"parcoords\"}], \"pie\": [{\"automargin\": true, \"type\": \"pie\"}], \"scatter\": [{\"marker\": {\"colorbar\": {\"outlinewidth\": 0, \"ticks\": \"\"}}, \"type\": \"scatter\"}], \"scatter3d\": [{\"line\": {\"colorbar\": {\"outlinewidth\": 0, \"ticks\": \"\"}}, \"marker\": {\"colorbar\": {\"outlinewidth\": 0, \"ticks\": \"\"}}, \"type\": \"scatter3d\"}], \"scattercarpet\": [{\"marker\": {\"colorbar\": {\"outlinewidth\": 0, \"ticks\": \"\"}}, \"type\": \"scattercarpet\"}], \"scattergeo\": [{\"marker\": {\"colorbar\": {\"outlinewidth\": 0, \"ticks\": \"\"}}, \"type\": \"scattergeo\"}], \"scattergl\": [{\"marker\": {\"colorbar\": {\"outlinewidth\": 0, \"ticks\": \"\"}}, \"type\": \"scattergl\"}], \"scattermapbox\": [{\"marker\": {\"colorbar\": {\"outlinewidth\": 0, \"ticks\": \"\"}}, \"type\": \"scattermapbox\"}], \"scatterpolar\": [{\"marker\": {\"colorbar\": {\"outlinewidth\": 0, \"ticks\": \"\"}}, \"type\": \"scatterpolar\"}], \"scatterpolargl\": [{\"marker\": {\"colorbar\": {\"outlinewidth\": 0, \"ticks\": \"\"}}, \"type\": \"scatterpolargl\"}], \"scatterternary\": [{\"marker\": {\"colorbar\": {\"outlinewidth\": 0, \"ticks\": \"\"}}, \"type\": \"scatterternary\"}], \"surface\": [{\"colorbar\": {\"outlinewidth\": 0, \"ticks\": \"\"}, \"colorscale\": [[0.0, \"#0d0887\"], [0.1111111111111111, \"#46039f\"], [0.2222222222222222, \"#7201a8\"], [0.3333333333333333, \"#9c179e\"], [0.4444444444444444, \"#bd3786\"], [0.5555555555555556, \"#d8576b\"], [0.6666666666666666, \"#ed7953\"], [0.7777777777777778, \"#fb9f3a\"], [0.8888888888888888, \"#fdca26\"], [1.0, \"#f0f921\"]], \"type\": \"surface\"}], \"table\": [{\"cells\": {\"fill\": {\"color\": \"#EBF0F8\"}, \"line\": {\"color\": \"white\"}}, \"header\": {\"fill\": {\"color\": \"#C8D4E3\"}, \"line\": {\"color\": \"white\"}}, \"type\": \"table\"}]}, \"layout\": {\"annotationdefaults\": {\"arrowcolor\": \"#2a3f5f\", \"arrowhead\": 0, \"arrowwidth\": 1}, \"coloraxis\": {\"colorbar\": {\"outlinewidth\": 0, \"ticks\": \"\"}}, \"colorscale\": {\"diverging\": [[0, \"#8e0152\"], [0.1, \"#c51b7d\"], [0.2, \"#de77ae\"], [0.3, \"#f1b6da\"], [0.4, \"#fde0ef\"], [0.5, \"#f7f7f7\"], [0.6, \"#e6f5d0\"], [0.7, \"#b8e186\"], [0.8, \"#7fbc41\"], [0.9, \"#4d9221\"], [1, \"#276419\"]], \"sequential\": [[0.0, \"#0d0887\"], [0.1111111111111111, \"#46039f\"], [0.2222222222222222, \"#7201a8\"], [0.3333333333333333, \"#9c179e\"], [0.4444444444444444, \"#bd3786\"], [0.5555555555555556, \"#d8576b\"], [0.6666666666666666, \"#ed7953\"], [0.7777777777777778, \"#fb9f3a\"], [0.8888888888888888, \"#fdca26\"], [1.0, \"#f0f921\"]], \"sequentialminus\": [[0.0, \"#0d0887\"], [0.1111111111111111, \"#46039f\"], [0.2222222222222222, \"#7201a8\"], [0.3333333333333333, \"#9c179e\"], [0.4444444444444444, \"#bd3786\"], [0.5555555555555556, \"#d8576b\"], [0.6666666666666666, \"#ed7953\"], [0.7777777777777778, \"#fb9f3a\"], [0.8888888888888888, \"#fdca26\"], [1.0, \"#f0f921\"]]}, \"colorway\": [\"#636efa\", \"#EF553B\", \"#00cc96\", \"#ab63fa\", \"#FFA15A\", \"#19d3f3\", \"#FF6692\", \"#B6E880\", \"#FF97FF\", \"#FECB52\"], \"font\": {\"color\": \"#2a3f5f\"}, \"geo\": {\"bgcolor\": \"white\", \"lakecolor\": \"white\", \"landcolor\": \"#E5ECF6\", \"showlakes\": true, \"showland\": true, \"subunitcolor\": \"white\"}, \"hoverlabel\": {\"align\": \"left\"}, \"hovermode\": \"closest\", \"mapbox\": {\"style\": \"light\"}, \"paper_bgcolor\": \"white\", \"plot_bgcolor\": \"#E5ECF6\", \"polar\": {\"angularaxis\": {\"gridcolor\": \"white\", \"linecolor\": \"white\", \"ticks\": \"\"}, \"bgcolor\": \"#E5ECF6\", \"radialaxis\": {\"gridcolor\": \"white\", \"linecolor\": \"white\", \"ticks\": \"\"}}, \"scene\": {\"xaxis\": {\"backgroundcolor\": \"#E5ECF6\", \"gridcolor\": \"white\", \"gridwidth\": 2, \"linecolor\": \"white\", \"showbackground\": true, \"ticks\": \"\", \"zerolinecolor\": \"white\"}, \"yaxis\": {\"backgroundcolor\": \"#E5ECF6\", \"gridcolor\": \"white\", \"gridwidth\": 2, \"linecolor\": \"white\", \"showbackground\": true, \"ticks\": \"\", \"zerolinecolor\": \"white\"}, \"zaxis\": {\"backgroundcolor\": \"#E5ECF6\", \"gridcolor\": \"white\", \"gridwidth\": 2, \"linecolor\": \"white\", \"showbackground\": true, \"ticks\": \"\", \"zerolinecolor\": \"white\"}}, \"shapedefaults\": {\"line\": {\"color\": \"#2a3f5f\"}}, \"ternary\": {\"aaxis\": {\"gridcolor\": \"white\", \"linecolor\": \"white\", \"ticks\": \"\"}, \"baxis\": {\"gridcolor\": \"white\", \"linecolor\": \"white\", \"ticks\": \"\"}, \"bgcolor\": \"#E5ECF6\", \"caxis\": {\"gridcolor\": \"white\", \"linecolor\": \"white\", \"ticks\": \"\"}}, \"title\": {\"x\": 0.05}, \"xaxis\": {\"automargin\": true, \"gridcolor\": \"white\", \"linecolor\": \"white\", \"ticks\": \"\", \"title\": {\"standoff\": 15}, \"zerolinecolor\": \"white\", \"zerolinewidth\": 2}, \"yaxis\": {\"automargin\": true, \"gridcolor\": \"white\", \"linecolor\": \"white\", \"ticks\": \"\", \"title\": {\"standoff\": 15}, \"zerolinecolor\": \"white\", \"zerolinewidth\": 2}}}, \"title\": {\"text\": \"Deaths per 1000 People by Race/Ethnic Group in IL\"}, \"xaxis\": {\"anchor\": \"y\", \"domain\": [0.0, 1.0], \"title\": {\"text\": \"deaths_per1000\"}, \"visible\": false}, \"yaxis\": {\"anchor\": \"x\", \"categoryarray\": [\"other\", \"white\", \"asian\", \"latinx\", \"black\"], \"categoryorder\": \"array\", \"domain\": [0.0, 1.0], \"title\": {\"text\": \"race/ethnicity\"}}},\n",
       "                        {\"responsive\": true}\n",
       "                    ).then(function(){\n",
       "                            \n",
       "var gd = document.getElementById('e1c5666a-f531-4c38-8d31-ea7e7532ffd4');\n",
       "var x = new MutationObserver(function (mutations, observer) {{\n",
       "        var display = window.getComputedStyle(gd).display;\n",
       "        if (!display || display === 'none') {{\n",
       "            console.log([gd, 'removed!']);\n",
       "            Plotly.purge(gd);\n",
       "            observer.disconnect();\n",
       "        }}\n",
       "}});\n",
       "\n",
       "// Listen for the removal of the full notebook cells\n",
       "var notebookContainer = gd.closest('#notebook-container');\n",
       "if (notebookContainer) {{\n",
       "    x.observe(notebookContainer, {childList: true});\n",
       "}}\n",
       "\n",
       "// Listen for the clearing of the current output cell\n",
       "var outputEl = gd.closest('.output');\n",
       "if (outputEl) {{\n",
       "    x.observe(outputEl, {childList: true});\n",
       "}}\n",
       "\n",
       "                        })\n",
       "                };\n",
       "                });\n",
       "            </script>\n",
       "        </div>"
      ]
     },
     "metadata": {},
     "output_type": "display_data"
    }
   ],
   "source": [
    "# graph for il deaths per 1000\n",
    "\n",
    "il_deaths_per1000=deaths_cases[['race/ethnicity','deaths_per1000']] \n",
    "il_deaths_per1000_sort = il_deaths_per1000.sort_values(by='deaths_per1000', ascending = False)\n",
    "\n",
    "import plotly.express as px\n",
    "fig = px.bar(il_deaths_per1000_sort, x='deaths_per1000', y='race/ethnicity', color='race/ethnicity', orientation='h',color_discrete_sequence=[\"blue\", \"orange\", \"purple\", \"red\", \"green\"],\n",
    "             title=\"Deaths per 1000 People by Race/Ethnic Group in IL\", text = il_deaths_per1000_sort[\"deaths_per1000\"])\n",
    "fig.update_layout(xaxis={'visible': False})\n",
    "fig.update_traces(texttemplate='%{text:.2s}',textposition='outside')\n",
    "fig.write_image(\"zac files/output_files/il_deaths_per1000_bar.png\")\n",
    "fig.show()\n"
   ]
  },
  {
   "cell_type": "code",
   "execution_count": null,
   "metadata": {},
   "outputs": [],
   "source": []
  },
  {
   "cell_type": "code",
   "execution_count": null,
   "metadata": {},
   "outputs": [],
   "source": []
  }
 ],
 "metadata": {
  "kernelspec": {
   "display_name": "Python 3",
   "language": "python",
   "name": "python3"
  },
  "language_info": {
   "codemirror_mode": {
    "name": "ipython",
    "version": 3
   },
   "file_extension": ".py",
   "mimetype": "text/x-python",
   "name": "python",
   "nbconvert_exporter": "python",
   "pygments_lexer": "ipython3",
   "version": "3.7.4"
  }
 },
 "nbformat": 4,
 "nbformat_minor": 4
}
